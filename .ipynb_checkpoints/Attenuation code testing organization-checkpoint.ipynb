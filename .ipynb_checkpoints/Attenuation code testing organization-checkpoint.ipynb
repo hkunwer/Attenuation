{
 "cells": [
  {
   "cell_type": "code",
   "execution_count": 1,
   "id": "eabc123b",
   "metadata": {},
   "outputs": [],
   "source": [
    "#obspy\n",
    "from obspy import UTCDateTime\n",
    "from obspy.taup import TauPyModel\n",
    "model = TauPyModel(model=\"iasp91\")\n",
    "#rtergpy (Andy's code)\n",
    "from rtergpy.run import defaults, event, etime2name\n",
    "from rtergpy.waveforms import getwaves, get_respinv\n",
    "#attenuation (Hiba's code)\n",
    "from AttenuationFunctions import processANSS, filtering, maxamp_calc, organize_data, maxamp_plot"
   ]
  },
  {
   "cell_type": "code",
   "execution_count": 2,
   "id": "b3b54fd1",
   "metadata": {},
   "outputs": [],
   "source": [
    "#obspy\n",
    "from obspy import UTCDateTime\n",
    "from obspy.taup import TauPyModel\n",
    "model = TauPyModel(model=\"iasp91\")\n",
    "#rtergpy (Andy's code)\n",
    "from rtergpy.run import defaults, event, etime2name\n",
    "from rtergpy.waveforms import getwaves, get_respinv\n",
    "#attenuation (Hiba's code)\n",
    "from AttenuationFunctions import processANSS, filtering, maxamp_calc, organize_data, maxamp_plot"
   ]
  },
  {
   "cell_type": "code",
   "execution_count": 23,
   "id": "1133cca3",
   "metadata": {
    "scrolled": true
   },
   "outputs": [
    {
     "name": "stdout",
     "output_type": "stream",
     "text": [
      "\n",
      "\n",
      "2022012400 ===============================\n",
      "ERROR:  coudn't move directory to  /Users/hkunwer/Documents/research/EQenergy/events/2022/2022012400/IRIS.bak\n",
      "Error:  Couldn't create directory:  /Users/hkunwer/Documents/research/EQenergy/events/2022/2022012400/IRIS\n",
      "Checking for stations available within range from IRIS\n",
      "Getting waves from IRIS\n"
     ]
    },
    {
     "name": "stderr",
     "output_type": "stream",
     "text": [
      "\r",
      "  0%|                                                     | 0/4 [00:00<?, ?it/s]"
     ]
    },
    {
     "name": "stdout",
     "output_type": "stream",
     "text": [
      "10.0 18.4578 -73.3389 47.7457 -122.3031\n"
     ]
    },
    {
     "name": "stderr",
     "output_type": "stream",
     "text": [
      "\r",
      " 25%|███████████▎                                 | 1/4 [00:00<00:02,  1.31it/s]"
     ]
    },
    {
     "name": "stdout",
     "output_type": "stream",
     "text": [
      "AM.R195D.00.EHZ failed to download. Continuing..\n",
      "10.0 18.4578 -73.3389 47.7745 -122.2996\n"
     ]
    },
    {
     "name": "stderr",
     "output_type": "stream",
     "text": [
      "\r",
      " 50%|██████████████████████▌                      | 2/4 [00:02<00:02,  1.11s/it]"
     ]
    },
    {
     "name": "stdout",
     "output_type": "stream",
     "text": [
      "10.0 18.4578 -73.3389 47.7696 -122.3632\n"
     ]
    },
    {
     "name": "stderr",
     "output_type": "stream",
     "text": [
      "\r",
      " 75%|█████████████████████████████████▊           | 3/4 [00:03<00:01,  1.16s/it]"
     ]
    },
    {
     "name": "stdout",
     "output_type": "stream",
     "text": [
      "10.0 18.4578 -73.3389 -16.287 -68.13\n"
     ]
    },
    {
     "name": "stderr",
     "output_type": "stream",
     "text": [
      "100%|█████████████████████████████████████████████| 4/4 [00:04<00:00,  1.11s/it]"
     ]
    },
    {
     "name": "stdout",
     "output_type": "stream",
     "text": [
      "AM.REDDE.00.EHZ failed to download. Continuing..\n",
      "rPtime =  60.0\n",
      "Trace SNR =  1.6341889829728822 1\n",
      "Trace SNR =  0.8947036113574113 2\n",
      "0  of  2 traces were kept above SNR threshold 10.0\n",
      "writing  /Users/hkunwer/Documents/research/EQenergy/events/2022/2022012400/IRIS/pkls/Params_2022012400.pkl \n",
      " /Users/hkunwer/Documents/research/EQenergy/events/2022/2022012400/IRIS/Params_2022012400.csv\n",
      "writing  /Users/hkunwer/Documents/research/EQenergy/events/2022/2022012400/IRIS/pkls/Wavestream-raw_2022012400.pkl\n"
     ]
    },
    {
     "name": "stderr",
     "output_type": "stream",
     "text": [
      "\n"
     ]
    }
   ],
   "source": [
    "# Processing and Reading information about event stored in ANSS_data.txt\n",
    "Defaults = defaults()\n",
    "Event = event()\n",
    "Defaults.src='IRIS'\n",
    "Defaults.network='AM'\n",
    "Defaults.chan='EHZ'\n",
    "Defaults.stationrange=[20,80.0]\n",
    "Event.ecount='00'\n",
    "Event.iter='IRIS'\n",
    "Event.newData = True   # False means use already downloaded data\n",
    "edateold=\"\"\n",
    "ANSS = processANSS() \n",
    "for index, EQ in ANSS.iterrows(): #organizing data to use details\n",
    "    # network = \"AM\"\n",
    "    # chan = \"EHZ\"\n",
    "    # src = \"RASPISHAKE\"\n",
    "    rads = [1.,30.]\n",
    "    eloc = [EQ.Latitude,EQ.Longitude,EQ.Depth] \n",
    "    MagType = [EQ.Mtype]\n",
    "    MagValue = [EQ.Mag]\n",
    "    Magnitude = [MagType, MagValue]\n",
    "    year,mo,dy = EQ.Date.split('-')\n",
    "    hh,mn,sec = EQ.Time.split(':')\n",
    "    etime=(UTCDateTime(int(year),int(mo),int(dy),int(hh),int(mn),float(sec)))\n",
    "    if EQ.Date == edateold:\n",
    "        Event.ecount=str(int(Event.ecount)+1).zfill(2)\n",
    "    else:\n",
    "        Event.ecount='00'\n",
    "    edateold=EQ.Date\n",
    "    Event.eventname=etime2name(etime,ecount=Event.ecount)\n",
    "    Event.origin=[eloc,etime]\n",
    "    print(\"\\n\\n\"+Event.eventname+\" ===============================\")\n",
    "    try:\n",
    "        st, df = [], []\n",
    "        st, df = getwaves(Defaults,Event)\n",
    "    except:\n",
    "        print(\"ERROR: running on \"+Event.eventname+\" failed!!!!\\n\\n\") "
   ]
  },
  {
   "cell_type": "code",
   "execution_count": 24,
   "id": "8921edcd",
   "metadata": {},
   "outputs": [],
   "source": [
    "eventID = (str(etime)+Event.iter+Event.ecount) # creates unique event name\n",
    "#inventory = get_respinv(Defaults.network,eloc,etime,rads,Defaults.chan,Defaults.src)"
   ]
  },
  {
   "cell_type": "code",
   "execution_count": 28,
   "id": "fabeedb7",
   "metadata": {},
   "outputs": [
    {
     "data": {
      "text/plain": [
       "0 Trace(s) in Stream:\n"
      ]
     },
     "execution_count": 28,
     "metadata": {},
     "output_type": "execute_result"
    }
   ],
   "source": [
    "stp = filtering(st) # filter stream for instrument response and taper"
   ]
  },
  {
   "cell_type": "code",
   "execution_count": 26,
   "id": "38c66adb",
   "metadata": {
    "scrolled": false
   },
   "outputs": [],
   "source": [
    "df_freq = maxamp_calc(stp, eventID) #calculate max amps and dist for each tr at freq bands"
   ]
  },
  {
   "cell_type": "code",
   "execution_count": 27,
   "id": "3c751087",
   "metadata": {
    "scrolled": true
   },
   "outputs": [
    {
     "name": "stderr",
     "output_type": "stream",
     "text": [
      "No artists with labels found to put in legend.  Note that artists whose label start with an underscore are ignored when legend() is called with no argument.\n"
     ]
    },
    {
     "data": {
      "image/png": "[encoded data removed]",
      "text/plain": [
       "<Figure size 640x480 with 1 Axes>"
      ]
     },
     "metadata": {},
     "output_type": "display_data"
    }
   ],
   "source": [
    "organize_data(df_freq, EQ, etime, eloc, eventID) #creates dataframe of all results\n",
    "maxamp_plot(eventID,df_freq) #plots maxamps vs distance"
   ]
  },
  {
   "cell_type": "code",
   "execution_count": null,
   "id": "6bdcbb46",
   "metadata": {},
   "outputs": [],
   "source": []
  }
 ],
 "metadata": {
  "kernelspec": {
   "display_name": "Python 3 (ipykernel)",
   "language": "python",
   "name": "python3"
  },
  "language_info": {
   "codemirror_mode": {
    "name": "ipython",
    "version": 3
   },
   "file_extension": ".py",
   "mimetype": "text/x-python",
   "name": "python",
   "nbconvert_exporter": "python",
   "pygments_lexer": "ipython3",
   "version": "3.11.0"
  }
 },
 "nbformat": 4,
 "nbformat_minor": 5
}
