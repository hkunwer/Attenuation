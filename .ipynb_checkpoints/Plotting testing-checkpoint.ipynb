{
 "cells": [
  {
   "cell_type": "code",
   "execution_count": 1,
   "id": "ba90d791",
   "metadata": {},
   "outputs": [
    {
     "name": "stdout",
     "output_type": "stream",
     "text": [
      "\n",
      "\n",
      "2022012400 ===============================\n",
      "ERROR:  coudn't move directory to  /Users/hkunwer/Documents/research/EQenergy/events/2022/2022012400/RS.bak\n",
      "Error:  Couldn't create directory:  /Users/hkunwer/Documents/research/EQenergy/events/2022/2022012400/RS\n",
      "Checking for stations available within range from IRIS\n",
      "Getting waves from RASPISHAKE\n"
     ]
    },
    {
     "name": "stderr",
     "output_type": "stream",
     "text": [
      "\r",
      "  0%|                                          | 0/28 [00:00<?, ?it/s]"
     ]
    },
    {
     "name": "stdout",
     "output_type": "stream",
     "text": [
      "10.0 18.4578 -73.3389 18.52252252 -72.24929548\n"
     ]
    },
    {
     "name": "stderr",
     "output_type": "stream",
     "text": [
      "\r",
      "  4%|█▏                                | 1/28 [00:01<00:42,  1.57s/it]"
     ]
    },
    {
     "name": "stdout",
     "output_type": "stream",
     "text": [
      "10.0 18.4578 -73.3389 25.92792793 -80.41194326\n"
     ]
    },
    {
     "name": "stderr",
     "output_type": "stream",
     "text": [
      "\r",
      "  7%|██▍                               | 2/28 [00:02<00:35,  1.37s/it]"
     ]
    },
    {
     "name": "stdout",
     "output_type": "stream",
     "text": [
      "10.0 18.4578 -73.3389 25.88288288 -80.36355577\n"
     ]
    },
    {
     "name": "stderr",
     "output_type": "stream",
     "text": [
      "\r",
      " 11%|███▋                              | 3/28 [00:03<00:30,  1.23s/it]"
     ]
    },
    {
     "name": "stdout",
     "output_type": "stream",
     "text": [
      "10.0 18.4578 -73.3389 18.12612613 -67.10740855\n"
     ]
    },
    {
     "name": "stderr",
     "output_type": "stream",
     "text": [
      "\r",
      " 14%|████▊                             | 4/28 [00:05<00:30,  1.27s/it]"
     ]
    },
    {
     "name": "stdout",
     "output_type": "stream",
     "text": [
      "10.0 18.4578 -73.3389 25.93693694 -80.33003527\n"
     ]
    },
    {
     "name": "stderr",
     "output_type": "stream",
     "text": [
      "\r",
      " 18%|██████                            | 5/28 [00:06<00:33,  1.46s/it]"
     ]
    },
    {
     "name": "stdout",
     "output_type": "stream",
     "text": [
      "10.0 18.4578 -73.3389 18.45945946 -66.34149666\n"
     ]
    },
    {
     "name": "stderr",
     "output_type": "stream",
     "text": [
      "\r",
      " 21%|███████▎                          | 6/28 [00:08<00:30,  1.38s/it]"
     ]
    },
    {
     "name": "stdout",
     "output_type": "stream",
     "text": [
      "10.0 18.4578 -73.3389 18.44144144 -66.00258091\n"
     ]
    },
    {
     "name": "stderr",
     "output_type": "stream",
     "text": [
      "\r",
      " 25%|████████▌                         | 7/28 [00:09<00:29,  1.39s/it]"
     ]
    },
    {
     "name": "stdout",
     "output_type": "stream",
     "text": [
      "10.0 18.4578 -73.3389 18.01801802 -66.83860199\n"
     ]
    },
    {
     "name": "stderr",
     "output_type": "stream",
     "text": [
      "\r",
      " 29%|█████████▋                        | 8/28 [00:12<00:35,  1.79s/it]"
     ]
    },
    {
     "name": "stdout",
     "output_type": "stream",
     "text": [
      "10.0 18.4578 -73.3389 18.45945946 -69.90366697\n"
     ]
    },
    {
     "name": "stderr",
     "output_type": "stream",
     "text": [
      "\r",
      " 32%|██████████▉                       | 9/28 [00:13<00:29,  1.56s/it]"
     ]
    },
    {
     "name": "stdout",
     "output_type": "stream",
     "text": [
      "AM.R4EEE.00.EHZ failed to download. Continuing..\n",
      "10.0 18.4578 -73.3389 18.97297297 -69.03229849\n"
     ]
    },
    {
     "name": "stderr",
     "output_type": "stream",
     "text": [
      "\r",
      " 36%|███████████▊                     | 10/28 [00:14<00:25,  1.39s/it]"
     ]
    },
    {
     "name": "stdout",
     "output_type": "stream",
     "text": [
      "AM.R54B1.00.EHZ failed to download. Continuing..\n",
      "10.0 18.4578 -73.3389 25.91891892 -80.32294168\n"
     ]
    },
    {
     "name": "stderr",
     "output_type": "stream",
     "text": [
      "\r",
      " 39%|████████████▉                    | 11/28 [00:16<00:26,  1.58s/it]"
     ]
    },
    {
     "name": "stdout",
     "output_type": "stream",
     "text": [
      "10.0 18.4578 -73.3389 18.45945946 -67.11405725\n"
     ]
    },
    {
     "name": "stderr",
     "output_type": "stream",
     "text": [
      "\r",
      " 43%|██████████████▏                  | 12/28 [00:17<00:22,  1.41s/it]"
     ]
    },
    {
     "name": "stdout",
     "output_type": "stream",
     "text": [
      "AM.R804D.00.EHZ failed to download. Continuing..\n",
      "10.0 18.4578 -73.3389 25.9009009 -80.35088029\n"
     ]
    },
    {
     "name": "stderr",
     "output_type": "stream",
     "text": [
      "\r",
      " 46%|███████████████▎                 | 13/28 [00:18<00:21,  1.43s/it]"
     ]
    },
    {
     "name": "stdout",
     "output_type": "stream",
     "text": [
      "10.0 18.4578 -73.3389 19.81981982 -70.72312982\n"
     ]
    },
    {
     "name": "stderr",
     "output_type": "stream",
     "text": [
      "\r",
      " 50%|████████████████▌                | 14/28 [00:20<00:18,  1.35s/it]"
     ]
    },
    {
     "name": "stdout",
     "output_type": "stream",
     "text": [
      "10.0 18.4578 -73.3389 19.76576577 -72.19072395\n"
     ]
    },
    {
     "name": "stderr",
     "output_type": "stream",
     "text": [
      "\r",
      " 54%|█████████████████▋               | 15/28 [00:20<00:15,  1.22s/it]"
     ]
    },
    {
     "name": "stdout",
     "output_type": "stream",
     "text": [
      "AM.RA887.00.EHZ failed to download. Continuing..\n",
      "10.0 18.4578 -73.3389 18.20720721 -66.22838073\n"
     ]
    },
    {
     "name": "stderr",
     "output_type": "stream",
     "text": [
      "\r",
      " 57%|██████████████████▊              | 16/28 [00:22<00:14,  1.24s/it]"
     ]
    },
    {
     "name": "stdout",
     "output_type": "stream",
     "text": [
      "10.0 18.4578 -73.3389 25.97297297 -80.37233493\n"
     ]
    },
    {
     "name": "stderr",
     "output_type": "stream",
     "text": [
      "\r",
      " 61%|████████████████████             | 17/28 [00:23<00:14,  1.35s/it]"
     ]
    },
    {
     "name": "stdout",
     "output_type": "stream",
     "text": [
      "10.0 18.4578 -73.3389 25.99099099 -80.33726338\n"
     ]
    },
    {
     "name": "stderr",
     "output_type": "stream",
     "text": [
      "\r",
      " 64%|█████████████████████▏           | 18/28 [00:25<00:14,  1.40s/it]"
     ]
    },
    {
     "name": "stdout",
     "output_type": "stream",
     "text": [
      "10.0 18.4578 -73.3389 25.93693694 -80.33003527\n"
     ]
    },
    {
     "name": "stderr",
     "output_type": "stream",
     "text": [
      "\r",
      " 68%|██████████████████████▍          | 19/28 [00:26<00:11,  1.33s/it]"
     ]
    },
    {
     "name": "stdout",
     "output_type": "stream",
     "text": [
      "10.0 18.4578 -73.3389 17.99099099 -66.61079735\n"
     ]
    },
    {
     "name": "stderr",
     "output_type": "stream",
     "text": [
      "\r",
      " 71%|███████████████████████▌         | 20/28 [00:28<00:11,  1.42s/it]"
     ]
    },
    {
     "name": "stdout",
     "output_type": "stream",
     "text": [
      "10.0 18.4578 -73.3389 18.08108108 -67.03136089\n"
     ]
    },
    {
     "name": "stderr",
     "output_type": "stream",
     "text": [
      "\r",
      " 75%|████████████████████████▊        | 21/28 [00:29<00:09,  1.38s/it]"
     ]
    },
    {
     "name": "stdout",
     "output_type": "stream",
     "text": [
      "10.0 18.4578 -73.3389 19.77477477 -72.22637702\n"
     ]
    },
    {
     "name": "stderr",
     "output_type": "stream",
     "text": [
      "\r",
      " 79%|█████████████████████████▉       | 22/28 [00:30<00:07,  1.25s/it]"
     ]
    },
    {
     "name": "stdout",
     "output_type": "stream",
     "text": [
      "AM.RD269.00.EHZ failed to download. Continuing..\n",
      "10.0 18.4578 -73.3389 18.1981982 -71.1000091\n"
     ]
    },
    {
     "name": "stderr",
     "output_type": "stream",
     "text": [
      "\r",
      " 82%|███████████████████████████      | 23/28 [00:31<00:06,  1.24s/it]"
     ]
    },
    {
     "name": "stdout",
     "output_type": "stream",
     "text": [
      "10.0 18.4578 -73.3389 18.36036036 -66.17987632\n"
     ]
    },
    {
     "name": "stderr",
     "output_type": "stream",
     "text": [
      "\r",
      " 86%|████████████████████████████▎    | 24/28 [00:33<00:05,  1.45s/it]"
     ]
    },
    {
     "name": "stdout",
     "output_type": "stream",
     "text": [
      "10.0 18.4578 -73.3389 18.27927928 -66.33100902\n"
     ]
    },
    {
     "name": "stderr",
     "output_type": "stream",
     "text": [
      "\r",
      " 89%|█████████████████████████████▍   | 25/28 [00:34<00:03,  1.33s/it]"
     ]
    },
    {
     "name": "stdout",
     "output_type": "stream",
     "text": [
      "10.0 18.4578 -73.3389 18.41441441 -68.93603553\n"
     ]
    },
    {
     "name": "stderr",
     "output_type": "stream",
     "text": [
      "\r",
      " 93%|██████████████████████████████▋  | 26/28 [00:35<00:02,  1.28s/it]"
     ]
    },
    {
     "name": "stdout",
     "output_type": "stream",
     "text": [
      "10.0 18.4578 -73.3389 18.30630631 -66.07594445\n"
     ]
    },
    {
     "name": "stderr",
     "output_type": "stream",
     "text": [
      "\r",
      " 96%|███████████████████████████████▊ | 27/28 [00:37<00:01,  1.28s/it]"
     ]
    },
    {
     "name": "stdout",
     "output_type": "stream",
     "text": [
      "10.0 18.4578 -73.3389 18.08108108 -67.04209886\n"
     ]
    },
    {
     "name": "stderr",
     "output_type": "stream",
     "text": [
      "100%|█████████████████████████████████| 28/28 [00:38<00:00,  1.37s/it]"
     ]
    },
    {
     "name": "stdout",
     "output_type": "stream",
     "text": [
      "AM.S897D.00.EHZ failed to download. Continuing..\n",
      "rPtime =  60.0\n",
      "Trace SNR =  33507.00153670628 1\n"
     ]
    },
    {
     "name": "stderr",
     "output_type": "stream",
     "text": [
      "\n"
     ]
    },
    {
     "name": "stdout",
     "output_type": "stream",
     "text": [
      "Trace SNR =  1.9535977173105086 2\n",
      "Trace SNR =  1.1190312407952294 3\n",
      "Trace SNR =  480.8589546770031 4\n",
      "Trace SNR =  1.4192637527994663 5\n",
      "Trace SNR =  82.47129498163677 6\n",
      "Trace SNR =  1.29898385468013 7\n",
      "Trace SNR =  191.81053272544594 8\n",
      "Trace SNR =  1.3713020620842287 9\n",
      "Trace SNR =  0.9804724314212754 10\n",
      "Trace SNR =  13951.268120281064 11\n",
      "Trace SNR =  175.1629656881115 12\n",
      "Trace SNR =  1.427339646787087 13\n",
      "Trace SNR =  1.2224276212058625 14\n",
      "Trace SNR =  1.4254295476506453 15\n",
      "Trace SNR =  3.306360285749013 16\n",
      "Trace SNR =  176.94027532811185 17\n",
      "Trace SNR =  166888.31896330457 18\n",
      "Trace SNR =  6.006171446784444 19\n",
      "Trace SNR =  0.9928295704720193 20\n",
      "Trace SNR =  416.22344514400004 21\n",
      "Trace SNR =  2.625076714997328 22\n",
      "9  of  22 traces were kept above SNR threshold 10.0\n",
      "writing  /Users/hkunwer/Documents/research/EQenergy/events/2022/2022012400/RS/pkls/Params_2022012400.pkl \n",
      " /Users/hkunwer/Documents/research/EQenergy/events/2022/2022012400/RS/Params_2022012400.csv\n",
      "writing  /Users/hkunwer/Documents/research/EQenergy/events/2022/2022012400/RS/pkls/Wavestream-raw_2022012400.pkl\n"
     ]
    }
   ],
   "source": [
    "# %%\n",
    "import os\n",
    "from locale import setlocale\n",
    "import pandas as pd \n",
    "import matplotlib.pyplot as plt\n",
    "import numpy as np\n",
    "from numpy import sin,cos,arcsin,sqrt,abs,pi,log10,exp\n",
    "from scipy.fftpack import fft,ifft\n",
    "from scipy.io import wavfile\n",
    "from scipy.stats import gmean \n",
    "from tqdm import tqdm\n",
    "from compress_pickle import dump as cpkldump # reading/writing compressed pickles\n",
    "from compress_pickle import load as cpklload # reading/writing compressed pickles\n",
    "\n",
    "#obspy\n",
    "from obspy import UTCDateTime\n",
    "\n",
    "from obspy.taup import TauPyModel\n",
    "model = TauPyModel(model=\"iasp91\")\n",
    "\n",
    "#rtergpy\n",
    "from rtergpy.run import defaults, event, etime2name, src2ergs\n",
    "from rtergpy.waveforms import getwaves, get_respinv\n",
    "\n",
    "#attenuation\n",
    "from AttenuationFunctions import processANSS, freqmaxes\n",
    "\n",
    "\n",
    "# Processing and Reading information about event stored in ANSS_data.txt\n",
    "\n",
    "Defaults = defaults()\n",
    "Event = event()\n",
    "Defaults.src=\"RASPISHAKE\"\n",
    "Defaults.network=\"AM\"\n",
    "Defaults.chan=\"EHZ\"\n",
    "Defaults.stationrange=[1.,10.]\n",
    "Event.ecount='00'\n",
    "Event.iter='RS'\n",
    "# Event.newData = False   # use already downloaded data\n",
    "Event.newData=False\n",
    "edateold=\"\"\n",
    "\n",
    "processANSS() #process to remove unneccesary information\n",
    "# ANSS = pd.read_csv('ANSS_processed_data.csv', sep=',', comment='#')\n",
    "ANSS = pd.read_csv('ANSS_processed_data.csv')\n",
    "#print(ANSS) #Just to check if processing correctly\n",
    "\n",
    "# run everything above to test on command line\n",
    "for index, EQ in ANSS.iterrows():\n",
    "    network = \"AM\"\n",
    "    chan = \"EHZ\"\n",
    "    src = \"RASPISHAKE\"\n",
    "    rads = [1.,10.]\n",
    "    eloc = [EQ.Latitude,EQ.Longitude,EQ.Depth] \n",
    "    MagType = [EQ.Mtype]\n",
    "    MagValue = [EQ.Mag]\n",
    "    Magnitude = [MagType, MagValue]\n",
    "    year,mo,dy = EQ.Date.split('-')\n",
    "    hh,mn,sec = EQ.Time.split(':')\n",
    "    etime=(UTCDateTime(int(year),int(mo),int(dy),int(hh),int(mn),float(sec)))\n",
    "    \n",
    "    if EQ.Date == edateold:\n",
    "        Event.ecount=str(int(Event.ecount)+1).zfill(2)\n",
    "    else:\n",
    "        Event.ecount='00'\n",
    "    edateold=EQ.Date\n",
    "    Event.eventname=etime2name(etime,ecount=Event.ecount)\n",
    "    Event.origin=[eloc,etime]\n",
    "\n",
    "    print(\"\\n\\n\"+Event.eventname+\" ===============================\")\n",
    "    try:\n",
    "        st, df = [], []\n",
    "        st, df = getwaves(Defaults=Defaults,Event=Event)\n",
    "    except:\n",
    "        print(\"ERROR: running on \"+Event.eventname+\" failed!!!!\\n\\n\")\n",
    "               \n",
    "# make an inventory incase needed. \n",
    "\n",
    "inventory = get_respinv(network,eloc,etime,rads,chan,src)"
   ]
  },
  {
   "cell_type": "code",
   "execution_count": 6,
   "id": "cfbcaa8d",
   "metadata": {},
   "outputs": [],
   "source": [
    "# filter for instrument response and taper\n",
    "\n",
    "taper=0.05\n",
    "\n",
    "stp = st.copy()  # create backup\n",
    "\n",
    "# process data (maybe make this into a function)\n",
    "\n",
    "stp.detrend(type='polynomial', order=5) # pre-instrument removal\n",
    "stp.taper(taper)\n",
    "stp.remove_response(output=\"DISP\")\n",
    "stp.detrend(type='polynomial', order=5) # post-instrument removal\n",
    "stp.taper(taper)\n",
    "\n",
    "# process each individual frequency band in a bandpass using .filter\n",
    "# frequency bands of 0.1-0.25, 0.25-0.5, 0.5-0.75, 0.75-1, 1-1.5\n",
    "\n",
    "#freqs = ([0.1,0.25],[0.25,0.5],[0.50,0.75],[0.75,1],[1,1.25])\n",
    "\n",
    "# freq1 band = 0.1-0.25,\n",
    "stp_freq1 = stp.copy()\n",
    "stp_freq1.filter(\"bandpass\",freqmin=0.10 , freqmax=0.25)\n",
    "\n",
    "# freq2 band = 0.25-0.5,\n",
    "stp_freq2 = stp.copy()\n",
    "stp_freq2.filter(\"bandpass\", freqmin=0.25, freqmax=0.50)\n",
    "\n",
    "# # freq3 band = 0.5-0.75,\n",
    "stp_freq3 = stp.copy()\n",
    "stp_freq3.filter(\"bandpass\", freqmin=0.50, freqmax=0.75)\n",
    "\n",
    "# # freq4 band = 0.75-1.\n",
    "stp_freq4 = stp.copy()\n",
    "stp_freq4.filter(\"bandpass\", freqmin=0.75, freqmax=1.0)\n",
    "\n",
    "# # freq5 band = 1-1.25\n",
    "stp_freq5 = stp.copy()\n",
    "stp_freq5.filter(\"bandpass\", freqmin=1.0, freqmax=1.25)\n",
    "\n",
    "# #add all freq to a tuple\n",
    "stp_freqs = (stp_freq1,stp_freq2,stp_freq3,stp_freq4,stp_freq5)\n",
    "\n",
    "# # Plot all the wiggles, shows how frequency filtering works. \n",
    "\n",
    "# #stp[0].plot(); #only instrument response removal\n",
    "# #stp_freq1[0].plot(); # bandpass filter of 0.1-0.25\n",
    "# #stp_freq2[0].plot(); # bandpass filter of 0.25-0.5\n",
    "# #stp_freq3[0].plot(); # bandpass filter of 0.5-0.75\n",
    "# #stp_freq4[0].plot(); # bandpass filter of 0.75-0.1\n",
    "# #stp_freq5[0].plot(); # bandpass filter of 1-1.25"
   ]
  },
  {
   "cell_type": "code",
   "execution_count": 108,
   "id": "27835e03",
   "metadata": {
    "scrolled": true
   },
   "outputs": [],
   "source": [
    "# # %%\n",
    "# # use freqmaxes function to get maxamps for all traces in one frequency band\n",
    "# # compare the plots formed from the function above with previous tests in Appendix below\n",
    "\n",
    "#freqs = ([0.1,0.25],[0.25,0.5],[0.50,0.75],[0.75,1],[1,1.25])\n",
    "\n",
    "maxamps = []\n",
    "dist = []\n",
    "ALLmaxamps = [] \n",
    "dist_str = []\n",
    "\n",
    "for stpf in stp_freqs:\n",
    "\n",
    "    for tr in stpf:\n",
    "        maxamps = max(abs(tr))\n",
    "        dist = tr.stats.distance / 1000\n",
    "        ALLmaxamps.append(maxamps)\n",
    "        dist_str.append(dist)\n",
    "        \n",
    "        break\n",
    "    break\n",
    "       \n",
    "df = pd.DataFrame({\"maxamps\":ALLmaxamps,\"distance\":dist_str}) "
   ]
  },
  {
   "cell_type": "code",
   "execution_count": 108,
   "id": "09c0dc53",
   "metadata": {
    "scrolled": true
   },
   "outputs": [],
   "source": [
    "# # %%\n",
    "# # use freqmaxes function to get maxamps for all traces in one frequency band\n",
    "# # compare the plots formed from the function above with previous tests in Appendix below\n",
    "\n",
    "#freqs = ([0.1,0.25],[0.25,0.5],[0.50,0.75],[0.75,1],[1,1.25])\n",
    "\n",
    "maxamps = []\n",
    "dist = []\n",
    "ALLmaxamps = [] \n",
    "dist_str = []\n",
    "\n",
    "for stpf in stp_freq:\n",
    "\n",
    "    for tr in stpf:\n",
    "        maxamps = max(abs(tr))\n",
    "        dist = tr.stats.distance / 1000\n",
    "        ALLmaxamps.append(maxamps)\n",
    "        dist_str.append(dist)\n",
    "        \n",
    "        break\n",
    "    break\n",
    "       \n",
    "df = pd.DataFrame({\"maxamps\":ALLmaxamps,\"distance\":dist_str}) "
   ]
  },
  {
   "cell_type": "code",
   "execution_count": 109,
   "id": "52e36b6b",
   "metadata": {},
   "outputs": [
    {
     "data": {
      "text/html": [
       "<div>\n",
       "<style scoped>\n",
       "    .dataframe tbody tr th:only-of-type {\n",
       "        vertical-align: middle;\n",
       "    }\n",
       "\n",
       "    .dataframe tbody tr th {\n",
       "        vertical-align: top;\n",
       "    }\n",
       "\n",
       "    .dataframe thead th {\n",
       "        text-align: right;\n",
       "    }\n",
       "</style>\n",
       "<table border=\"1\" class=\"dataframe\">\n",
       "  <thead>\n",
       "    <tr style=\"text-align: right;\">\n",
       "      <th></th>\n",
       "      <th>maxamps</th>\n",
       "      <th>distance</th>\n",
       "    </tr>\n",
       "  </thead>\n",
       "  <tbody>\n",
       "    <tr>\n",
       "      <th>0</th>\n",
       "      <td>0.000079</td>\n",
       "      <td>115.294131</td>\n",
       "    </tr>\n",
       "  </tbody>\n",
       "</table>\n",
       "</div>"
      ],
      "text/plain": [
       "    maxamps    distance\n",
       "0  0.000079  115.294131"
      ]
     },
     "execution_count": 109,
     "metadata": {},
     "output_type": "execute_result"
    }
   ],
   "source": [
    "df"
   ]
  },
  {
   "cell_type": "code",
   "execution_count": 105,
   "id": "08521bdb",
   "metadata": {},
   "outputs": [],
   "source": [
    "#plt.xlabel(\"Distance (km)\", fontsize =12)\n",
    "#plt.ylabel(\"Max Amplitude (log)\", fontsize = 12)\n",
    "#plt.title(\"Maximum Amplitude vs. Distance for each Frequency Band\")\n",
    "#plt.legend()\n",
    "#plt.grid(True) \n",
    "#plt.show()\n",
    "#plt.savefig('first_plot.png', dpi=300) #also maybe loop so it'll iterate and name them better for continuous storage"
   ]
  },
  {
   "cell_type": "code",
   "execution_count": 112,
   "id": "00b6bcdf",
   "metadata": {},
   "outputs": [
    {
     "data": {
      "image/png": "[encoded data removed]",
      "text/plain": [
       "<Figure size 800x250 with 1 Axes>"
      ]
     },
     "metadata": {},
     "output_type": "display_data"
    }
   ],
   "source": [
    "# filter for instrument response and taper\n",
    "\n",
    "taper=0.05\n",
    "\n",
    "stp = st.copy()  # create backup\n",
    "\n",
    "# process data (maybe make this into a function)\n",
    "\n",
    "stp.detrend(type='polynomial', order=5) # pre-instrument removal\n",
    "stp.taper(taper)\n",
    "stp.remove_response(output=\"DISP\")\n",
    "stp.detrend(type='polynomial', order=5) # post-instrument removal\n",
    "stp.taper(taper)\n",
    "\n",
    "# process each individual frequency band in a bandpass using .filter\n",
    "# frequency bands of 0.1-0.25, 0.25-0.5, 0.5-0.75, 0.75-1, 1-1.5\n",
    "\n",
    "#freqs = ([0.1,0.25],[0.25,0.5],[0.50,0.75],[0.75,1],[1,1.25])\n",
    "\n",
    "frequencymin = 0.75\n",
    "frequencymax = 1\n",
    "\n",
    "\n",
    "stp_freq = stp.copy()\n",
    "stp_freq.filter(\"bandpass\",freqmin=frequencymin , freqmax= frequencymax)\n",
    "\n",
    "stp_freq[0].plot();"
   ]
  },
  {
   "cell_type": "code",
   "execution_count": null,
   "id": "e93b1c00",
   "metadata": {},
   "outputs": [],
   "source": []
  }
 ],
 "metadata": {
  "kernelspec": {
   "display_name": "Python 3 (ipykernel)",
   "language": "python",
   "name": "python3"
  },
  "language_info": {
   "codemirror_mode": {
    "name": "ipython",
    "version": 3
   },
   "file_extension": ".py",
   "mimetype": "text/x-python",
   "name": "python",
   "nbconvert_exporter": "python",
   "pygments_lexer": "ipython3",
   "version": "3.11.0"
  }
 },
 "nbformat": 4,
 "nbformat_minor": 5
}
