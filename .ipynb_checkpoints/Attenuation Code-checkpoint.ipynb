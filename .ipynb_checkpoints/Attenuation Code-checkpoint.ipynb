{
 "cells": [
  {
   "cell_type": "code",
   "execution_count": 1,
   "id": "f9487543",
   "metadata": {},
   "outputs": [],
   "source": [
    "import os\n",
    "import pandas as pd \n",
    "import matplotlib.pyplot as plt\n",
    "import numpy as np\n",
    "from numpy import sin,cos,arcsin,sqrt,abs,pi,log10,exp\n",
    "from scipy.fftpack import fft,ifft\n",
    "\n",
    "import matplotlib.pyplot as plt\n",
    "import numpy as np\n",
    "from scipy.io import wavfile\n",
    "%matplotlib inline\n",
    "\n",
    "#obspy\n",
    "from obspy import UTCDateTime\n",
    "from obspy import read\n",
    "from obspy import read_inventory\n",
    "\n",
    "from obspy.taup import TauPyModel\n",
    "model = TauPyModel(model=\"iasp91\")\n",
    "\n",
    "from obspy.core.stream import Stream\n",
    "from obspy.core.event import read_events\n",
    "from obspy.core.inventory.inventory import read_inventory\n",
    "from obspy.core.util import Enum\n",
    "\n",
    "from obspy.core.event.magnitude import StationMagnitude\n",
    "\n",
    "from obspy.clients.neic import Client as nClient\n",
    "from obspy.clients.fdsn import Client as fdsnClient\n",
    "\n",
    "from obspy.geodetics.base import locations2degrees as l2d\n",
    "from obspy.geodetics.base import degrees2kilometers as d2km\n",
    "from obspy.geodetics.base import kilometers2degrees as km2d\n",
    "from obspy.geodetics.base import gps2dist_azimuth as ll2az\n",
    "\n",
    "from obspy.core.inventory.response import ResponseListElement as amplitude\n",
    "\n",
    "from obspy.signal.filter import bandpass\n",
    "\n",
    "#rtergpy\n",
    "from rtergpy.run import defaults, event, etime2name, src2ergs\n",
    "from rtergpy.waveforms import get_respinv, getwaves, loadwaves, process_waves, trstat2pd\n",
    "\n",
    "from locale import setlocale\n",
    "from scipy.fftpack import fft,ifft\n",
    "from scipy.stats import gmean \n",
    "from tqdm import tqdm\n",
    "from compress_pickle import dump as cpkldump # reading/writing compressed pickles\n",
    "from compress_pickle import load as cpklload # reading/writing compressed pickles"
   ]
  },
  {
   "cell_type": "code",
   "execution_count": 2,
   "id": "871865a8",
   "metadata": {},
   "outputs": [
    {
     "name": "stdout",
     "output_type": "stream",
     "text": [
      "Inventory created at 2023-06-16T20:07:39.152554Z\n",
      "\tSending institution: SeisComP (RaspberryShake)\n",
      "\tContains:\n",
      "\t\tNetworks (1):\n",
      "\t\t\tAM\n",
      "\t\tStations (28):\n",
      "\t\t\tAM.R0306 (Raspberry Shake Citizen Science Station)\n",
      "\t\t\tAM.R095E (Raspberry Shake Citizen Science Station)\n",
      "\t\t\tAM.R17FC (Raspberry Shake Citizen Science Station)\n",
      "\t\t\tAM.R2974 (Raspberry Shake Citizen Science Station)\n",
      "\t\t\tAM.R2C45 (Raspberry Shake Citizen Science Station)\n",
      "\t\t\tAM.R34A9 (Raspberry Shake Citizen Science Station)\n",
      "\t\t\tAM.R4802 (Raspberry Shake Citizen Science Station)\n",
      "\t\t\tAM.R4DB9 (Raspberry Shake Citizen Science Station)\n",
      "\t\t\tAM.R4EEE (Raspberry Shake Citizen Science Station)\n",
      "\t\t\tAM.R54B1 (Raspberry Shake Citizen Science Station)\n",
      "\t\t\tAM.R6324 (Raspberry Shake Citizen Science Station)\n",
      "\t\t\tAM.R804D (Raspberry Shake Citizen Science Station)\n",
      "\t\t\tAM.R976A (Raspberry Shake Citizen Science Station)\n",
      "\t\t\tAM.RA08A (Raspberry Shake Citizen Science Station)\n",
      "\t\t\tAM.RA887 (Raspberry Shake Citizen Science Station)\n",
      "\t\t\tAM.RA9CF (Raspberry Shake Citizen Science Station)\n",
      "\t\t\tAM.RC304 (Raspberry Shake Citizen Science Station)\n",
      "\t\t\tAM.RC57A (Raspberry Shake Citizen Science Station)\n",
      "\t\t\tAM.RCC6E (Raspberry Shake Citizen Science Station)\n",
      "\t\t\tAM.RCCD1 (Raspberry Shake Citizen Science Station)\n",
      "\t\t\tAM.RD17E (Raspberry Shake Citizen Science Station)\n",
      "\t\t\tAM.RD269 (Raspberry Shake Citizen Science Station)\n",
      "\t\t\tAM.RD4D8 (Raspberry Shake Citizen Science Station)\n",
      "\t\t\tAM.RD5CB (Raspberry Shake Citizen Science Station)\n",
      "\t\t\tAM.RD66A (Raspberry Shake Citizen Science Station)\n",
      "\t\t\tAM.RE001 (Raspberry Shake Citizen Science Station)\n",
      "\t\t\tAM.S4051 (Raspberry Shake Citizen Science Station)\n",
      "\t\t\tAM.S897D (Raspberry Shake Citizen Science Station)\n",
      "\t\tChannels (28):\n",
      "\t\t\tAM.R0306.00.EHZ, AM.R095E.00.EHZ, AM.R17FC.00.EHZ, AM.R2974.00.EHZ\n",
      "\t\t\tAM.R2C45.00.EHZ, AM.R34A9.00.EHZ, AM.R4802.00.EHZ, \n",
      "\t\t\tAM.R4DB9.00.EHZ, AM.R4EEE.00.EHZ, AM.R54B1.00.EHZ, AM.R6324.00.EHZ\n",
      "\t\t\tAM.R804D.00.EHZ, AM.R976A.00.EHZ, AM.RA08A.00.EHZ, \n",
      "\t\t\tAM.RA887.00.EHZ, AM.RA9CF.00.EHZ, AM.RC304.00.EHZ, AM.RC57A.00.EHZ\n",
      "\t\t\tAM.RCC6E.00.EHZ, AM.RCCD1.00.EHZ, AM.RD17E.00.EHZ, \n",
      "\t\t\tAM.RD269.00.EHZ, AM.RD4D8.00.EHZ, AM.RD5CB.00.EHZ, AM.RD66A.00.EHZ\n",
      "\t\t\tAM.RE001.00.EHZ, AM.S4051.00.EHZ, AM.S897D.00.EHZ\n"
     ]
    }
   ],
   "source": [
    "Defaults=defaults()\n",
    "Event=event()\n",
    "\n",
    "Defaults.src =\"RASPISHAKE\"\n",
    "src = Defaults.src \n",
    "\n",
    "Defaults.network =\"AM\"\n",
    "network = Defaults.network\n",
    "\n",
    "Defaults.chan =\"EHZ\"\n",
    "chan = Defaults.chan\n",
    "\n",
    "Defaults.stationrange=[1.,10.]\n",
    "rads = Defaults.stationrange\n",
    "\n",
    "Event.eloc = [18.4578,-73.3389,10]\n",
    "eloc = Event.eloc\n",
    "\n",
    "Event.etime = UTCDateTime(2022,1,24,13,16,23.425)\n",
    "etime = Event.etime\n",
    "\n",
    "Event.origin =[eloc,etime]\n",
    "Event.ecount ='00'\n",
    "Event.iter ='RS'\n",
    "Event.eventname = etime2name(etime,ecount=Event.ecount)\n",
    "\n",
    "# getting inventory\n",
    "\n",
    "inventory = get_respinv(network,eloc,etime,rads,chan,src)\n",
    "print(inventory)"
   ]
  },
  {
   "cell_type": "code",
   "execution_count": 3,
   "id": "94bfa691",
   "metadata": {},
   "outputs": [
    {
     "name": "stdout",
     "output_type": "stream",
     "text": [
      "Getting waveforms\n",
      "New working directory is:  /Users/hkunwer/Documents/research/EQenergy/events/2022/2022012400/RS\n",
      "Checking for stations available within range from IRIS\n",
      "Getting waves from RASPISHAKE\n"
     ]
    },
    {
     "name": "stderr",
     "output_type": "stream",
     "text": [
      "\r",
      "  0%|                                                    | 0/28 [00:00<?, ?it/s]"
     ]
    },
    {
     "name": "stdout",
     "output_type": "stream",
     "text": [
      "10 18.4578 -73.3389 18.52252252 -72.24929548\n"
     ]
    },
    {
     "name": "stderr",
     "output_type": "stream",
     "text": [
      "\r",
      "  4%|█▌                                          | 1/28 [00:01<00:52,  1.96s/it]"
     ]
    },
    {
     "name": "stdout",
     "output_type": "stream",
     "text": [
      "10 18.4578 -73.3389 25.92792793 -80.41194326\n"
     ]
    },
    {
     "name": "stderr",
     "output_type": "stream",
     "text": [
      "\r",
      "  7%|███▏                                        | 2/28 [00:03<00:48,  1.86s/it]"
     ]
    },
    {
     "name": "stdout",
     "output_type": "stream",
     "text": [
      "10 18.4578 -73.3389 25.88288288 -80.36355577\n"
     ]
    },
    {
     "name": "stderr",
     "output_type": "stream",
     "text": [
      "\r",
      " 11%|████▋                                       | 3/28 [00:08<01:21,  3.24s/it]"
     ]
    },
    {
     "name": "stdout",
     "output_type": "stream",
     "text": [
      "10 18.4578 -73.3389 18.12612613 -67.10740855\n"
     ]
    },
    {
     "name": "stderr",
     "output_type": "stream",
     "text": [
      "\r",
      " 14%|██████▎                                     | 4/28 [00:10<01:01,  2.55s/it]"
     ]
    },
    {
     "name": "stdout",
     "output_type": "stream",
     "text": [
      "10 18.4578 -73.3389 25.93693694 -80.33003527\n"
     ]
    },
    {
     "name": "stderr",
     "output_type": "stream",
     "text": [
      "\r",
      " 18%|███████▊                                    | 5/28 [00:11<00:52,  2.27s/it]"
     ]
    },
    {
     "name": "stdout",
     "output_type": "stream",
     "text": [
      "10 18.4578 -73.3389 18.45945946 -66.34149666\n"
     ]
    },
    {
     "name": "stderr",
     "output_type": "stream",
     "text": [
      "\r",
      " 21%|█████████▍                                  | 6/28 [00:13<00:43,  2.00s/it]"
     ]
    },
    {
     "name": "stdout",
     "output_type": "stream",
     "text": [
      "10 18.4578 -73.3389 18.44144144 -66.00258091\n"
     ]
    },
    {
     "name": "stderr",
     "output_type": "stream",
     "text": [
      "\r",
      " 25%|███████████                                 | 7/28 [00:14<00:39,  1.87s/it]"
     ]
    },
    {
     "name": "stdout",
     "output_type": "stream",
     "text": [
      "10 18.4578 -73.3389 18.01801802 -66.83860199\n"
     ]
    },
    {
     "name": "stderr",
     "output_type": "stream",
     "text": [
      "\r",
      " 29%|████████████▌                               | 8/28 [00:16<00:36,  1.82s/it]"
     ]
    },
    {
     "name": "stdout",
     "output_type": "stream",
     "text": [
      "10 18.4578 -73.3389 18.45945946 -69.90366697\n"
     ]
    },
    {
     "name": "stderr",
     "output_type": "stream",
     "text": [
      "\r",
      " 32%|██████████████▏                             | 9/28 [00:17<00:29,  1.57s/it]"
     ]
    },
    {
     "name": "stdout",
     "output_type": "stream",
     "text": [
      "AM.R4EEE.00.EHZ failed to download. Continuing..\n",
      "10 18.4578 -73.3389 18.97297297 -69.03229849\n"
     ]
    },
    {
     "name": "stderr",
     "output_type": "stream",
     "text": [
      "\r",
      " 36%|███████████████▎                           | 10/28 [00:18<00:24,  1.38s/it]"
     ]
    },
    {
     "name": "stdout",
     "output_type": "stream",
     "text": [
      "AM.R54B1.00.EHZ failed to download. Continuing..\n",
      "10 18.4578 -73.3389 25.91891892 -80.32294168\n"
     ]
    },
    {
     "name": "stderr",
     "output_type": "stream",
     "text": [
      "\r",
      " 39%|████████████████▉                          | 11/28 [00:20<00:25,  1.52s/it]"
     ]
    },
    {
     "name": "stdout",
     "output_type": "stream",
     "text": [
      "10 18.4578 -73.3389 18.45945946 -67.11405725\n"
     ]
    },
    {
     "name": "stderr",
     "output_type": "stream",
     "text": [
      "\r",
      " 43%|██████████████████▍                        | 12/28 [00:21<00:21,  1.33s/it]"
     ]
    },
    {
     "name": "stdout",
     "output_type": "stream",
     "text": [
      "AM.R804D.00.EHZ failed to download. Continuing..\n",
      "10 18.4578 -73.3389 25.9009009 -80.35088029\n"
     ]
    },
    {
     "name": "stderr",
     "output_type": "stream",
     "text": [
      "\r",
      " 46%|███████████████████▉                       | 13/28 [00:22<00:20,  1.37s/it]"
     ]
    },
    {
     "name": "stdout",
     "output_type": "stream",
     "text": [
      "10 18.4578 -73.3389 19.81981982 -70.72312982\n"
     ]
    },
    {
     "name": "stderr",
     "output_type": "stream",
     "text": [
      "\r",
      " 50%|█████████████████████▌                     | 14/28 [00:24<00:19,  1.39s/it]"
     ]
    },
    {
     "name": "stdout",
     "output_type": "stream",
     "text": [
      "10 18.4578 -73.3389 19.76576577 -72.19072395\n"
     ]
    },
    {
     "name": "stderr",
     "output_type": "stream",
     "text": [
      "\r",
      " 54%|███████████████████████                    | 15/28 [00:25<00:17,  1.34s/it]"
     ]
    },
    {
     "name": "stdout",
     "output_type": "stream",
     "text": [
      "AM.RA887.00.EHZ failed to download. Continuing..\n",
      "10 18.4578 -73.3389 18.20720721 -66.22838073\n"
     ]
    },
    {
     "name": "stderr",
     "output_type": "stream",
     "text": [
      "\r",
      " 57%|████████████████████████▌                  | 16/28 [00:27<00:17,  1.43s/it]"
     ]
    },
    {
     "name": "stdout",
     "output_type": "stream",
     "text": [
      "10 18.4578 -73.3389 25.97297297 -80.37233493\n"
     ]
    },
    {
     "name": "stderr",
     "output_type": "stream",
     "text": [
      "\r",
      " 61%|██████████████████████████                 | 17/28 [00:28<00:15,  1.39s/it]"
     ]
    },
    {
     "name": "stdout",
     "output_type": "stream",
     "text": [
      "10 18.4578 -73.3389 25.99099099 -80.33726338\n"
     ]
    },
    {
     "name": "stderr",
     "output_type": "stream",
     "text": [
      "\r",
      " 64%|███████████████████████████▋               | 18/28 [00:29<00:13,  1.37s/it]"
     ]
    },
    {
     "name": "stdout",
     "output_type": "stream",
     "text": [
      "10 18.4578 -73.3389 25.93693694 -80.33003527\n"
     ]
    },
    {
     "name": "stderr",
     "output_type": "stream",
     "text": [
      "\r",
      " 68%|█████████████████████████████▏             | 19/28 [00:31<00:13,  1.46s/it]"
     ]
    },
    {
     "name": "stdout",
     "output_type": "stream",
     "text": [
      "10 18.4578 -73.3389 17.99099099 -66.61079735\n"
     ]
    },
    {
     "name": "stderr",
     "output_type": "stream",
     "text": [
      "\r",
      " 71%|██████████████████████████████▋            | 20/28 [00:32<00:11,  1.49s/it]"
     ]
    },
    {
     "name": "stdout",
     "output_type": "stream",
     "text": [
      "10 18.4578 -73.3389 18.08108108 -67.03136089\n"
     ]
    },
    {
     "name": "stderr",
     "output_type": "stream",
     "text": [
      "\r",
      " 75%|████████████████████████████████▎          | 21/28 [00:34<00:10,  1.44s/it]"
     ]
    },
    {
     "name": "stdout",
     "output_type": "stream",
     "text": [
      "10 18.4578 -73.3389 19.77477477 -72.22637702\n"
     ]
    },
    {
     "name": "stderr",
     "output_type": "stream",
     "text": [
      "\r",
      " 79%|█████████████████████████████████▊         | 22/28 [00:35<00:07,  1.26s/it]"
     ]
    },
    {
     "name": "stdout",
     "output_type": "stream",
     "text": [
      "AM.RD269.00.EHZ failed to download. Continuing..\n",
      "10 18.4578 -73.3389 18.1981982 -71.1000091\n"
     ]
    },
    {
     "name": "stderr",
     "output_type": "stream",
     "text": [
      "\r",
      " 82%|███████████████████████████████████▎       | 23/28 [00:36<00:06,  1.39s/it]"
     ]
    },
    {
     "name": "stdout",
     "output_type": "stream",
     "text": [
      "10 18.4578 -73.3389 18.36036036 -66.17987632\n"
     ]
    },
    {
     "name": "stderr",
     "output_type": "stream",
     "text": [
      "\r",
      " 86%|████████████████████████████████████▊      | 24/28 [00:38<00:06,  1.55s/it]"
     ]
    },
    {
     "name": "stdout",
     "output_type": "stream",
     "text": [
      "10 18.4578 -73.3389 18.27927928 -66.33100902\n"
     ]
    },
    {
     "name": "stderr",
     "output_type": "stream",
     "text": [
      "\r",
      " 89%|██████████████████████████████████████▍    | 25/28 [00:39<00:04,  1.41s/it]"
     ]
    },
    {
     "name": "stdout",
     "output_type": "stream",
     "text": [
      "10 18.4578 -73.3389 18.41441441 -68.93603553\n"
     ]
    },
    {
     "name": "stderr",
     "output_type": "stream",
     "text": [
      "\r",
      " 93%|███████████████████████████████████████▉   | 26/28 [00:41<00:02,  1.42s/it]"
     ]
    },
    {
     "name": "stdout",
     "output_type": "stream",
     "text": [
      "10 18.4578 -73.3389 18.30630631 -66.07594445\n"
     ]
    },
    {
     "name": "stderr",
     "output_type": "stream",
     "text": [
      "\r",
      " 96%|█████████████████████████████████████████▍ | 27/28 [00:43<00:01,  1.50s/it]"
     ]
    },
    {
     "name": "stdout",
     "output_type": "stream",
     "text": [
      "10 18.4578 -73.3389 18.08108108 -67.04209886\n"
     ]
    },
    {
     "name": "stderr",
     "output_type": "stream",
     "text": [
      "100%|███████████████████████████████████████████| 28/28 [00:43<00:00,  1.57s/it]"
     ]
    },
    {
     "name": "stdout",
     "output_type": "stream",
     "text": [
      "AM.S897D.00.EHZ failed to download. Continuing..\n",
      "rPtime =  60.0\n",
      "Trace SNR =  33507.00153670628 1\n",
      "Trace SNR =  1.9535977173105086 2\n",
      "Trace SNR =  1.1190312407952294 3\n"
     ]
    },
    {
     "name": "stderr",
     "output_type": "stream",
     "text": [
      "\n"
     ]
    },
    {
     "name": "stdout",
     "output_type": "stream",
     "text": [
      "Trace SNR =  480.8589546770031 4\n",
      "Trace SNR =  1.4192637527994663 5\n",
      "Trace SNR =  82.47129498163677 6\n",
      "Trace SNR =  1.29898385468013 7\n",
      "Trace SNR =  191.81053272544594 8\n",
      "Trace SNR =  1.3713020620842287 9\n",
      "Trace SNR =  0.9804724314212754 10\n",
      "Trace SNR =  13951.268120281064 11\n",
      "Trace SNR =  175.1629656881115 12\n",
      "Trace SNR =  1.427339646787087 13\n",
      "Trace SNR =  1.2224276212058625 14\n",
      "Trace SNR =  1.4254295476506453 15\n",
      "Trace SNR =  3.306360285749013 16\n",
      "Trace SNR =  176.94027532811185 17\n",
      "Trace SNR =  166888.31896330457 18\n",
      "Trace SNR =  6.006171446784444 19\n",
      "Trace SNR =  0.9928295704720193 20\n",
      "Trace SNR =  416.22344514400004 21\n",
      "Trace SNR =  2.625076714997328 22\n",
      "9  of  22 traces were kept above SNR threshold 10.0\n",
      "writing  /Users/hkunwer/Documents/research/EQenergy/events/2022/2022012400/RS/pkls/Params_2022012400.pkl \n",
      " /Users/hkunwer/Documents/research/EQenergy/events/2022/2022012400/RS/Params_2022012400.csv\n",
      "writing  /Users/hkunwer/Documents/research/EQenergy/events/2022/2022012400/RS/pkls/Wavestream-raw_2022012400.pkl\n"
     ]
    }
   ],
   "source": [
    "# getting waveforms\n",
    "Event.newData = True  # False means locally stored\n",
    "\n",
    "if Event.newData:\n",
    "    print(\"Getting waveforms\")\n",
    "    #st,df=getwaves(eloc,etime,pwindow=Def.waveparams[1],rads=Def.stationrange)\n",
    "    st,df=getwaves(Defaults=Defaults,Event=Event)\n",
    "else:\n",
    "    print(\"Loading locally stored waveforms\")\n",
    "    try:\n",
    "        st,df=loadwaves(Defaults=Defaults,Event=Event) \n",
    "    except:\n",
    "        print(\"Couldn't load data for \"+eventname+\". Attempting to download:\")\n",
    "        st,df=getwaves(Defaults=Defaults,Event=Event)\n",
    "if len(st) == 0:\n",
    "    raise Exception(\"ERROR: No waveforms retreived.\") "
   ]
  },
  {
   "cell_type": "code",
   "execution_count": 4,
   "id": "4c0c5659",
   "metadata": {},
   "outputs": [
    {
     "data": {
      "text/plain": [
       "9 Trace(s) in Stream:\n",
       "AM.R0306.00.EHZ | 2022-01-24T13:15:43.425999Z - 2022-01-24T13:21:43.425999Z | 100.0 Hz, 36001 samples\n",
       "AM.R2974.00.EHZ | 2022-01-24T13:16:51.211999Z - 2022-01-24T13:22:51.211999Z | 100.0 Hz, 36001 samples\n",
       "AM.R34A9.00.EHZ | 2022-01-24T13:17:00.989999Z - 2022-01-24T13:23:00.989999Z | 100.0 Hz, 36001 samples\n",
       "AM.R4DB9.00.EHZ | 2022-01-24T13:16:54.835000Z - 2022-01-24T13:22:54.835000Z | 100.0 Hz, 36001 samples\n",
       "AM.RA08A.00.EHZ | 2022-01-24T13:16:08.553000Z - 2022-01-24T13:22:08.553000Z | 100.0 Hz, 36001 samples\n",
       "AM.RA9CF.00.EHZ | 2022-01-24T13:17:02.590000Z - 2022-01-24T13:23:02.590000Z | 100.0 Hz, 36001 samples\n",
       "AM.RD17E.00.EHZ | 2022-01-24T13:16:52.256999Z - 2022-01-24T13:22:52.256999Z | 100.0 Hz, 36001 samples\n",
       "AM.RD4D8.00.EHZ | 2022-01-24T13:16:06.957000Z - 2022-01-24T13:21:59.197000Z | 100.0 Hz, 35225 samples\n",
       "AM.RE001.00.EHZ | 2022-01-24T13:16:27.183000Z - 2022-01-24T13:22:27.183000Z | 100.0 Hz, 36001 samples"
      ]
     },
     "execution_count": 4,
     "metadata": {},
     "output_type": "execute_result"
    }
   ],
   "source": [
    "# filter for instrument response and taper\n",
    "\n",
    "taper=0.05\n",
    "\n",
    "stp=st.copy()  # create backup\n",
    "# process data\n",
    "stp.detrend(type='polynomial', order=5) # pre-instrument removal\n",
    "stp.taper(taper)\n",
    "stp.remove_response(output=\"DISP\")\n",
    "stp.detrend(type='polynomial', order=5) # post-instrument removal\n",
    "stp.taper(taper)"
   ]
  },
  {
   "cell_type": "code",
   "execution_count": 5,
   "id": "fe0eaf48",
   "metadata": {},
   "outputs": [],
   "source": [
    "# process each individual frequency band in a bandpass using .filter\n",
    "# frequency bands of 0.1-0.25, 0.25-0.5, 0.5-0.75, 0.75-1, 1-1.5\n",
    "\n",
    "freqs = ([0.1,0.25],[0.25,0.5],[0.50,0.75],[0.75,1],[1,1.5])\n",
    "\n",
    "# freq1 band = 0.1-0.25,\n",
    "stp_freq1 = stp.copy()\n",
    "stp_freq1.filter(\"bandpass\",freqmin=0.10 , freqmax=0.25)\n",
    "\n",
    "# freq2 band = 0.25-0.5,\n",
    "stp_freq2 = stp.copy()\n",
    "stp_freq2.filter(\"bandpass\", freqmin=0.25, freqmax=0.50)\n",
    "\n",
    "# freq3 band = 0.5-0.75,\n",
    "stp_freq3 = stp.copy()\n",
    "stp_freq3.filter(\"bandpass\", freqmin=0.50, freqmax=0.75)\n",
    "\n",
    "# freq4 band = 0.75-1.\n",
    "stp_freq4 = stp.copy()\n",
    "stp_freq4.filter(\"bandpass\", freqmin=0.75, freqmax=1.0)\n",
    "\n",
    "# freq5 band = 0.75-1.\n",
    "stp_freq5 = stp.copy()\n",
    "stp_freq5.filter(\"bandpass\", freqmin=1, freqmax=1.5)\n",
    "\n",
    "#add all freq to a tuple\n",
    "stp_freqs = (stp_freq1,stp_freq2,stp_freq3,stp_freq4,stp_freq5)"
   ]
  },
  {
   "cell_type": "code",
   "execution_count": 6,
   "id": "5ad45dbd",
   "metadata": {},
   "outputs": [],
   "source": [
    "# unsure if need this in final code, if not how would i call it? \n",
    "# Maybe make a functions script and call from that??? Get on this hiba!!!\n",
    "\n",
    "def freqmaxes(trace, freqs):\n",
    "    \n",
    "    data = trace.data                           # the actual data\n",
    "    samp = data.shape[-1]                       # number of sample point\n",
    "    delta = trace.stats.delta                  # sample spacing \n",
    "    time = trace.times()                       # time axis \n",
    "\n",
    "    # ---- compute fft for our data\n",
    "    fftdata = np.fft.rfft(data, n=samp)\n",
    "\n",
    "    # ---- Fdat has real and complex part, to compute power spectrum we take the\n",
    "    fftdata_abs = np.abs(fftdata)\n",
    "\n",
    "    # ---- compute x-axis in frequency-domain for plotting\n",
    "    xf = np.linspace(0.0, 1.0/(2.0*delta), int(samp/2)+1)\n",
    "\n",
    "    maxamps = []\n",
    "    idx_of_max_amps = []\n",
    "    \n",
    "    for freq in freqs: \n",
    "        #argmin find specific position here\n",
    "        idx_of_min_freq = (np.abs(xf-freq[0])).argmin()\n",
    "        idx_of_max_freq = (np.abs(xf-freq[1])).argmin()\n",
    "        \n",
    "        fftdata_abs_slice = fftdata_abs[idx_of_min_freq:idx_of_max_freq]\n",
    "        \n",
    "        # ---- get the max value of amplitude spectrum\n",
    "        maxamp = fftdata_abs_slice.max()\n",
    "        idx_of_max_amp = int(np.where(fftdata_abs_slice == maxamp) + idx_of_min_freq)\n",
    "        maxamps.append(1.0/samp * maxamp)\n",
    "        idx_of_max_amps.append(idx_of_max_amp)\n",
    "    \n",
    "    return maxamps, idx_of_max_amps, xf"
   ]
  },
  {
   "cell_type": "code",
   "execution_count": 7,
   "id": "56bd9418",
   "metadata": {},
   "outputs": [],
   "source": [
    "# use freqmaxes function to get maxamps for all traces in one frequency band\n",
    "# compare the plots formed from the function above with previous tests in Appendix below\n",
    "\n",
    "ALLmaxamps, ALLidx_of_max_amps, trname = [], [], []\n",
    "\n",
    "for st in stp_freqs:\n",
    "\n",
    "    for tr in st:\n",
    "        \n",
    "        # print(f\"Now processing trace {tr}\")\n",
    "        maxamps, idx_of_max_amps, xf = freqmaxes(tr, freqs)\n",
    "        # print(maxamps, idx_of_max_amps) # to test if it worked\n",
    "        ALLmaxamps.append(maxamps)\n",
    "        ALLidx_of_max_amps.append(idx_of_max_amps)\n",
    "        trname.append(tr)"
   ]
  }
 ],
 "metadata": {
  "kernelspec": {
   "display_name": "Python 3 (ipykernel)",
   "language": "python",
   "name": "python3"
  },
  "language_info": {
   "codemirror_mode": {
    "name": "ipython",
    "version": 3
   },
   "file_extension": ".py",
   "mimetype": "text/x-python",
   "name": "python",
   "nbconvert_exporter": "python",
   "pygments_lexer": "ipython3",
   "version": "3.11.0"
  }
 },
 "nbformat": 4,
 "nbformat_minor": 5
}
