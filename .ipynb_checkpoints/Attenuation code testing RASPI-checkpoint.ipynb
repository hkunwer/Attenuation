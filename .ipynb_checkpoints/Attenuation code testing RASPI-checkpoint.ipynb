{
 "cells": [
  {
   "cell_type": "code",
   "execution_count": 1,
   "id": "b3b54fd1",
   "metadata": {},
   "outputs": [],
   "source": [
    "#obspy\n",
    "from obspy import UTCDateTime\n",
    "from obspy.taup import TauPyModel\n",
    "model = TauPyModel(model=\"iasp91\")\n",
    "#rtergpy (Andy's code)\n",
    "from rtergpy.run import defaults, event, etime2name\n",
    "from rtergpy.waveforms import getwaves, get_respinv\n",
    "#attenuation (Hiba's code)\n",
    "from AttenuationFunctions import processANSS, filtering, maxamp_calc, organize_data, maxamp_plot"
   ]
  },
  {
   "cell_type": "code",
   "execution_count": 2,
   "id": "1133cca3",
   "metadata": {
    "scrolled": false
   },
   "outputs": [
    {
     "name": "stdout",
     "output_type": "stream",
     "text": [
      "\n",
      "\n",
      "2022012400 ===============================\n",
      "ERROR:  coudn't move directory to  /Users/hkunwer/Documents/research/EQenergy/events/2022/2022012400/RS.bak\n",
      "Error:  Couldn't create directory:  /Users/hkunwer/Documents/research/EQenergy/events/2022/2022012400/RS\n",
      "Checking for stations available within range from IRIS\n",
      "Getting waves from RASPISHAKE\n"
     ]
    },
    {
     "name": "stderr",
     "output_type": "stream",
     "text": [
      "\r",
      "  0%|                                                    | 0/30 [00:00<?, ?it/s]"
     ]
    },
    {
     "name": "stdout",
     "output_type": "stream",
     "text": [
      "10.0 18.4578 -73.3389 18.52252252 -72.24929548\n"
     ]
    },
    {
     "name": "stderr",
     "output_type": "stream",
     "text": [
      "\r",
      "  3%|█▍                                          | 1/30 [00:01<00:38,  1.32s/it]"
     ]
    },
    {
     "name": "stdout",
     "output_type": "stream",
     "text": [
      "10.0 18.4578 -73.3389 25.92792793 -80.41194326\n"
     ]
    },
    {
     "name": "stderr",
     "output_type": "stream",
     "text": [
      "\r",
      "  7%|██▉                                         | 2/30 [00:02<00:31,  1.14s/it]"
     ]
    },
    {
     "name": "stdout",
     "output_type": "stream",
     "text": [
      "10.0 18.4578 -73.3389 25.88288288 -80.36355577\n"
     ]
    },
    {
     "name": "stderr",
     "output_type": "stream",
     "text": [
      "\r",
      " 10%|████▍                                       | 3/30 [00:03<00:29,  1.11s/it]"
     ]
    },
    {
     "name": "stdout",
     "output_type": "stream",
     "text": [
      "10.0 18.4578 -73.3389 18.12612613 -67.10740855\n"
     ]
    },
    {
     "name": "stderr",
     "output_type": "stream",
     "text": [
      "\r",
      " 13%|█████▊                                      | 4/30 [00:04<00:28,  1.10s/it]"
     ]
    },
    {
     "name": "stdout",
     "output_type": "stream",
     "text": [
      "10.0 18.4578 -73.3389 25.93693694 -80.33003527\n"
     ]
    },
    {
     "name": "stderr",
     "output_type": "stream",
     "text": [
      "\r",
      " 17%|███████▎                                    | 5/30 [00:05<00:29,  1.17s/it]"
     ]
    },
    {
     "name": "stdout",
     "output_type": "stream",
     "text": [
      "10.0 18.4578 -73.3389 18.45945946 -66.34149666\n"
     ]
    },
    {
     "name": "stderr",
     "output_type": "stream",
     "text": [
      "\r",
      " 20%|████████▊                                   | 6/30 [00:06<00:27,  1.14s/it]"
     ]
    },
    {
     "name": "stdout",
     "output_type": "stream",
     "text": [
      "10.0 18.4578 -73.3389 18.44144144 -66.00258091\n"
     ]
    },
    {
     "name": "stderr",
     "output_type": "stream",
     "text": [
      "\r",
      " 23%|██████████▎                                 | 7/30 [00:08<00:26,  1.17s/it]"
     ]
    },
    {
     "name": "stdout",
     "output_type": "stream",
     "text": [
      "10.0 18.4578 -73.3389 18.01801802 -66.83860199\n"
     ]
    },
    {
     "name": "stderr",
     "output_type": "stream",
     "text": [
      "\r",
      " 27%|███████████▋                                | 8/30 [00:09<00:25,  1.16s/it]"
     ]
    },
    {
     "name": "stdout",
     "output_type": "stream",
     "text": [
      "10.0 18.4578 -73.3389 18.45945946 -69.90366697\n"
     ]
    },
    {
     "name": "stderr",
     "output_type": "stream",
     "text": [
      "\r",
      " 30%|█████████████▏                              | 9/30 [00:10<00:23,  1.10s/it]"
     ]
    },
    {
     "name": "stdout",
     "output_type": "stream",
     "text": [
      "AM.R4EEE.00.EHZ failed to download. Continuing..\n",
      "10.0 18.4578 -73.3389 18.97297297 -69.03229849\n"
     ]
    },
    {
     "name": "stderr",
     "output_type": "stream",
     "text": [
      "\r",
      " 33%|██████████████▎                            | 10/30 [00:11<00:21,  1.06s/it]"
     ]
    },
    {
     "name": "stdout",
     "output_type": "stream",
     "text": [
      "AM.R54B1.00.EHZ failed to download. Continuing..\n",
      "10.0 18.4578 -73.3389 25.91891892 -80.32294168\n"
     ]
    },
    {
     "name": "stderr",
     "output_type": "stream",
     "text": [
      "\r",
      " 37%|███████████████▊                           | 11/30 [00:12<00:20,  1.08s/it]"
     ]
    },
    {
     "name": "stdout",
     "output_type": "stream",
     "text": [
      "10.0 18.4578 -73.3389 18.45945946 -67.11405725\n"
     ]
    },
    {
     "name": "stderr",
     "output_type": "stream",
     "text": [
      "\r",
      " 40%|█████████████████▏                         | 12/30 [00:13<00:18,  1.04s/it]"
     ]
    },
    {
     "name": "stdout",
     "output_type": "stream",
     "text": [
      "AM.R804D.00.EHZ failed to download. Continuing..\n",
      "10.0 18.4578 -73.3389 18.23423423 -72.52555277\n"
     ]
    },
    {
     "name": "stderr",
     "output_type": "stream",
     "text": [
      "\r",
      " 43%|██████████████████▋                        | 13/30 [00:14<00:17,  1.02s/it]"
     ]
    },
    {
     "name": "stdout",
     "output_type": "stream",
     "text": [
      "AM.R897D.00.EHZ failed to download. Continuing..\n",
      "10.0 18.4578 -73.3389 25.9009009 -80.35088029\n"
     ]
    },
    {
     "name": "stderr",
     "output_type": "stream",
     "text": [
      "\r",
      " 47%|████████████████████                       | 14/30 [00:15<00:16,  1.04s/it]"
     ]
    },
    {
     "name": "stdout",
     "output_type": "stream",
     "text": [
      "10.0 18.4578 -73.3389 19.81981982 -70.72312982\n"
     ]
    },
    {
     "name": "stderr",
     "output_type": "stream",
     "text": [
      "\r",
      " 50%|█████████████████████▌                     | 15/30 [00:16<00:16,  1.10s/it]"
     ]
    },
    {
     "name": "stdout",
     "output_type": "stream",
     "text": [
      "10.0 18.4578 -73.3389 19.76576577 -72.19072395\n"
     ]
    },
    {
     "name": "stderr",
     "output_type": "stream",
     "text": [
      "\r",
      " 53%|██████████████████████▉                    | 16/30 [00:17<00:14,  1.06s/it]"
     ]
    },
    {
     "name": "stdout",
     "output_type": "stream",
     "text": [
      "AM.RA887.00.EHZ failed to download. Continuing..\n",
      "10.0 18.4578 -73.3389 18.20720721 -66.22838073\n"
     ]
    },
    {
     "name": "stderr",
     "output_type": "stream",
     "text": [
      "\r",
      " 57%|████████████████████████▎                  | 17/30 [00:18<00:13,  1.07s/it]"
     ]
    },
    {
     "name": "stdout",
     "output_type": "stream",
     "text": [
      "10.0 18.4578 -73.3389 18.52252252 -72.31656731\n"
     ]
    },
    {
     "name": "stderr",
     "output_type": "stream",
     "text": [
      "\r",
      " 60%|█████████████████████████▊                 | 18/30 [00:19<00:12,  1.08s/it]"
     ]
    },
    {
     "name": "stdout",
     "output_type": "stream",
     "text": [
      "10.0 18.4578 -73.3389 25.97297297 -80.37233493\n"
     ]
    },
    {
     "name": "stderr",
     "output_type": "stream",
     "text": [
      "\r",
      " 63%|███████████████████████████▏               | 19/30 [00:20<00:11,  1.08s/it]"
     ]
    },
    {
     "name": "stdout",
     "output_type": "stream",
     "text": [
      "10.0 18.4578 -73.3389 25.99099099 -80.33726338\n"
     ]
    },
    {
     "name": "stderr",
     "output_type": "stream",
     "text": [
      "\r",
      " 67%|████████████████████████████▋              | 20/30 [00:21<00:11,  1.11s/it]"
     ]
    },
    {
     "name": "stdout",
     "output_type": "stream",
     "text": [
      "10.0 18.4578 -73.3389 25.93693694 -80.33003527\n"
     ]
    },
    {
     "name": "stderr",
     "output_type": "stream",
     "text": [
      "\r",
      " 70%|██████████████████████████████             | 21/30 [00:23<00:10,  1.14s/it]"
     ]
    },
    {
     "name": "stdout",
     "output_type": "stream",
     "text": [
      "10.0 18.4578 -73.3389 17.99099099 -66.61079735\n"
     ]
    },
    {
     "name": "stderr",
     "output_type": "stream",
     "text": [
      "\r",
      " 73%|███████████████████████████████▌           | 22/30 [00:24<00:09,  1.18s/it]"
     ]
    },
    {
     "name": "stdout",
     "output_type": "stream",
     "text": [
      "10.0 18.4578 -73.3389 18.08108108 -67.03136089\n"
     ]
    },
    {
     "name": "stderr",
     "output_type": "stream",
     "text": [
      "\r",
      " 77%|████████████████████████████████▉          | 23/30 [00:25<00:08,  1.16s/it]"
     ]
    },
    {
     "name": "stdout",
     "output_type": "stream",
     "text": [
      "10.0 18.4578 -73.3389 19.77477477 -72.22637702\n"
     ]
    },
    {
     "name": "stderr",
     "output_type": "stream",
     "text": [
      "\r",
      " 80%|██████████████████████████████████▍        | 24/30 [00:26<00:06,  1.10s/it]"
     ]
    },
    {
     "name": "stdout",
     "output_type": "stream",
     "text": [
      "AM.RD269.00.EHZ failed to download. Continuing..\n",
      "10.0 18.4578 -73.3389 18.1981982 -71.1000091\n"
     ]
    },
    {
     "name": "stderr",
     "output_type": "stream",
     "text": [
      "\r",
      " 83%|███████████████████████████████████▊       | 25/30 [00:27<00:05,  1.13s/it]"
     ]
    },
    {
     "name": "stdout",
     "output_type": "stream",
     "text": [
      "10.0 18.4578 -73.3389 18.36036036 -66.17987632\n"
     ]
    },
    {
     "name": "stderr",
     "output_type": "stream",
     "text": [
      "\r",
      " 87%|█████████████████████████████████████▎     | 26/30 [00:28<00:04,  1.08s/it]"
     ]
    },
    {
     "name": "stdout",
     "output_type": "stream",
     "text": [
      "AM.RD5CB.00.EHZ failed to download. Continuing..\n",
      "10.0 18.4578 -73.3389 18.27927928 -66.33100902\n"
     ]
    },
    {
     "name": "stderr",
     "output_type": "stream",
     "text": [
      "\r",
      " 90%|██████████████████████████████████████▋    | 27/30 [00:29<00:03,  1.08s/it]"
     ]
    },
    {
     "name": "stdout",
     "output_type": "stream",
     "text": [
      "10.0 18.4578 -73.3389 18.41441441 -68.93603553\n"
     ]
    },
    {
     "name": "stderr",
     "output_type": "stream",
     "text": [
      "\r",
      " 93%|████████████████████████████████████████▏  | 28/30 [00:30<00:02,  1.05s/it]"
     ]
    },
    {
     "name": "stdout",
     "output_type": "stream",
     "text": [
      "AM.RE001.00.EHZ failed to download. Continuing..\n",
      "10.0 18.4578 -73.3389 18.30630631 -66.07594445\n"
     ]
    },
    {
     "name": "stderr",
     "output_type": "stream",
     "text": [
      "\r",
      " 97%|█████████████████████████████████████████▌ | 29/30 [00:31<00:01,  1.11s/it]"
     ]
    },
    {
     "name": "stdout",
     "output_type": "stream",
     "text": [
      "10.0 18.4578 -73.3389 18.08108108 -67.04209886\n"
     ]
    },
    {
     "name": "stderr",
     "output_type": "stream",
     "text": [
      "100%|███████████████████████████████████████████| 30/30 [00:32<00:00,  1.10s/it]"
     ]
    },
    {
     "name": "stdout",
     "output_type": "stream",
     "text": [
      "AM.S897D.00.EHZ failed to download. Continuing..\n",
      "rPtime =  60.0\n",
      "Trace SNR =  33507.00153670628 1\n"
     ]
    },
    {
     "name": "stderr",
     "output_type": "stream",
     "text": [
      "\n"
     ]
    },
    {
     "name": "stdout",
     "output_type": "stream",
     "text": [
      "Trace SNR =  1.9535977173105086 2\n",
      "Trace SNR =  1.1190312407952294 3\n",
      "Trace SNR =  480.8589546770031 4\n",
      "Trace SNR =  1.4192637527994663 5\n",
      "Trace SNR =  82.47129498163677 6\n",
      "Trace SNR =  1.29898385468013 7\n",
      "Trace SNR =  191.81053272544594 8\n",
      "Trace SNR =  1.3713020620842287 9\n",
      "Trace SNR =  0.9804724314212754 10\n",
      "Trace SNR =  13951.268120281064 11\n",
      "Trace SNR =  175.1629656881115 12\n",
      "Trace SNR =  1.5329622833418426 13\n",
      "Trace SNR =  1.427339646787087 14\n",
      "Trace SNR =  1.2224276212058625 15\n",
      "Trace SNR =  1.4254295476506453 16\n",
      "Trace SNR =  3.306360285749013 17\n",
      "Trace SNR =  176.94027532811185 18\n",
      "Trace SNR =  166888.31896330457 19\n",
      "Trace SNR =  0.9928295704720193 20\n",
      "Trace SNR =  2.625076714997328 21\n",
      "8  of  21 traces were kept above SNR threshold 10.0\n",
      "writing  /Users/hkunwer/Documents/research/EQenergy/events/2022/2022012400/RS/pkls/Params_2022012400.pkl \n",
      " /Users/hkunwer/Documents/research/EQenergy/events/2022/2022012400/RS/Params_2022012400.csv\n",
      "writing  /Users/hkunwer/Documents/research/EQenergy/events/2022/2022012400/RS/pkls/Wavestream-raw_2022012400.pkl\n"
     ]
    }
   ],
   "source": [
    "# Processing and Reading information about event stored in ANSS_data.txt\n",
    "Defaults = defaults()\n",
    "Event = event()\n",
    "Defaults.src='RASPISHAKE'\n",
    "Defaults.network='AM'\n",
    "Defaults.chan= 'EHZ'\n",
    "Defaults.stationrange=[0.5,10.0]\n",
    "Event.ecount='00'\n",
    "Event.iter='RS'\n",
    "Event.newData = False   # False means use already downloaded data\n",
    "edateold=\"\"\n",
    "ANSS = processANSS() \n",
    "for index, EQ in ANSS.iterrows(): #organizing data to use details\n",
    "    rads = Defaults.stationrange\n",
    "    eloc = [EQ.Latitude,EQ.Longitude,EQ.Depth] \n",
    "    MagType = [EQ.Mtype]\n",
    "    MagValue = [EQ.Mag]\n",
    "    Magnitude = [MagType, MagValue]\n",
    "    year,mo,dy = EQ.Date.split('-')\n",
    "    hh,mn,sec = EQ.Time.split(':')\n",
    "    etime=(UTCDateTime(int(year),int(mo),int(dy),int(hh),int(mn),float(sec)))\n",
    "    if EQ.Date == edateold:\n",
    "        Event.ecount=str(int(Event.ecount)+1).zfill(2)\n",
    "    else:\n",
    "        Event.ecount='00'\n",
    "    edateold=EQ.Date\n",
    "    Event.eventname=etime2name(etime,ecount=Event.ecount)\n",
    "    Event.origin=[eloc,etime]\n",
    "    print(\"\\n\\n\"+Event.eventname+\" ===============================\")\n",
    "    try:\n",
    "        st, df = [], []\n",
    "        st, df = getwaves(Defaults,Event)\n",
    "    except:\n",
    "        print(\"ERROR: running on \"+Event.eventname+\" failed!!!!\\n\\n\") "
   ]
  },
  {
   "cell_type": "code",
   "execution_count": 3,
   "id": "8921edcd",
   "metadata": {},
   "outputs": [],
   "source": [
    "eventID = (str(etime)+Event.iter+Event.ecount) # creates unique event name\n",
    "inventory = get_respinv(Defaults.network,eloc,etime,rads,Defaults.chan,Defaults.src)"
   ]
  },
  {
   "cell_type": "code",
   "execution_count": 4,
   "id": "fabeedb7",
   "metadata": {},
   "outputs": [],
   "source": [
    "stp = filtering(st) # filter stream for instrument response and taper"
   ]
  },
  {
   "cell_type": "code",
   "execution_count": 5,
   "id": "38c66adb",
   "metadata": {
    "scrolled": false
   },
   "outputs": [],
   "source": [
    "df_freq = maxamp_calc(stp, eventID, EQ, Defaults) #calculate max amps and dist for each tr at freq bands"
   ]
  },
  {
   "cell_type": "code",
   "execution_count": 6,
   "id": "3c751087",
   "metadata": {
    "scrolled": false
   },
   "outputs": [
    {
     "data": {
      "image/png": "[encoded data removed]",
      "text/plain": [
       "<Figure size 640x480 with 1 Axes>"
      ]
     },
     "metadata": {},
     "output_type": "display_data"
    }
   ],
   "source": [
    "organize_data(df_freq, EQ, etime, eloc, eventID) #creates dataframe of all results\n",
    "maxamp_plot(eventID,df_freq) #plots maxamps vs distance, df_freq[df_freq[\"station\"] != \"RA9CF\"] # this removes outlier rowremoving outlier\n",
    "#other option is limit y-axis range to filter it out on plot"
   ]
  },
  {
   "cell_type": "code",
   "execution_count": 7,
   "id": "6bdcbb46",
   "metadata": {},
   "outputs": [],
   "source": [
    "#save as pkl instead of csv\n",
    "#graph IRIS and RASPI on same plot for one event, change shape for other\n",
    "#use multiple events and then we'll normalize, possibly by higher band"
   ]
  },
  {
   "cell_type": "code",
   "execution_count": 8,
   "id": "a2b1ac62",
   "metadata": {},
   "outputs": [
    {
     "data": {
      "text/html": [
       "<div>\n",
       "<style scoped>\n",
       "    .dataframe tbody tr th:only-of-type {\n",
       "        vertical-align: middle;\n",
       "    }\n",
       "\n",
       "    .dataframe tbody tr th {\n",
       "        vertical-align: top;\n",
       "    }\n",
       "\n",
       "    .dataframe thead th {\n",
       "        text-align: right;\n",
       "    }\n",
       "</style>\n",
       "<table border=\"1\" class=\"dataframe\">\n",
       "  <thead>\n",
       "    <tr style=\"text-align: right;\">\n",
       "      <th></th>\n",
       "      <th>maxamps</th>\n",
       "      <th>distance</th>\n",
       "      <th>station</th>\n",
       "      <th>frequency</th>\n",
       "    </tr>\n",
       "  </thead>\n",
       "  <tbody>\n",
       "    <tr>\n",
       "      <th>0</th>\n",
       "      <td>7.875058e-05</td>\n",
       "      <td>115.294131</td>\n",
       "      <td>R0306</td>\n",
       "      <td>(0.1, 0.25)</td>\n",
       "    </tr>\n",
       "    <tr>\n",
       "      <th>1</th>\n",
       "      <td>7.780218e-06</td>\n",
       "      <td>659.840192</td>\n",
       "      <td>R2974</td>\n",
       "      <td>(0.1, 0.25)</td>\n",
       "    </tr>\n",
       "    <tr>\n",
       "      <th>2</th>\n",
       "      <td>9.728492e-06</td>\n",
       "      <td>739.074461</td>\n",
       "      <td>R34A9</td>\n",
       "      <td>(0.1, 0.25)</td>\n",
       "    </tr>\n",
       "    <tr>\n",
       "      <th>3</th>\n",
       "      <td>1.550400e-05</td>\n",
       "      <td>689.167677</td>\n",
       "      <td>R4DB9</td>\n",
       "      <td>(0.1, 0.25)</td>\n",
       "    </tr>\n",
       "    <tr>\n",
       "      <th>4</th>\n",
       "      <td>5.786651e-05</td>\n",
       "      <td>313.774261</td>\n",
       "      <td>RA08A</td>\n",
       "      <td>(0.1, 0.25)</td>\n",
       "    </tr>\n",
       "    <tr>\n",
       "      <th>6</th>\n",
       "      <td>1.240352e-05</td>\n",
       "      <td>668.245382</td>\n",
       "      <td>RD17E</td>\n",
       "      <td>(0.1, 0.25)</td>\n",
       "    </tr>\n",
       "    <tr>\n",
       "      <th>7</th>\n",
       "      <td>4.714891e-05</td>\n",
       "      <td>238.403631</td>\n",
       "      <td>RD4D8</td>\n",
       "      <td>(0.1, 0.25)</td>\n",
       "    </tr>\n",
       "    <tr>\n",
       "      <th>8</th>\n",
       "      <td>1.265597e-04</td>\n",
       "      <td>115.294131</td>\n",
       "      <td>R0306</td>\n",
       "      <td>(0.25, 0.5)</td>\n",
       "    </tr>\n",
       "    <tr>\n",
       "      <th>9</th>\n",
       "      <td>6.306677e-06</td>\n",
       "      <td>659.840192</td>\n",
       "      <td>R2974</td>\n",
       "      <td>(0.25, 0.5)</td>\n",
       "    </tr>\n",
       "    <tr>\n",
       "      <th>10</th>\n",
       "      <td>9.474235e-06</td>\n",
       "      <td>739.074461</td>\n",
       "      <td>R34A9</td>\n",
       "      <td>(0.25, 0.5)</td>\n",
       "    </tr>\n",
       "    <tr>\n",
       "      <th>11</th>\n",
       "      <td>1.546408e-05</td>\n",
       "      <td>689.167677</td>\n",
       "      <td>R4DB9</td>\n",
       "      <td>(0.25, 0.5)</td>\n",
       "    </tr>\n",
       "    <tr>\n",
       "      <th>12</th>\n",
       "      <td>7.429170e-05</td>\n",
       "      <td>313.774261</td>\n",
       "      <td>RA08A</td>\n",
       "      <td>(0.25, 0.5)</td>\n",
       "    </tr>\n",
       "    <tr>\n",
       "      <th>14</th>\n",
       "      <td>1.202918e-05</td>\n",
       "      <td>668.245382</td>\n",
       "      <td>RD17E</td>\n",
       "      <td>(0.25, 0.5)</td>\n",
       "    </tr>\n",
       "    <tr>\n",
       "      <th>15</th>\n",
       "      <td>7.893187e-05</td>\n",
       "      <td>238.403631</td>\n",
       "      <td>RD4D8</td>\n",
       "      <td>(0.25, 0.5)</td>\n",
       "    </tr>\n",
       "    <tr>\n",
       "      <th>16</th>\n",
       "      <td>1.108345e-04</td>\n",
       "      <td>115.294131</td>\n",
       "      <td>R0306</td>\n",
       "      <td>(0.5, 0.75)</td>\n",
       "    </tr>\n",
       "    <tr>\n",
       "      <th>17</th>\n",
       "      <td>3.513925e-06</td>\n",
       "      <td>659.840192</td>\n",
       "      <td>R2974</td>\n",
       "      <td>(0.5, 0.75)</td>\n",
       "    </tr>\n",
       "    <tr>\n",
       "      <th>18</th>\n",
       "      <td>3.924763e-06</td>\n",
       "      <td>739.074461</td>\n",
       "      <td>R34A9</td>\n",
       "      <td>(0.5, 0.75)</td>\n",
       "    </tr>\n",
       "    <tr>\n",
       "      <th>19</th>\n",
       "      <td>6.261961e-06</td>\n",
       "      <td>689.167677</td>\n",
       "      <td>R4DB9</td>\n",
       "      <td>(0.5, 0.75)</td>\n",
       "    </tr>\n",
       "    <tr>\n",
       "      <th>20</th>\n",
       "      <td>3.277844e-05</td>\n",
       "      <td>313.774261</td>\n",
       "      <td>RA08A</td>\n",
       "      <td>(0.5, 0.75)</td>\n",
       "    </tr>\n",
       "    <tr>\n",
       "      <th>22</th>\n",
       "      <td>4.555283e-06</td>\n",
       "      <td>668.245382</td>\n",
       "      <td>RD17E</td>\n",
       "      <td>(0.5, 0.75)</td>\n",
       "    </tr>\n",
       "    <tr>\n",
       "      <th>23</th>\n",
       "      <td>4.515071e-05</td>\n",
       "      <td>238.403631</td>\n",
       "      <td>RD4D8</td>\n",
       "      <td>(0.5, 0.75)</td>\n",
       "    </tr>\n",
       "    <tr>\n",
       "      <th>24</th>\n",
       "      <td>5.628535e-05</td>\n",
       "      <td>115.294131</td>\n",
       "      <td>R0306</td>\n",
       "      <td>(0.75, 1.0)</td>\n",
       "    </tr>\n",
       "    <tr>\n",
       "      <th>25</th>\n",
       "      <td>1.558516e-06</td>\n",
       "      <td>659.840192</td>\n",
       "      <td>R2974</td>\n",
       "      <td>(0.75, 1.0)</td>\n",
       "    </tr>\n",
       "    <tr>\n",
       "      <th>26</th>\n",
       "      <td>8.028031e-07</td>\n",
       "      <td>739.074461</td>\n",
       "      <td>R34A9</td>\n",
       "      <td>(0.75, 1.0)</td>\n",
       "    </tr>\n",
       "    <tr>\n",
       "      <th>27</th>\n",
       "      <td>3.281429e-06</td>\n",
       "      <td>689.167677</td>\n",
       "      <td>R4DB9</td>\n",
       "      <td>(0.75, 1.0)</td>\n",
       "    </tr>\n",
       "    <tr>\n",
       "      <th>28</th>\n",
       "      <td>3.442144e-05</td>\n",
       "      <td>313.774261</td>\n",
       "      <td>RA08A</td>\n",
       "      <td>(0.75, 1.0)</td>\n",
       "    </tr>\n",
       "    <tr>\n",
       "      <th>30</th>\n",
       "      <td>1.047311e-06</td>\n",
       "      <td>668.245382</td>\n",
       "      <td>RD17E</td>\n",
       "      <td>(0.75, 1.0)</td>\n",
       "    </tr>\n",
       "    <tr>\n",
       "      <th>31</th>\n",
       "      <td>3.680041e-05</td>\n",
       "      <td>238.403631</td>\n",
       "      <td>RD4D8</td>\n",
       "      <td>(0.75, 1.0)</td>\n",
       "    </tr>\n",
       "    <tr>\n",
       "      <th>32</th>\n",
       "      <td>4.214338e-05</td>\n",
       "      <td>115.294131</td>\n",
       "      <td>R0306</td>\n",
       "      <td>(1.0, 1.25)</td>\n",
       "    </tr>\n",
       "    <tr>\n",
       "      <th>33</th>\n",
       "      <td>4.404929e-07</td>\n",
       "      <td>659.840192</td>\n",
       "      <td>R2974</td>\n",
       "      <td>(1.0, 1.25)</td>\n",
       "    </tr>\n",
       "    <tr>\n",
       "      <th>34</th>\n",
       "      <td>3.412296e-07</td>\n",
       "      <td>739.074461</td>\n",
       "      <td>R34A9</td>\n",
       "      <td>(1.0, 1.25)</td>\n",
       "    </tr>\n",
       "    <tr>\n",
       "      <th>35</th>\n",
       "      <td>1.747793e-06</td>\n",
       "      <td>689.167677</td>\n",
       "      <td>R4DB9</td>\n",
       "      <td>(1.0, 1.25)</td>\n",
       "    </tr>\n",
       "    <tr>\n",
       "      <th>36</th>\n",
       "      <td>9.183056e-06</td>\n",
       "      <td>313.774261</td>\n",
       "      <td>RA08A</td>\n",
       "      <td>(1.0, 1.25)</td>\n",
       "    </tr>\n",
       "    <tr>\n",
       "      <th>38</th>\n",
       "      <td>4.381182e-07</td>\n",
       "      <td>668.245382</td>\n",
       "      <td>RD17E</td>\n",
       "      <td>(1.0, 1.25)</td>\n",
       "    </tr>\n",
       "    <tr>\n",
       "      <th>39</th>\n",
       "      <td>8.775347e-06</td>\n",
       "      <td>238.403631</td>\n",
       "      <td>RD4D8</td>\n",
       "      <td>(1.0, 1.25)</td>\n",
       "    </tr>\n",
       "  </tbody>\n",
       "</table>\n",
       "</div>"
      ],
      "text/plain": [
       "         maxamps    distance station    frequency\n",
       "0   7.875058e-05  115.294131   R0306  (0.1, 0.25)\n",
       "1   7.780218e-06  659.840192   R2974  (0.1, 0.25)\n",
       "2   9.728492e-06  739.074461   R34A9  (0.1, 0.25)\n",
       "3   1.550400e-05  689.167677   R4DB9  (0.1, 0.25)\n",
       "4   5.786651e-05  313.774261   RA08A  (0.1, 0.25)\n",
       "6   1.240352e-05  668.245382   RD17E  (0.1, 0.25)\n",
       "7   4.714891e-05  238.403631   RD4D8  (0.1, 0.25)\n",
       "8   1.265597e-04  115.294131   R0306  (0.25, 0.5)\n",
       "9   6.306677e-06  659.840192   R2974  (0.25, 0.5)\n",
       "10  9.474235e-06  739.074461   R34A9  (0.25, 0.5)\n",
       "11  1.546408e-05  689.167677   R4DB9  (0.25, 0.5)\n",
       "12  7.429170e-05  313.774261   RA08A  (0.25, 0.5)\n",
       "14  1.202918e-05  668.245382   RD17E  (0.25, 0.5)\n",
       "15  7.893187e-05  238.403631   RD4D8  (0.25, 0.5)\n",
       "16  1.108345e-04  115.294131   R0306  (0.5, 0.75)\n",
       "17  3.513925e-06  659.840192   R2974  (0.5, 0.75)\n",
       "18  3.924763e-06  739.074461   R34A9  (0.5, 0.75)\n",
       "19  6.261961e-06  689.167677   R4DB9  (0.5, 0.75)\n",
       "20  3.277844e-05  313.774261   RA08A  (0.5, 0.75)\n",
       "22  4.555283e-06  668.245382   RD17E  (0.5, 0.75)\n",
       "23  4.515071e-05  238.403631   RD4D8  (0.5, 0.75)\n",
       "24  5.628535e-05  115.294131   R0306  (0.75, 1.0)\n",
       "25  1.558516e-06  659.840192   R2974  (0.75, 1.0)\n",
       "26  8.028031e-07  739.074461   R34A9  (0.75, 1.0)\n",
       "27  3.281429e-06  689.167677   R4DB9  (0.75, 1.0)\n",
       "28  3.442144e-05  313.774261   RA08A  (0.75, 1.0)\n",
       "30  1.047311e-06  668.245382   RD17E  (0.75, 1.0)\n",
       "31  3.680041e-05  238.403631   RD4D8  (0.75, 1.0)\n",
       "32  4.214338e-05  115.294131   R0306  (1.0, 1.25)\n",
       "33  4.404929e-07  659.840192   R2974  (1.0, 1.25)\n",
       "34  3.412296e-07  739.074461   R34A9  (1.0, 1.25)\n",
       "35  1.747793e-06  689.167677   R4DB9  (1.0, 1.25)\n",
       "36  9.183056e-06  313.774261   RA08A  (1.0, 1.25)\n",
       "38  4.381182e-07  668.245382   RD17E  (1.0, 1.25)\n",
       "39  8.775347e-06  238.403631   RD4D8  (1.0, 1.25)"
      ]
     },
     "execution_count": 8,
     "metadata": {},
     "output_type": "execute_result"
    }
   ],
   "source": [
    "df_freq[df_freq[\"station\"] != \"RA9CF\"] # this removes outlier row"
   ]
  },
  {
   "cell_type": "code",
   "execution_count": null,
   "id": "32877177",
   "metadata": {},
   "outputs": [],
   "source": []
  }
 ],
 "metadata": {
  "kernelspec": {
   "display_name": "Python 3 (ipykernel)",
   "language": "python",
   "name": "python3"
  },
  "language_info": {
   "codemirror_mode": {
    "name": "ipython",
    "version": 3
   },
   "file_extension": ".py",
   "mimetype": "text/x-python",
   "name": "python",
   "nbconvert_exporter": "python",
   "pygments_lexer": "ipython3",
   "version": "3.11.0"
  }
 },
 "nbformat": 4,
 "nbformat_minor": 5
}
