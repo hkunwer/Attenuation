{
 "cells": [
  {
   "cell_type": "code",
   "execution_count": 1,
   "id": "08cf82c1",
   "metadata": {},
   "outputs": [],
   "source": [
    "#obspy\n",
    "from obspy import UTCDateTime\n",
    "from obspy.taup import TauPyModel\n",
    "import pandas as pd \n",
    "model = TauPyModel(model=\"iasp91\")\n",
    "#rtergpy (Andy's code)\n",
    "from rtergpy_reference.run import defaults, event, etime2name\n",
    "from rtergpy_reference.waveforms import getwaves\n",
    "#attenuation (Hiba's code)\n",
    "from AttenuationFunctionsTesting import check_existing_dataframe, processANSStxt, filteringst, maxamp_calc_freq_bands, max_and_normalized_max_plots"
   ]
  },
  {
   "cell_type": "code",
   "execution_count": 2,
   "id": "0a596405",
   "metadata": {
    "scrolled": true
   },
   "outputs": [
    {
     "name": "stdout",
     "output_type": "stream",
     "text": [
      "Failed Check: Could not find existing dataframe\n",
      "Do you want to save the data to a different file? (yes/no): yes\n",
      "Enter a new filename to save the data to (including extension, e.g., 'my_data.pkl'): near_field_df.pkl\n",
      "Completed: Created new dataframe to store normalized data later\n",
      "\n",
      "\n",
      "2021071900RS ===============================\n",
      "SNR = 5.0\n",
      "ERROR:  coudn't move directory to  /Users/hkunwer/Documents/research/EQenergy/events/2021/2021071900RS/RS.bak\n",
      "Error:  Couldn't create directory:  /Users/hkunwer/Documents/research/EQenergy/events/2021/2021071900RS/RS\n",
      "Checking for stations available within range from IRIS\n",
      "Getting waves from RASPISHAKE\n"
     ]
    },
    {
     "name": "stderr",
     "output_type": "stream",
     "text": [
      "\r",
      "  0%|                                                    | 0/37 [00:00<?, ?it/s]"
     ]
    },
    {
     "name": "stdout",
     "output_type": "stream",
     "text": [
      "10.0 19.7691 -75.5106 18.3963964 -66.04477657\n"
     ]
    },
    {
     "name": "stderr",
     "output_type": "stream",
     "text": [
      "\r",
      "  3%|█▏                                          | 1/37 [00:01<00:37,  1.04s/it]"
     ]
    },
    {
     "name": "stdout",
     "output_type": "stream",
     "text": [
      "AM.R0050.00.EHZ failed to download. Continuing..\n",
      "10.0 19.7691 -75.5106 18.52252252 -72.24929548\n"
     ]
    },
    {
     "name": "stderr",
     "output_type": "stream",
     "text": [
      "\r",
      "  5%|██▍                                         | 2/37 [00:02<00:45,  1.30s/it]"
     ]
    },
    {
     "name": "stdout",
     "output_type": "stream",
     "text": [
      "10.0 19.7691 -75.5106 25.88288288 -80.36355577\n"
     ]
    },
    {
     "name": "stderr",
     "output_type": "stream",
     "text": [
      "\r",
      "  8%|███▌                                        | 3/37 [00:03<00:39,  1.16s/it]"
     ]
    },
    {
     "name": "stdout",
     "output_type": "stream",
     "text": [
      "AM.R17FC.00.EHZ failed to download. Continuing..\n",
      "10.0 19.7691 -75.5106 18.76576577 -69.04034547\n"
     ]
    },
    {
     "name": "stderr",
     "output_type": "stream",
     "text": [
      "\r",
      " 11%|████▊                                       | 4/37 [00:04<00:41,  1.26s/it]"
     ]
    },
    {
     "name": "stdout",
     "output_type": "stream",
     "text": [
      "10.0 19.7691 -75.5106 18.68468468 -68.61928335\n"
     ]
    },
    {
     "name": "stderr",
     "output_type": "stream",
     "text": [
      "\r",
      " 14%|█████▉                                      | 5/37 [00:06<00:40,  1.26s/it]"
     ]
    },
    {
     "name": "stdout",
     "output_type": "stream",
     "text": [
      "10.0 19.7691 -75.5106 18.12612613 -67.10740855\n"
     ]
    },
    {
     "name": "stderr",
     "output_type": "stream",
     "text": [
      "\r",
      " 16%|███████▏                                    | 6/37 [00:07<00:41,  1.33s/it]"
     ]
    },
    {
     "name": "stdout",
     "output_type": "stream",
     "text": [
      "10.0 19.7691 -75.5106 18.38738739 -66.0782667\n"
     ]
    },
    {
     "name": "stderr",
     "output_type": "stream",
     "text": [
      "\r",
      " 19%|████████▎                                   | 7/37 [00:08<00:36,  1.21s/it]"
     ]
    },
    {
     "name": "stdout",
     "output_type": "stream",
     "text": [
      "AM.R2BF8.00.EHZ failed to download. Continuing..\n",
      "10.0 19.7691 -75.5106 18.45945946 -66.34149666\n"
     ]
    },
    {
     "name": "stderr",
     "output_type": "stream",
     "text": [
      "\r",
      " 22%|█████████▌                                  | 8/37 [00:10<00:36,  1.27s/it]"
     ]
    },
    {
     "name": "stdout",
     "output_type": "stream",
     "text": [
      "10.0 19.7691 -75.5106 18.44144144 -66.00258091\n"
     ]
    },
    {
     "name": "stderr",
     "output_type": "stream",
     "text": [
      "\r",
      " 24%|██████████▋                                 | 9/37 [00:11<00:40,  1.43s/it]"
     ]
    },
    {
     "name": "stdout",
     "output_type": "stream",
     "text": [
      "10.0 19.7691 -75.5106 18.55855856 -72.29231691\n"
     ]
    },
    {
     "name": "stderr",
     "output_type": "stream",
     "text": [
      "\r",
      " 27%|███████████▌                               | 10/37 [00:12<00:36,  1.35s/it]"
     ]
    },
    {
     "name": "stdout",
     "output_type": "stream",
     "text": [
      "AM.R49B6.00.EHZ failed to download. Continuing..\n",
      "10.0 19.7691 -75.5106 18.01801802 -66.83860199\n"
     ]
    },
    {
     "name": "stderr",
     "output_type": "stream",
     "text": [
      "\r",
      " 30%|████████████▊                              | 11/37 [00:14<00:36,  1.42s/it]"
     ]
    },
    {
     "name": "stdout",
     "output_type": "stream",
     "text": [
      "10.0 19.7691 -75.5106 18.22522523 -73.61282146\n"
     ]
    },
    {
     "name": "stderr",
     "output_type": "stream",
     "text": [
      "\r",
      " 32%|█████████████▉                             | 12/37 [00:16<00:35,  1.43s/it]"
     ]
    },
    {
     "name": "stdout",
     "output_type": "stream",
     "text": [
      "10.0 19.7691 -75.5106 18.5045045 -73.34156397\n"
     ]
    },
    {
     "name": "stderr",
     "output_type": "stream",
     "text": [
      "\r",
      " 35%|███████████████                            | 13/37 [00:17<00:31,  1.30s/it]"
     ]
    },
    {
     "name": "stdout",
     "output_type": "stream",
     "text": [
      "AM.R73EC.00.EHZ failed to download. Continuing..\n",
      "10.0 19.7691 -75.5106 18.45945946 -67.11405725\n"
     ]
    },
    {
     "name": "stderr",
     "output_type": "stream",
     "text": [
      "\r",
      " 38%|████████████████▎                          | 14/37 [00:18<00:27,  1.21s/it]"
     ]
    },
    {
     "name": "stdout",
     "output_type": "stream",
     "text": [
      "AM.R804D.00.EHZ failed to download. Continuing..\n",
      "10.0 19.7691 -75.5106 18.23423423 -72.52555277\n"
     ]
    },
    {
     "name": "stderr",
     "output_type": "stream",
     "text": [
      "\r",
      " 41%|█████████████████▍                         | 15/37 [00:19<00:25,  1.15s/it]"
     ]
    },
    {
     "name": "stdout",
     "output_type": "stream",
     "text": [
      "AM.R897D.00.EHZ failed to download. Continuing..\n",
      "10.0 19.7691 -75.5106 25.9009009 -80.35088029\n"
     ]
    },
    {
     "name": "stderr",
     "output_type": "stream",
     "text": [
      "\r",
      " 43%|██████████████████▌                        | 16/37 [00:20<00:26,  1.26s/it]"
     ]
    },
    {
     "name": "stdout",
     "output_type": "stream",
     "text": [
      "10.0 19.7691 -75.5106 18.38738739 -66.06773752\n"
     ]
    },
    {
     "name": "stderr",
     "output_type": "stream",
     "text": [
      "\r",
      " 46%|███████████████████▊                       | 17/37 [00:22<00:27,  1.40s/it]"
     ]
    },
    {
     "name": "stdout",
     "output_type": "stream",
     "text": [
      "10.0 19.7691 -75.5106 19.81981982 -70.72312982\n"
     ]
    },
    {
     "name": "stderr",
     "output_type": "stream",
     "text": [
      "\r",
      " 49%|████████████████████▉                      | 18/37 [00:23<00:27,  1.46s/it]"
     ]
    },
    {
     "name": "stdout",
     "output_type": "stream",
     "text": [
      "10.0 19.7691 -75.5106 28.14414414 -80.66404573\n"
     ]
    },
    {
     "name": "stderr",
     "output_type": "stream",
     "text": [
      "\r",
      " 51%|██████████████████████                     | 19/37 [00:25<00:27,  1.54s/it]"
     ]
    },
    {
     "name": "stdout",
     "output_type": "stream",
     "text": [
      "10.0 19.7691 -75.5106 18.43243243 -66.05875416\n"
     ]
    },
    {
     "name": "stderr",
     "output_type": "stream",
     "text": [
      "\r",
      " 54%|███████████████████████▏                   | 20/37 [00:26<00:23,  1.36s/it]"
     ]
    },
    {
     "name": "stdout",
     "output_type": "stream",
     "text": [
      "AM.RA906.00.EHZ failed to download. Continuing..\n",
      "10.0 19.7691 -75.5106 18.40540541 -66.06545422\n"
     ]
    },
    {
     "name": "stderr",
     "output_type": "stream",
     "text": [
      "\r",
      " 57%|████████████████████████▍                  | 21/37 [00:28<00:23,  1.47s/it]"
     ]
    },
    {
     "name": "stdout",
     "output_type": "stream",
     "text": [
      "10.0 19.7691 -75.5106 18.52252252 -72.31656731\n"
     ]
    },
    {
     "name": "stderr",
     "output_type": "stream",
     "text": [
      "\r",
      " 59%|█████████████████████████▌                 | 22/37 [00:29<00:21,  1.46s/it]"
     ]
    },
    {
     "name": "stdout",
     "output_type": "stream",
     "text": [
      "10.0 19.7691 -75.5106 25.99099099 -80.33726338\n"
     ]
    },
    {
     "name": "stderr",
     "output_type": "stream",
     "text": [
      "\r",
      " 62%|██████████████████████████▋                | 23/37 [00:31<00:20,  1.49s/it]"
     ]
    },
    {
     "name": "stdout",
     "output_type": "stream",
     "text": [
      "10.0 19.7691 -75.5106 25.93693694 -80.33003527\n"
     ]
    },
    {
     "name": "stderr",
     "output_type": "stream",
     "text": [
      "\r",
      " 65%|███████████████████████████▉               | 24/37 [00:32<00:19,  1.51s/it]"
     ]
    },
    {
     "name": "stdout",
     "output_type": "stream",
     "text": [
      "10.0 19.7691 -75.5106 17.99099099 -66.61079735\n"
     ]
    },
    {
     "name": "stderr",
     "output_type": "stream",
     "text": [
      "\r",
      " 68%|█████████████████████████████              | 25/37 [00:34<00:18,  1.51s/it]"
     ]
    },
    {
     "name": "stdout",
     "output_type": "stream",
     "text": [
      "10.0 19.7691 -75.5106 18.5045045 -73.34156397\n"
     ]
    },
    {
     "name": "stderr",
     "output_type": "stream",
     "text": [
      "\r",
      " 70%|██████████████████████████████▏            | 26/37 [00:35<00:14,  1.36s/it]"
     ]
    },
    {
     "name": "stdout",
     "output_type": "stream",
     "text": [
      "AM.RCE1F.00.EHZ failed to download. Continuing..\n",
      "10.0 19.7691 -75.5106 18.08108108 -67.03136089\n"
     ]
    },
    {
     "name": "stderr",
     "output_type": "stream",
     "text": [
      "\r",
      " 73%|███████████████████████████████▍           | 27/37 [00:36<00:14,  1.41s/it]"
     ]
    },
    {
     "name": "stdout",
     "output_type": "stream",
     "text": [
      "10.0 19.7691 -75.5106 19.77477477 -72.22637702\n"
     ]
    },
    {
     "name": "stderr",
     "output_type": "stream",
     "text": [
      "\r",
      " 76%|████████████████████████████████▌          | 28/37 [00:37<00:11,  1.29s/it]"
     ]
    },
    {
     "name": "stdout",
     "output_type": "stream",
     "text": [
      "AM.RD269.00.EHZ failed to download. Continuing..\n",
      "10.0 19.7691 -75.5106 18.1981982 -71.1000091\n"
     ]
    },
    {
     "name": "stderr",
     "output_type": "stream",
     "text": [
      "\r",
      " 78%|█████████████████████████████████▋         | 29/37 [00:39<00:10,  1.37s/it]"
     ]
    },
    {
     "name": "stdout",
     "output_type": "stream",
     "text": [
      "10.0 19.7691 -75.5106 18.27927928 -66.33093252\n"
     ]
    },
    {
     "name": "stderr",
     "output_type": "stream",
     "text": [
      "\r",
      " 81%|██████████████████████████████████▊        | 30/37 [00:40<00:09,  1.36s/it]"
     ]
    },
    {
     "name": "stdout",
     "output_type": "stream",
     "text": [
      "10.0 19.7691 -75.5106 18.41441441 -68.93603553\n"
     ]
    },
    {
     "name": "stderr",
     "output_type": "stream",
     "text": [
      "\r",
      " 84%|████████████████████████████████████       | 31/37 [00:42<00:08,  1.38s/it]"
     ]
    },
    {
     "name": "stdout",
     "output_type": "stream",
     "text": [
      "10.0 19.7691 -75.5106 18.35135135 -66.11274136\n"
     ]
    },
    {
     "name": "stderr",
     "output_type": "stream",
     "text": [
      "\r",
      " 86%|█████████████████████████████████████▏     | 32/37 [00:43<00:07,  1.43s/it]"
     ]
    },
    {
     "name": "stdout",
     "output_type": "stream",
     "text": [
      "10.0 19.7691 -75.5106 19.45945946 -72.66716953\n"
     ]
    },
    {
     "name": "stderr",
     "output_type": "stream",
     "text": [
      "\r",
      " 89%|██████████████████████████████████████▎    | 33/37 [00:44<00:05,  1.30s/it]"
     ]
    },
    {
     "name": "stdout",
     "output_type": "stream",
     "text": [
      "AM.REF37.00.EHZ failed to download. Continuing..\n",
      "10.0 19.7691 -75.5106 18.18018018 -66.30186812\n"
     ]
    },
    {
     "name": "stderr",
     "output_type": "stream",
     "text": [
      "\r",
      " 92%|███████████████████████████████████████▌   | 34/37 [00:45<00:03,  1.20s/it]"
     ]
    },
    {
     "name": "stdout",
     "output_type": "stream",
     "text": [
      "AM.RF25D.00.EHZ failed to download. Continuing..\n",
      "10.0 19.7691 -75.5106 18.20720721 -73.74886717\n"
     ]
    },
    {
     "name": "stderr",
     "output_type": "stream",
     "text": [
      "\r",
      " 95%|████████████████████████████████████████▋  | 35/37 [00:46<00:02,  1.17s/it]"
     ]
    },
    {
     "name": "stdout",
     "output_type": "stream",
     "text": [
      "AM.RF6E7.00.EHZ failed to download. Continuing..\n",
      "10.0 19.7691 -75.5106 18.30630631 -66.07594445\n"
     ]
    },
    {
     "name": "stderr",
     "output_type": "stream",
     "text": [
      "\r",
      " 97%|█████████████████████████████████████████▊ | 36/37 [00:48<00:01,  1.32s/it]"
     ]
    },
    {
     "name": "stdout",
     "output_type": "stream",
     "text": [
      "10.0 19.7691 -75.5106 18.08108108 -67.04209886\n"
     ]
    },
    {
     "name": "stderr",
     "output_type": "stream",
     "text": [
      "100%|███████████████████████████████████████████| 37/37 [00:49<00:00,  1.34s/it]"
     ]
    },
    {
     "name": "stdout",
     "output_type": "stream",
     "text": [
      "AM.S897D.00.EHZ failed to download. Continuing..\n",
      "rPtime =  60.0\n",
      "Trace SNR =  4.330771786093468 1\n"
     ]
    },
    {
     "name": "stderr",
     "output_type": "stream",
     "text": [
      "\n"
     ]
    },
    {
     "name": "stdout",
     "output_type": "stream",
     "text": [
      "Trace SNR =  1.8711946936401258 2\n",
      "Trace SNR =  1.0501563314081581 3\n",
      "Trace SNR =  0.5873169980753185 4\n",
      "Trace SNR =  0.6934931747449804 5\n",
      "Trace SNR =  1.8376979864545102 6\n",
      "Trace SNR =  0.9869085096965075 7\n",
      "Trace SNR =  54.20094015604409 8\n",
      "Trace SNR =  0.6220367276566837 9\n",
      "Trace SNR =  0.9006550076684625 10\n",
      "Trace SNR =  0.7108056429880729 11\n",
      "Trace SNR =  0.984100761733315 12\n",
      "Trace SNR =  1.8106385422888562 13\n",
      "Trace SNR =  2.1029881351004374 14\n",
      "Trace SNR =  0.9063596350132305 15\n",
      "Trace SNR =  0.6093634202165343 16\n",
      "Trace SNR =  0.7534988748607521 17\n",
      "Trace SNR =  0.96640028054798 18\n",
      "Trace SNR =  2.015389704201395 19\n",
      "Trace SNR =  1.7327036101277549 20\n",
      "Trace SNR =  3.406633204132387 21\n",
      "Trace SNR =  0.9962060596512341 22\n",
      "Trace SNR =  1.2025865727667362 23\n",
      "1  of  23 traces were kept above SNR threshold 5.0\n",
      "writing  /Users/hkunwer/Documents/research/EQenergy/events/2021/2021071900RS/RS/pkls/Params_2021071900RS.pkl \n",
      " /Users/hkunwer/Documents/research/EQenergy/events/2021/2021071900RS/RS/Params_2021071900RS.csv\n",
      "writing  /Users/hkunwer/Documents/research/EQenergy/events/2021/2021071900RS/RS/pkls/Wavestream-raw_2021071900RS.pkl\n",
      "Completed getwaves\n",
      "Completed: instrument response removal and taper, data returned as Velocity\n",
      "Completed: frequency band filtering\n",
      "Only one or no traces available for normalization.\n",
      "\n",
      "\n",
      "2021062700RS ===============================\n",
      "SNR = 5.0\n",
      "ERROR:  coudn't move directory to  /Users/hkunwer/Documents/research/EQenergy/events/2021/2021062700RS/RS.bak\n",
      "Error:  Couldn't create directory:  /Users/hkunwer/Documents/research/EQenergy/events/2021/2021062700RS/RS\n",
      "Checking for stations available within range from IRIS\n",
      "Getting waves from RASPISHAKE\n"
     ]
    },
    {
     "name": "stderr",
     "output_type": "stream",
     "text": [
      "\r",
      "  0%|                                                    | 0/41 [00:00<?, ?it/s]"
     ]
    },
    {
     "name": "stdout",
     "output_type": "stream",
     "text": [
      "10.0 16.5489 -76.277 18.52252252 -72.24929548\n"
     ]
    },
    {
     "name": "stderr",
     "output_type": "stream",
     "text": [
      "\r",
      "  2%|█                                           | 1/41 [00:00<00:39,  1.02it/s]"
     ]
    },
    {
     "name": "stdout",
     "output_type": "stream",
     "text": [
      "AM.R0306.00.EHZ failed to download. Continuing..\n",
      "10.0 16.5489 -76.277 18.76576577 -69.04034547\n"
     ]
    },
    {
     "name": "stderr",
     "output_type": "stream",
     "text": [
      "\r",
      "  5%|██▏                                         | 2/41 [00:02<00:47,  1.23s/it]"
     ]
    },
    {
     "name": "stdout",
     "output_type": "stream",
     "text": [
      "10.0 16.5489 -76.277 8.792792793 -82.68370859\n"
     ]
    },
    {
     "name": "stderr",
     "output_type": "stream",
     "text": [
      "\r",
      "  7%|███▏                                        | 3/41 [00:03<00:47,  1.25s/it]"
     ]
    },
    {
     "name": "stdout",
     "output_type": "stream",
     "text": [
      "10.0 16.5489 -76.277 18.12612613 -67.10740855\n"
     ]
    },
    {
     "name": "stderr",
     "output_type": "stream",
     "text": [
      "\r",
      " 10%|████▎                                       | 4/41 [00:05<00:48,  1.32s/it]"
     ]
    },
    {
     "name": "stdout",
     "output_type": "stream",
     "text": [
      "10.0 16.5489 -76.277 18.36036036 -66.17991466\n"
     ]
    },
    {
     "name": "stderr",
     "output_type": "stream",
     "text": [
      "\r",
      " 12%|█████▎                                      | 5/41 [00:06<00:49,  1.38s/it]"
     ]
    },
    {
     "name": "stdout",
     "output_type": "stream",
     "text": [
      "10.0 16.5489 -76.277 8.792792793 -82.68370859\n"
     ]
    },
    {
     "name": "stderr",
     "output_type": "stream",
     "text": [
      "\r",
      " 15%|██████▍                                     | 6/41 [00:07<00:43,  1.25s/it]"
     ]
    },
    {
     "name": "stdout",
     "output_type": "stream",
     "text": [
      "AM.R2EFC.00.EHZ failed to download. Continuing..\n",
      "10.0 16.5489 -76.277 8.72972973 -82.42525892\n"
     ]
    },
    {
     "name": "stderr",
     "output_type": "stream",
     "text": [
      "\r",
      " 17%|███████▌                                    | 7/41 [00:08<00:39,  1.16s/it]"
     ]
    },
    {
     "name": "stdout",
     "output_type": "stream",
     "text": [
      "AM.R325B.00.EHZ failed to download. Continuing..\n",
      "10.0 16.5489 -76.277 18.45945946 -66.34149666\n"
     ]
    },
    {
     "name": "stderr",
     "output_type": "stream",
     "text": [
      "\r",
      " 20%|████████▌                                   | 8/41 [00:09<00:38,  1.18s/it]"
     ]
    },
    {
     "name": "stdout",
     "output_type": "stream",
     "text": [
      "10.0 16.5489 -76.277 14.66666667 -86.20759855\n"
     ]
    },
    {
     "name": "stderr",
     "output_type": "stream",
     "text": [
      "\r",
      " 22%|█████████▋                                  | 9/41 [00:10<00:36,  1.13s/it]"
     ]
    },
    {
     "name": "stdout",
     "output_type": "stream",
     "text": [
      "AM.R3CD4.00.EHZ failed to download. Continuing..\n",
      "10.0 16.5489 -76.277 8.981981982 -79.52488008\n"
     ]
    },
    {
     "name": "stderr",
     "output_type": "stream",
     "text": [
      "\r",
      " 24%|██████████▍                                | 10/41 [00:12<00:36,  1.17s/it]"
     ]
    },
    {
     "name": "stdout",
     "output_type": "stream",
     "text": [
      "10.0 16.5489 -76.277 18.44144144 -66.00258091\n"
     ]
    },
    {
     "name": "stderr",
     "output_type": "stream",
     "text": [
      "\r",
      " 27%|███████████▌                               | 11/41 [00:13<00:38,  1.28s/it]"
     ]
    },
    {
     "name": "stdout",
     "output_type": "stream",
     "text": [
      "10.0 16.5489 -76.277 18.01801802 -66.83860199\n"
     ]
    },
    {
     "name": "stderr",
     "output_type": "stream",
     "text": [
      "\r",
      " 29%|████████████▌                              | 12/41 [00:14<00:34,  1.18s/it]"
     ]
    },
    {
     "name": "stdout",
     "output_type": "stream",
     "text": [
      "AM.R4DB9.00.EHZ failed to download. Continuing..\n",
      "10.0 16.5489 -76.277 18.22522523 -73.61282146\n"
     ]
    },
    {
     "name": "stderr",
     "output_type": "stream",
     "text": [
      "\r",
      " 32%|█████████████▋                             | 13/41 [00:15<00:33,  1.21s/it]"
     ]
    },
    {
     "name": "stdout",
     "output_type": "stream",
     "text": [
      "10.0 16.5489 -76.277 8.036036036 -81.03955088\n"
     ]
    },
    {
     "name": "stderr",
     "output_type": "stream",
     "text": [
      "\r",
      " 34%|██████████████▋                            | 14/41 [00:16<00:30,  1.13s/it]"
     ]
    },
    {
     "name": "stdout",
     "output_type": "stream",
     "text": [
      "AM.R69E9.00.EHZ failed to download. Continuing..\n",
      "10.0 16.5489 -76.277 18.5045045 -73.34156397\n"
     ]
    },
    {
     "name": "stderr",
     "output_type": "stream",
     "text": [
      "\r",
      " 37%|███████████████▋                           | 15/41 [00:17<00:28,  1.10s/it]"
     ]
    },
    {
     "name": "stdout",
     "output_type": "stream",
     "text": [
      "AM.R73EC.00.EHZ failed to download. Continuing..\n",
      "10.0 16.5489 -76.277 8.702702703 -82.44630989\n"
     ]
    },
    {
     "name": "stderr",
     "output_type": "stream",
     "text": [
      "\r",
      " 39%|████████████████▊                          | 16/41 [00:18<00:27,  1.08s/it]"
     ]
    },
    {
     "name": "stdout",
     "output_type": "stream",
     "text": [
      "AM.R78EC.00.EHZ failed to download. Continuing..\n",
      "10.0 16.5489 -76.277 18.45945946 -67.11405725\n"
     ]
    },
    {
     "name": "stderr",
     "output_type": "stream",
     "text": [
      "\r",
      " 41%|█████████████████▊                         | 17/41 [00:19<00:25,  1.05s/it]"
     ]
    },
    {
     "name": "stdout",
     "output_type": "stream",
     "text": [
      "AM.R804D.00.EHZ failed to download. Continuing..\n",
      "10.0 16.5489 -76.277 18.23423423 -72.52555277\n"
     ]
    },
    {
     "name": "stderr",
     "output_type": "stream",
     "text": [
      "\r",
      " 44%|██████████████████▉                        | 18/41 [00:20<00:24,  1.05s/it]"
     ]
    },
    {
     "name": "stdout",
     "output_type": "stream",
     "text": [
      "AM.R897D.00.EHZ failed to download. Continuing..\n",
      "10.0 16.5489 -76.277 8.72972973 -82.42519259\n"
     ]
    },
    {
     "name": "stderr",
     "output_type": "stream",
     "text": [
      "\r",
      " 46%|███████████████████▉                       | 19/41 [00:22<00:26,  1.20s/it]"
     ]
    },
    {
     "name": "stdout",
     "output_type": "stream",
     "text": [
      "10.0 16.5489 -76.277 8.792792793 -82.68370859\n"
     ]
    },
    {
     "name": "stderr",
     "output_type": "stream",
     "text": [
      "\r",
      " 49%|████████████████████▉                      | 20/41 [00:23<00:25,  1.21s/it]"
     ]
    },
    {
     "name": "stdout",
     "output_type": "stream",
     "text": [
      "10.0 16.5489 -76.277 18.38738739 -66.06773752\n"
     ]
    },
    {
     "name": "stderr",
     "output_type": "stream",
     "text": [
      "\r",
      " 51%|██████████████████████                     | 21/41 [00:27<00:39,  1.96s/it]"
     ]
    },
    {
     "name": "stdout",
     "output_type": "stream",
     "text": [
      "10.0 16.5489 -76.277 19.81981982 -70.72312982\n"
     ]
    },
    {
     "name": "stderr",
     "output_type": "stream",
     "text": [
      "\r",
      " 54%|███████████████████████                    | 22/41 [00:28<00:34,  1.80s/it]"
     ]
    },
    {
     "name": "stdout",
     "output_type": "stream",
     "text": [
      "10.0 16.5489 -76.277 18.43243243 -66.05875416\n"
     ]
    },
    {
     "name": "stderr",
     "output_type": "stream",
     "text": [
      "\r",
      " 56%|████████████████████████                   | 23/41 [00:29<00:27,  1.55s/it]"
     ]
    },
    {
     "name": "stdout",
     "output_type": "stream",
     "text": [
      "AM.RA906.00.EHZ failed to download. Continuing..\n",
      "10.0 16.5489 -76.277 18.40540541 -66.06545422\n"
     ]
    },
    {
     "name": "stderr",
     "output_type": "stream",
     "text": [
      "\r",
      " 59%|█████████████████████████▏                 | 24/41 [00:30<00:23,  1.38s/it]"
     ]
    },
    {
     "name": "stdout",
     "output_type": "stream",
     "text": [
      "AM.RA9CF.00.EHZ failed to download. Continuing..\n",
      "10.0 16.5489 -76.277 15.48648649 -86.57942974\n"
     ]
    },
    {
     "name": "stderr",
     "output_type": "stream",
     "text": [
      "\r",
      " 61%|██████████████████████████▏                | 25/41 [00:31<00:20,  1.26s/it]"
     ]
    },
    {
     "name": "stdout",
     "output_type": "stream",
     "text": [
      "AM.RA9E2.00.EHZ failed to download. Continuing..\n",
      "10.0 16.5489 -76.277 18.52252252 -72.31656731\n"
     ]
    },
    {
     "name": "stderr",
     "output_type": "stream",
     "text": [
      "\r",
      " 63%|███████████████████████████▎               | 26/41 [00:32<00:17,  1.19s/it]"
     ]
    },
    {
     "name": "stdout",
     "output_type": "stream",
     "text": [
      "AM.RAA21.00.EHZ failed to download. Continuing..\n",
      "10.0 16.5489 -76.277 8.756756757 -82.40262884\n"
     ]
    },
    {
     "name": "stderr",
     "output_type": "stream",
     "text": [
      "\r",
      " 66%|████████████████████████████▎              | 27/41 [00:33<00:16,  1.21s/it]"
     ]
    },
    {
     "name": "stdout",
     "output_type": "stream",
     "text": [
      "10.0 16.5489 -76.277 17.99099099 -66.61079735\n"
     ]
    },
    {
     "name": "stderr",
     "output_type": "stream",
     "text": [
      "\r",
      " 68%|█████████████████████████████▎             | 28/41 [00:34<00:14,  1.14s/it]"
     ]
    },
    {
     "name": "stdout",
     "output_type": "stream",
     "text": [
      "AM.RCCD1.00.EHZ failed to download. Continuing..\n",
      "10.0 16.5489 -76.277 18.5045045 -73.34156397\n"
     ]
    },
    {
     "name": "stderr",
     "output_type": "stream",
     "text": [
      "\r",
      " 71%|██████████████████████████████▍            | 29/41 [00:36<00:14,  1.23s/it]"
     ]
    },
    {
     "name": "stdout",
     "output_type": "stream",
     "text": [
      "10.0 16.5489 -76.277 18.08108108 -67.03136089\n"
     ]
    },
    {
     "name": "stderr",
     "output_type": "stream",
     "text": [
      "\r",
      " 73%|███████████████████████████████▍           | 30/41 [00:37<00:14,  1.28s/it]"
     ]
    },
    {
     "name": "stdout",
     "output_type": "stream",
     "text": [
      "10.0 16.5489 -76.277 19.77477477 -72.22637702\n"
     ]
    },
    {
     "name": "stderr",
     "output_type": "stream",
     "text": [
      "\r",
      " 76%|████████████████████████████████▌          | 31/41 [00:38<00:12,  1.20s/it]"
     ]
    },
    {
     "name": "stdout",
     "output_type": "stream",
     "text": [
      "AM.RD269.00.EHZ failed to download. Continuing..\n",
      "10.0 16.5489 -76.277 18.1981982 -71.1000091\n"
     ]
    },
    {
     "name": "stderr",
     "output_type": "stream",
     "text": [
      "\r",
      " 78%|█████████████████████████████████▌         | 32/41 [00:40<00:11,  1.28s/it]"
     ]
    },
    {
     "name": "stdout",
     "output_type": "stream",
     "text": [
      "10.0 16.5489 -76.277 18.27927928 -66.33100902\n"
     ]
    },
    {
     "name": "stderr",
     "output_type": "stream",
     "text": [
      "\r",
      " 80%|██████████████████████████████████▌        | 33/41 [00:41<00:09,  1.23s/it]"
     ]
    },
    {
     "name": "stdout",
     "output_type": "stream",
     "text": [
      "10.0 16.5489 -76.277 18.41441441 -68.93603553\n"
     ]
    },
    {
     "name": "stderr",
     "output_type": "stream",
     "text": [
      "\r",
      " 83%|███████████████████████████████████▋       | 34/41 [00:42<00:08,  1.16s/it]"
     ]
    },
    {
     "name": "stdout",
     "output_type": "stream",
     "text": [
      "AM.RE001.00.EHZ failed to download. Continuing..\n",
      "10.0 16.5489 -76.277 8.792792793 -82.68370859\n"
     ]
    },
    {
     "name": "stderr",
     "output_type": "stream",
     "text": [
      "\r",
      " 85%|████████████████████████████████████▋      | 35/41 [00:43<00:07,  1.21s/it]"
     ]
    },
    {
     "name": "stdout",
     "output_type": "stream",
     "text": [
      "10.0 16.5489 -76.277 8.972972973 -79.52279689\n"
     ]
    },
    {
     "name": "stderr",
     "output_type": "stream",
     "text": [
      "\r",
      " 88%|█████████████████████████████████████▊     | 36/41 [00:44<00:05,  1.16s/it]"
     ]
    },
    {
     "name": "stdout",
     "output_type": "stream",
     "text": [
      "AM.RF4A5.00.EHZ failed to download. Continuing..\n",
      "10.0 16.5489 -76.277 8.972972973 -79.52281881\n"
     ]
    },
    {
     "name": "stderr",
     "output_type": "stream",
     "text": [
      "\r",
      " 90%|██████████████████████████████████████▊    | 37/41 [00:46<00:05,  1.27s/it]"
     ]
    },
    {
     "name": "stdout",
     "output_type": "stream",
     "text": [
      "10.0 16.5489 -76.277 18.20720721 -73.74886717\n"
     ]
    },
    {
     "name": "stderr",
     "output_type": "stream",
     "text": [
      "\r",
      " 93%|███████████████████████████████████████▊   | 38/41 [00:47<00:03,  1.18s/it]"
     ]
    },
    {
     "name": "stdout",
     "output_type": "stream",
     "text": [
      "AM.RF6E7.00.EHZ failed to download. Continuing..\n",
      "10.0 16.5489 -76.277 18.30630631 -66.07594445\n"
     ]
    },
    {
     "name": "stderr",
     "output_type": "stream",
     "text": [
      "\r",
      " 95%|████████████████████████████████████████▉  | 39/41 [00:48<00:02,  1.12s/it]"
     ]
    },
    {
     "name": "stdout",
     "output_type": "stream",
     "text": [
      "AM.S4051.00.EHZ failed to download. Continuing..\n",
      "10.0 16.5489 -76.277 18.08108108 -67.04209886\n"
     ]
    },
    {
     "name": "stderr",
     "output_type": "stream",
     "text": [
      "\r",
      " 98%|█████████████████████████████████████████▉ | 40/41 [00:49<00:01,  1.07s/it]"
     ]
    },
    {
     "name": "stdout",
     "output_type": "stream",
     "text": [
      "AM.S897D.00.EHZ failed to download. Continuing..\n",
      "10.0 16.5489 -76.277 8.972972973 -79.52279689\n"
     ]
    },
    {
     "name": "stderr",
     "output_type": "stream",
     "text": [
      "100%|███████████████████████████████████████████| 41/41 [00:50<00:00,  1.22s/it]"
     ]
    },
    {
     "name": "stdout",
     "output_type": "stream",
     "text": [
      "AM.SF4A5.00.EHZ failed to download. Continuing..\n",
      "rPtime =  60.0\n",
      "Trace SNR =  2.5139887782569987 1\n",
      "Trace SNR =  1.1853360609086312 2\n",
      "Trace SNR =  0.3048182960218638 3\n"
     ]
    },
    {
     "name": "stderr",
     "output_type": "stream",
     "text": [
      "\n"
     ]
    },
    {
     "name": "stdout",
     "output_type": "stream",
     "text": [
      "Trace SNR =  1.3582191853062862 4\n",
      "Trace SNR =  1.0234532153064455 5\n",
      "Trace SNR =  8.266726302283677 6\n",
      "Trace SNR =  1.5927751465454898 7\n",
      "Trace SNR =  69.56784485315076 8\n",
      "Trace SNR =  1.1892188529950742 9\n",
      "Trace SNR =  1.407867520068674 10\n",
      "Trace SNR =  0.7715604610260349 11\n",
      "Trace SNR =  1.0246983044002043 12\n",
      "Trace SNR =  3.2562200732587603 13\n",
      "Trace SNR =  28.243511860151035 14\n",
      "Trace SNR =  0.6512304531464225 15\n",
      "Trace SNR =  7.735980494862003 16\n",
      "Trace SNR =  1.2809030103648142 17\n",
      "Trace SNR =  0.8098298437855672 18\n",
      "Trace SNR =  2.535807806660922 19\n",
      "4  of  19 traces were kept above SNR threshold 5.0\n",
      "writing  /Users/hkunwer/Documents/research/EQenergy/events/2021/2021062700RS/RS/pkls/Params_2021062700RS.pkl \n",
      " /Users/hkunwer/Documents/research/EQenergy/events/2021/2021062700RS/RS/Params_2021062700RS.csv\n",
      "writing  /Users/hkunwer/Documents/research/EQenergy/events/2021/2021062700RS/RS/pkls/Wavestream-raw_2021062700RS.pkl\n",
      "Completed getwaves\n",
      "Completed: instrument response removal and taper, data returned as Velocity\n",
      "Completed: frequency band filtering\n",
      "More than 1 trace detected, continuing\n",
      "Completed: normalization\n",
      "Completed: Loading existing dataframe\n",
      "Completed: Appended data to near_field_df.pkl\n",
      "\n",
      "\n",
      "2021062400RS ===============================\n",
      "SNR = 5.0\n",
      "ERROR:  coudn't move directory to  /Users/hkunwer/Documents/research/EQenergy/events/2021/2021062400RS/RS.bak\n",
      "Error:  Couldn't create directory:  /Users/hkunwer/Documents/research/EQenergy/events/2021/2021062400RS/RS\n",
      "Checking for stations available within range from IRIS\n"
     ]
    },
    {
     "name": "stderr",
     "output_type": "stream",
     "text": [
      "/Users/hkunwer/Documents/research/EQenergy/Wiggles/Attenuation/AttenuationFunctionsTesting.py:221: FutureWarning: The frame.append method is deprecated and will be removed from pandas in a future version. Use pandas.concat instead.\n",
      "  combined_dataframe = existing_dataframe.append(dataframe, ignore_index=True)\n"
     ]
    },
    {
     "name": "stdout",
     "output_type": "stream",
     "text": [
      "Getting waves from RASPISHAKE\n"
     ]
    },
    {
     "name": "stderr",
     "output_type": "stream",
     "text": [
      "  0%|                                                    | 0/31 [00:00<?, ?it/s]"
     ]
    },
    {
     "name": "stdout",
     "output_type": "stream",
     "text": [
      "146.0 18.241 -68.5683 18.52252252 -72.24929548\n",
      "ERROR: 2021062400RS could not complete getwaves\n",
      "\n",
      "\n",
      "2021061700RS ===============================\n",
      "SNR = 5.0\n",
      "ERROR:  coudn't move directory to  /Users/hkunwer/Documents/research/EQenergy/events/2021/2021061700RS/RS.bak\n",
      "Error:  Couldn't create directory:  /Users/hkunwer/Documents/research/EQenergy/events/2021/2021061700RS/RS\n",
      "Checking for stations available within range from IRIS\n"
     ]
    },
    {
     "name": "stderr",
     "output_type": "stream",
     "text": [
      "\n"
     ]
    },
    {
     "name": "stdout",
     "output_type": "stream",
     "text": [
      "Getting waves from RASPISHAKE\n"
     ]
    },
    {
     "name": "stderr",
     "output_type": "stream",
     "text": [
      "  0%|                                                    | 0/29 [00:00<?, ?it/s]"
     ]
    },
    {
     "name": "stdout",
     "output_type": "stream",
     "text": [
      "87.0 18.1235 -68.4885 18.76576577 -69.04034547\n",
      "ERROR: 2021061700RS could not complete getwaves\n",
      "\n",
      "\n",
      "2021061400RS ===============================\n",
      "SNR = 5.0\n",
      "ERROR:  coudn't move directory to  /Users/hkunwer/Documents/research/EQenergy/events/2021/2021061400RS/RS.bak\n",
      "Error:  Couldn't create directory:  /Users/hkunwer/Documents/research/EQenergy/events/2021/2021061400RS/RS\n",
      "Checking for stations available within range from IRIS\n"
     ]
    },
    {
     "name": "stderr",
     "output_type": "stream",
     "text": [
      "\n"
     ]
    },
    {
     "name": "stdout",
     "output_type": "stream",
     "text": [
      "Getting waves from RASPISHAKE\n"
     ]
    },
    {
     "name": "stderr",
     "output_type": "stream",
     "text": [
      "  0%|                                                    | 0/31 [00:00<?, ?it/s]"
     ]
    },
    {
     "name": "stdout",
     "output_type": "stream",
     "text": [
      "87.0 18.1195 -68.496 18.76576577 -69.04034547\n",
      "ERROR: 2021061400RS could not complete getwaves\n",
      "\n",
      "\n",
      "2021061401RS ===============================\n",
      "SNR = 5.0\n",
      "ERROR:  coudn't move directory to  /Users/hkunwer/Documents/research/EQenergy/events/2021/2021061401RS/RS.bak\n",
      "Error:  Couldn't create directory:  /Users/hkunwer/Documents/research/EQenergy/events/2021/2021061401RS/RS\n",
      "Checking for stations available within range from IRIS\n"
     ]
    },
    {
     "name": "stderr",
     "output_type": "stream",
     "text": [
      "\n"
     ]
    },
    {
     "name": "stdout",
     "output_type": "stream",
     "text": [
      "Getting waves from RASPISHAKE\n"
     ]
    },
    {
     "name": "stderr",
     "output_type": "stream",
     "text": [
      "  0%|                                                    | 0/30 [00:00<?, ?it/s]"
     ]
    },
    {
     "name": "stdout",
     "output_type": "stream",
     "text": [
      "86.0 18.1925 -68.5071 18.76576577 -69.04034547\n",
      "ERROR: 2021061401RS could not complete getwaves\n",
      "\n",
      "\n",
      "2021053000RS ===============================\n",
      "SNR = 5.0\n",
      "ERROR:  coudn't move directory to  /Users/hkunwer/Documents/research/EQenergy/events/2021/2021053000RS/RS.bak\n",
      "Error:  Couldn't create directory:  /Users/hkunwer/Documents/research/EQenergy/events/2021/2021053000RS/RS\n",
      "Checking for stations available within range from IRIS\n"
     ]
    },
    {
     "name": "stderr",
     "output_type": "stream",
     "text": [
      "\n"
     ]
    },
    {
     "name": "stdout",
     "output_type": "stream",
     "text": [
      "Getting waves from RASPISHAKE\n"
     ]
    },
    {
     "name": "stderr",
     "output_type": "stream",
     "text": [
      "\r",
      "  0%|                                                    | 0/21 [00:00<?, ?it/s]"
     ]
    },
    {
     "name": "stdout",
     "output_type": "stream",
     "text": [
      "10.0 19.6178 -77.9842 25.88288288 -80.36355577\n"
     ]
    },
    {
     "name": "stderr",
     "output_type": "stream",
     "text": [
      "\r",
      "  5%|██                                          | 1/21 [00:01<00:23,  1.17s/it]"
     ]
    },
    {
     "name": "stdout",
     "output_type": "stream",
     "text": [
      "10.0 19.6178 -77.9842 18.76576577 -69.04034547\n"
     ]
    },
    {
     "name": "stderr",
     "output_type": "stream",
     "text": [
      "\r",
      " 10%|████▏                                       | 2/21 [00:02<00:23,  1.22s/it]"
     ]
    },
    {
     "name": "stdout",
     "output_type": "stream",
     "text": [
      "10.0 19.6178 -77.9842 18.45945946 -69.90366697\n"
     ]
    },
    {
     "name": "stderr",
     "output_type": "stream",
     "text": [
      "\r",
      " 14%|██████▎                                     | 3/21 [00:03<00:23,  1.31s/it]"
     ]
    },
    {
     "name": "stdout",
     "output_type": "stream",
     "text": [
      "10.0 19.6178 -77.9842 18.22522523 -73.61282146\n"
     ]
    },
    {
     "name": "stderr",
     "output_type": "stream",
     "text": [
      "\r",
      " 19%|████████▍                                   | 4/21 [00:05<00:22,  1.33s/it]"
     ]
    },
    {
     "name": "stdout",
     "output_type": "stream",
     "text": [
      "10.0 19.6178 -77.9842 25.92792793 -80.41201151\n"
     ]
    },
    {
     "name": "stderr",
     "output_type": "stream",
     "text": [
      "\r",
      " 24%|██████████▍                                 | 5/21 [00:06<00:19,  1.22s/it]"
     ]
    },
    {
     "name": "stdout",
     "output_type": "stream",
     "text": [
      "AM.R6324.00.EHZ failed to download. Continuing..\n",
      "10.0 19.6178 -77.9842 18.5045045 -73.34156397\n"
     ]
    },
    {
     "name": "stderr",
     "output_type": "stream",
     "text": [
      "\r",
      " 29%|████████████▌                               | 6/21 [00:07<00:17,  1.15s/it]"
     ]
    },
    {
     "name": "stdout",
     "output_type": "stream",
     "text": [
      "AM.R73EC.00.EHZ failed to download. Continuing..\n",
      "10.0 19.6178 -77.9842 18.23423423 -72.52555277\n"
     ]
    },
    {
     "name": "stderr",
     "output_type": "stream",
     "text": [
      "\r",
      " 33%|██████████████▋                             | 7/21 [00:08<00:15,  1.10s/it]"
     ]
    },
    {
     "name": "stdout",
     "output_type": "stream",
     "text": [
      "AM.R897D.00.EHZ failed to download. Continuing..\n",
      "10.0 19.6178 -77.9842 25.9009009 -80.35088029\n"
     ]
    },
    {
     "name": "stderr",
     "output_type": "stream",
     "text": [
      "\r",
      " 38%|████████████████▊                           | 8/21 [00:09<00:15,  1.20s/it]"
     ]
    },
    {
     "name": "stdout",
     "output_type": "stream",
     "text": [
      "10.0 19.6178 -77.9842 28.14414414 -80.66404573\n"
     ]
    },
    {
     "name": "stderr",
     "output_type": "stream",
     "text": [
      "\r",
      " 43%|██████████████████▊                         | 9/21 [00:11<00:15,  1.27s/it]"
     ]
    },
    {
     "name": "stdout",
     "output_type": "stream",
     "text": [
      "10.0 19.6178 -77.9842 15.48648649 -86.57942974\n"
     ]
    },
    {
     "name": "stderr",
     "output_type": "stream",
     "text": [
      "\r",
      " 48%|████████████████████▍                      | 10/21 [00:12<00:13,  1.26s/it]"
     ]
    },
    {
     "name": "stdout",
     "output_type": "stream",
     "text": [
      "10.0 19.6178 -77.9842 18.52252252 -72.31656731\n"
     ]
    },
    {
     "name": "stderr",
     "output_type": "stream",
     "text": [
      "\r",
      " 52%|██████████████████████▌                    | 11/21 [00:13<00:12,  1.28s/it]"
     ]
    },
    {
     "name": "stdout",
     "output_type": "stream",
     "text": [
      "10.0 19.6178 -77.9842 27.82882883 -82.60894874\n"
     ]
    },
    {
     "name": "stderr",
     "output_type": "stream",
     "text": [
      "\r",
      " 57%|████████████████████████▌                  | 12/21 [00:15<00:11,  1.33s/it]"
     ]
    },
    {
     "name": "stdout",
     "output_type": "stream",
     "text": [
      "10.0 19.6178 -77.9842 25.99099099 -80.33726338\n"
     ]
    },
    {
     "name": "stderr",
     "output_type": "stream",
     "text": [
      "\r",
      " 62%|██████████████████████████▌                | 13/21 [00:16<00:10,  1.35s/it]"
     ]
    },
    {
     "name": "stdout",
     "output_type": "stream",
     "text": [
      "10.0 19.6178 -77.9842 25.93693694 -80.33003527\n"
     ]
    },
    {
     "name": "stderr",
     "output_type": "stream",
     "text": [
      "\r",
      " 67%|████████████████████████████▋              | 14/21 [00:17<00:09,  1.37s/it]"
     ]
    },
    {
     "name": "stdout",
     "output_type": "stream",
     "text": [
      "10.0 19.6178 -77.9842 19.77477477 -72.22637702\n"
     ]
    },
    {
     "name": "stderr",
     "output_type": "stream",
     "text": [
      "\r",
      " 71%|██████████████████████████████▋            | 15/21 [00:18<00:07,  1.27s/it]"
     ]
    },
    {
     "name": "stdout",
     "output_type": "stream",
     "text": [
      "AM.RD269.00.EHZ failed to download. Continuing..\n",
      "10.0 19.6178 -77.9842 18.1981982 -71.1000091\n"
     ]
    },
    {
     "name": "stderr",
     "output_type": "stream",
     "text": [
      "\r",
      " 76%|████████████████████████████████▊          | 16/21 [00:20<00:06,  1.29s/it]"
     ]
    },
    {
     "name": "stdout",
     "output_type": "stream",
     "text": [
      "10.0 19.6178 -77.9842 18.41441441 -68.93603553\n"
     ]
    },
    {
     "name": "stderr",
     "output_type": "stream",
     "text": [
      "\r",
      " 81%|██████████████████████████████████▊        | 17/21 [00:21<00:05,  1.34s/it]"
     ]
    },
    {
     "name": "stdout",
     "output_type": "stream",
     "text": [
      "10.0 19.6178 -77.9842 19.45945946 -72.66716953\n"
     ]
    },
    {
     "name": "stderr",
     "output_type": "stream",
     "text": [
      "\r",
      " 86%|████████████████████████████████████▊      | 18/21 [00:22<00:03,  1.23s/it]"
     ]
    },
    {
     "name": "stdout",
     "output_type": "stream",
     "text": [
      "AM.REF37.00.EHZ failed to download. Continuing..\n",
      "10.0 19.6178 -77.9842 19.08108108 -71.6960057\n"
     ]
    },
    {
     "name": "stderr",
     "output_type": "stream",
     "text": [
      "\r",
      " 90%|██████████████████████████████████████▉    | 19/21 [00:24<00:02,  1.41s/it]"
     ]
    },
    {
     "name": "stdout",
     "output_type": "stream",
     "text": [
      "AM.REFAF.00.EHZ failed to download. Continuing..\n",
      "10.0 19.6178 -77.9842 25.92792793 -80.32280669\n"
     ]
    },
    {
     "name": "stderr",
     "output_type": "stream",
     "text": [
      "\r",
      " 95%|████████████████████████████████████████▉  | 20/21 [00:25<00:01,  1.29s/it]"
     ]
    },
    {
     "name": "stdout",
     "output_type": "stream",
     "text": [
      "AM.REFFB.00.EHZ failed to download. Continuing..\n",
      "10.0 19.6178 -77.9842 18.20720721 -73.74886717\n"
     ]
    },
    {
     "name": "stderr",
     "output_type": "stream",
     "text": [
      "100%|███████████████████████████████████████████| 21/21 [00:26<00:00,  1.26s/it]"
     ]
    },
    {
     "name": "stdout",
     "output_type": "stream",
     "text": [
      "AM.RF6E7.00.EHZ failed to download. Continuing..\n",
      "rPtime =  60.0\n",
      "Trace SNR =  0.6905025913276545 1\n",
      "Trace SNR =  2.1116151461362067 2\n",
      "Trace SNR =  1.0326576599466177 3\n"
     ]
    },
    {
     "name": "stderr",
     "output_type": "stream",
     "text": [
      "\n"
     ]
    },
    {
     "name": "stdout",
     "output_type": "stream",
     "text": [
      "Trace SNR =  12.722203082889907 4\n",
      "Trace SNR =  1.6453984080030584 5\n",
      "Trace SNR =  2.303554601685183 6\n",
      "Trace SNR =  1.2047414534079224 7\n",
      "Trace SNR =  3.007003853207212 8\n",
      "Trace SNR =  0.7015651838870295 9\n",
      "Trace SNR =  1.6056310269392695 10\n",
      "Trace SNR =  0.98935694490192 11\n",
      "Trace SNR =  0.8917776453286567 12\n",
      "Trace SNR =  1.8128114537792723 13\n",
      "1  of  13 traces were kept above SNR threshold 5.0\n",
      "writing  /Users/hkunwer/Documents/research/EQenergy/events/2021/2021053000RS/RS/pkls/Params_2021053000RS.pkl \n",
      " /Users/hkunwer/Documents/research/EQenergy/events/2021/2021053000RS/RS/Params_2021053000RS.csv\n",
      "writing  /Users/hkunwer/Documents/research/EQenergy/events/2021/2021053000RS/RS/pkls/Wavestream-raw_2021053000RS.pkl\n",
      "Completed getwaves\n",
      "Completed: instrument response removal and taper, data returned as Velocity\n",
      "Completed: frequency band filtering\n",
      "Only one or no traces available for normalization.\n",
      "\n",
      "\n",
      "2021051600RS ===============================\n",
      "SNR = 5.0\n",
      "ERROR:  coudn't move directory to  /Users/hkunwer/Documents/research/EQenergy/events/2021/2021051600RS/RS.bak\n",
      "Error:  Couldn't create directory:  /Users/hkunwer/Documents/research/EQenergy/events/2021/2021051600RS/RS\n",
      "Checking for stations available within range from IRIS\n",
      "Getting waves from RASPISHAKE\n"
     ]
    },
    {
     "name": "stderr",
     "output_type": "stream",
     "text": [
      "  0%|                                                    | 0/34 [00:00<?, ?it/s]"
     ]
    },
    {
     "name": "stdout",
     "output_type": "stream",
     "text": [
      "92.55 18.836 -70.3234 18.76576577 -69.04034547\n",
      "ERROR: 2021051600RS could not complete getwaves\n",
      "\n",
      "\n",
      "2021040600RS ===============================\n",
      "SNR = 5.0\n",
      "ERROR:  coudn't move directory to  /Users/hkunwer/Documents/research/EQenergy/events/2021/2021040600RS/RS.bak\n",
      "Error:  Couldn't create directory:  /Users/hkunwer/Documents/research/EQenergy/events/2021/2021040600RS/RS\n",
      "Checking for stations available within range from IRIS\n"
     ]
    },
    {
     "name": "stderr",
     "output_type": "stream",
     "text": [
      "\n"
     ]
    },
    {
     "name": "stdout",
     "output_type": "stream",
     "text": [
      "Getting waves from RASPISHAKE\n"
     ]
    },
    {
     "name": "stderr",
     "output_type": "stream",
     "text": [
      "\r",
      "  0%|                                                    | 0/31 [00:00<?, ?it/s]"
     ]
    },
    {
     "name": "stdout",
     "output_type": "stream",
     "text": [
      "10.0 18.4369 -73.5434 25.88288288 -80.36355577\n"
     ]
    },
    {
     "name": "stderr",
     "output_type": "stream",
     "text": [
      "\r",
      "  3%|█▍                                          | 1/31 [00:01<00:41,  1.38s/it]"
     ]
    },
    {
     "name": "stdout",
     "output_type": "stream",
     "text": [
      "10.0 18.4369 -73.5434 18.76576577 -69.04034547\n"
     ]
    },
    {
     "name": "stderr",
     "output_type": "stream",
     "text": [
      "\r",
      "  6%|██▊                                         | 2/31 [00:02<00:37,  1.31s/it]"
     ]
    },
    {
     "name": "stdout",
     "output_type": "stream",
     "text": [
      "10.0 18.4369 -73.5434 18.12612613 -67.10740855\n"
     ]
    },
    {
     "name": "stderr",
     "output_type": "stream",
     "text": [
      "\r",
      " 10%|████▎                                       | 3/31 [00:04<00:38,  1.37s/it]"
     ]
    },
    {
     "name": "stdout",
     "output_type": "stream",
     "text": [
      "10.0 18.4369 -73.5434 18.36036036 -66.17991466\n"
     ]
    },
    {
     "name": "stderr",
     "output_type": "stream",
     "text": [
      "\r",
      " 13%|█████▋                                      | 4/31 [00:05<00:37,  1.39s/it]"
     ]
    },
    {
     "name": "stdout",
     "output_type": "stream",
     "text": [
      "10.0 18.4369 -73.5434 18.45945946 -66.34149666\n"
     ]
    },
    {
     "name": "stderr",
     "output_type": "stream",
     "text": [
      "\r",
      " 16%|███████                                     | 5/31 [00:06<00:35,  1.36s/it]"
     ]
    },
    {
     "name": "stdout",
     "output_type": "stream",
     "text": [
      "10.0 18.4369 -73.5434 18.44144144 -66.00258091\n"
     ]
    },
    {
     "name": "stderr",
     "output_type": "stream",
     "text": [
      "\r",
      " 19%|████████▌                                   | 6/31 [00:08<00:35,  1.43s/it]"
     ]
    },
    {
     "name": "stdout",
     "output_type": "stream",
     "text": [
      "10.0 18.4369 -73.5434 18.01801802 -66.83860199\n"
     ]
    },
    {
     "name": "stderr",
     "output_type": "stream",
     "text": [
      "\r",
      " 23%|█████████▉                                  | 7/31 [00:09<00:34,  1.43s/it]"
     ]
    },
    {
     "name": "stdout",
     "output_type": "stream",
     "text": [
      "10.0 18.4369 -73.5434 18.45945946 -69.90366697\n"
     ]
    },
    {
     "name": "stderr",
     "output_type": "stream",
     "text": [
      "\r",
      " 26%|███████████▎                                | 8/31 [00:11<00:31,  1.39s/it]"
     ]
    },
    {
     "name": "stdout",
     "output_type": "stream",
     "text": [
      "10.0 18.4369 -73.5434 25.92792793 -80.41201151\n"
     ]
    },
    {
     "name": "stderr",
     "output_type": "stream",
     "text": [
      "\r",
      " 29%|████████████▊                               | 9/31 [00:12<00:30,  1.40s/it]"
     ]
    },
    {
     "name": "stdout",
     "output_type": "stream",
     "text": [
      "10.0 18.4369 -73.5434 18.35135135 -64.93597952\n"
     ]
    },
    {
     "name": "stderr",
     "output_type": "stream",
     "text": [
      "\r",
      " 32%|█████████████▊                             | 10/31 [00:13<00:27,  1.30s/it]"
     ]
    },
    {
     "name": "stdout",
     "output_type": "stream",
     "text": [
      "AM.R7078.00.EHZ failed to download. Continuing..\n",
      "10.0 18.4369 -73.5434 18.45945946 -67.11405725\n"
     ]
    },
    {
     "name": "stderr",
     "output_type": "stream",
     "text": [
      "\r",
      " 35%|███████████████▎                           | 11/31 [00:14<00:24,  1.21s/it]"
     ]
    },
    {
     "name": "stdout",
     "output_type": "stream",
     "text": [
      "AM.R804D.00.EHZ failed to download. Continuing..\n",
      "10.0 18.4369 -73.5434 18.23423423 -72.52555277\n"
     ]
    },
    {
     "name": "stderr",
     "output_type": "stream",
     "text": [
      "\r",
      " 39%|████████████████▋                          | 12/31 [00:15<00:21,  1.14s/it]"
     ]
    },
    {
     "name": "stdout",
     "output_type": "stream",
     "text": [
      "AM.R897D.00.EHZ failed to download. Continuing..\n",
      "10.0 18.4369 -73.5434 25.9009009 -80.35088029\n"
     ]
    },
    {
     "name": "stderr",
     "output_type": "stream",
     "text": [
      "\r",
      " 42%|██████████████████                         | 13/31 [00:16<00:21,  1.22s/it]"
     ]
    },
    {
     "name": "stdout",
     "output_type": "stream",
     "text": [
      "10.0 18.4369 -73.5434 19.45045045 -72.66268818\n"
     ]
    },
    {
     "name": "stderr",
     "output_type": "stream",
     "text": [
      "\r",
      " 45%|███████████████████▍                       | 14/31 [00:17<00:19,  1.15s/it]"
     ]
    },
    {
     "name": "stdout",
     "output_type": "stream",
     "text": [
      "AM.RA7D0.00.EHZ failed to download. Continuing..\n",
      "10.0 18.4369 -73.5434 18.43243243 -66.05875416\n"
     ]
    },
    {
     "name": "stderr",
     "output_type": "stream",
     "text": [
      "\r",
      " 48%|████████████████████▊                      | 15/31 [00:20<00:27,  1.70s/it]"
     ]
    },
    {
     "name": "stdout",
     "output_type": "stream",
     "text": [
      "AM.RA906.00.EHZ failed to download. Continuing..\n",
      "10.0 18.4369 -73.5434 18.40540541 -66.06545422\n"
     ]
    },
    {
     "name": "stderr",
     "output_type": "stream",
     "text": [
      "\r",
      " 52%|██████████████████████▏                    | 16/31 [00:22<00:25,  1.67s/it]"
     ]
    },
    {
     "name": "stdout",
     "output_type": "stream",
     "text": [
      "10.0 18.4369 -73.5434 18.52252252 -72.31656731\n"
     ]
    },
    {
     "name": "stderr",
     "output_type": "stream",
     "text": [
      "\r",
      " 55%|███████████████████████▌                   | 17/31 [00:23<00:21,  1.50s/it]"
     ]
    },
    {
     "name": "stdout",
     "output_type": "stream",
     "text": [
      "AM.RAA21.00.EHZ failed to download. Continuing..\n",
      "10.0 18.4369 -73.5434 25.99099099 -80.33726338\n"
     ]
    },
    {
     "name": "stderr",
     "output_type": "stream",
     "text": [
      "\r",
      " 58%|████████████████████████▉                  | 18/31 [00:24<00:18,  1.43s/it]"
     ]
    },
    {
     "name": "stdout",
     "output_type": "stream",
     "text": [
      "10.0 18.4369 -73.5434 25.93693694 -80.33003527\n"
     ]
    },
    {
     "name": "stderr",
     "output_type": "stream",
     "text": [
      "\r",
      " 61%|██████████████████████████▎                | 19/31 [00:25<00:15,  1.29s/it]"
     ]
    },
    {
     "name": "stdout",
     "output_type": "stream",
     "text": [
      "AM.RCC6E.00.EHZ failed to download. Continuing..\n",
      "10.0 18.4369 -73.5434 17.99099099 -66.61079735\n"
     ]
    },
    {
     "name": "stderr",
     "output_type": "stream",
     "text": [
      "\r",
      " 65%|███████████████████████████▋               | 20/31 [00:27<00:14,  1.34s/it]"
     ]
    },
    {
     "name": "stdout",
     "output_type": "stream",
     "text": [
      "10.0 18.4369 -73.5434 18.08108108 -67.03136089\n"
     ]
    },
    {
     "name": "stderr",
     "output_type": "stream",
     "text": [
      "\r",
      " 68%|█████████████████████████████▏             | 21/31 [00:28<00:13,  1.39s/it]"
     ]
    },
    {
     "name": "stdout",
     "output_type": "stream",
     "text": [
      "10.0 18.4369 -73.5434 19.77477477 -72.22637702\n"
     ]
    },
    {
     "name": "stderr",
     "output_type": "stream",
     "text": [
      "\r",
      " 71%|██████████████████████████████▌            | 22/31 [00:29<00:11,  1.28s/it]"
     ]
    },
    {
     "name": "stdout",
     "output_type": "stream",
     "text": [
      "AM.RD269.00.EHZ failed to download. Continuing..\n",
      "10.0 18.4369 -73.5434 18.1981982 -71.1000091\n"
     ]
    },
    {
     "name": "stderr",
     "output_type": "stream",
     "text": [
      "\r",
      " 74%|███████████████████████████████▉           | 23/31 [00:31<00:10,  1.31s/it]"
     ]
    },
    {
     "name": "stdout",
     "output_type": "stream",
     "text": [
      "10.0 18.4369 -73.5434 18.27927928 -66.33100902\n"
     ]
    },
    {
     "name": "stderr",
     "output_type": "stream",
     "text": [
      "\r",
      " 77%|█████████████████████████████████▎         | 24/31 [00:32<00:08,  1.27s/it]"
     ]
    },
    {
     "name": "stdout",
     "output_type": "stream",
     "text": [
      "10.0 18.4369 -73.5434 18.41441441 -68.93603553\n"
     ]
    },
    {
     "name": "stderr",
     "output_type": "stream",
     "text": [
      "\r",
      " 81%|██████████████████████████████████▋        | 25/31 [00:33<00:07,  1.18s/it]"
     ]
    },
    {
     "name": "stdout",
     "output_type": "stream",
     "text": [
      "AM.RE001.00.EHZ failed to download. Continuing..\n",
      "10.0 18.4369 -73.5434 18.35135135 -66.11274136\n"
     ]
    },
    {
     "name": "stderr",
     "output_type": "stream",
     "text": [
      "\r",
      " 84%|████████████████████████████████████       | 26/31 [00:34<00:06,  1.25s/it]"
     ]
    },
    {
     "name": "stdout",
     "output_type": "stream",
     "text": [
      "10.0 18.4369 -73.5434 19.45945946 -72.66716953\n"
     ]
    },
    {
     "name": "stderr",
     "output_type": "stream",
     "text": [
      "\r",
      " 87%|█████████████████████████████████████▍     | 27/31 [00:35<00:04,  1.17s/it]"
     ]
    },
    {
     "name": "stdout",
     "output_type": "stream",
     "text": [
      "AM.REF37.00.EHZ failed to download. Continuing..\n",
      "10.0 18.4369 -73.5434 19.08108108 -71.6960057\n"
     ]
    },
    {
     "name": "stderr",
     "output_type": "stream",
     "text": [
      "\r",
      " 90%|██████████████████████████████████████▊    | 28/31 [00:37<00:03,  1.25s/it]"
     ]
    },
    {
     "name": "stdout",
     "output_type": "stream",
     "text": [
      "10.0 18.4369 -73.5434 25.92792793 -80.32280669\n"
     ]
    },
    {
     "name": "stderr",
     "output_type": "stream",
     "text": [
      "\r",
      " 94%|████████████████████████████████████████▏  | 29/31 [00:38<00:02,  1.32s/it]"
     ]
    },
    {
     "name": "stdout",
     "output_type": "stream",
     "text": [
      "10.0 18.4369 -73.5434 18.30630631 -66.07594445\n"
     ]
    },
    {
     "name": "stderr",
     "output_type": "stream",
     "text": [
      "\r",
      " 97%|█████████████████████████████████████████▌ | 30/31 [00:39<00:01,  1.23s/it]"
     ]
    },
    {
     "name": "stdout",
     "output_type": "stream",
     "text": [
      "AM.S4051.00.EHZ failed to download. Continuing..\n",
      "10.0 18.4369 -73.5434 18.08108108 -67.04209886\n"
     ]
    },
    {
     "name": "stderr",
     "output_type": "stream",
     "text": [
      "100%|███████████████████████████████████████████| 31/31 [00:40<00:00,  1.31s/it]"
     ]
    },
    {
     "name": "stdout",
     "output_type": "stream",
     "text": [
      "AM.S897D.00.EHZ failed to download. Continuing..\n",
      "rPtime =  60.0\n",
      "Trace SNR =  0.751564937166223 1\n",
      "Trace SNR =  6.520177889918866 2\n",
      "Trace SNR =  2.1833439724928425 3\n"
     ]
    },
    {
     "name": "stderr",
     "output_type": "stream",
     "text": [
      "\n"
     ]
    },
    {
     "name": "stdout",
     "output_type": "stream",
     "text": [
      "Trace SNR =  1.4765958693544736 4\n",
      "Trace SNR =  0.8194807313196624 5\n",
      "Trace SNR =  0.44506862090162475 6\n",
      "Trace SNR =  3.192938827735143 7\n",
      "Trace SNR =  101.55115906608641 8\n",
      "Trace SNR =  1.3003771399532742 9\n",
      "Trace SNR =  0.7215217979405387 10\n",
      "Trace SNR =  nan 11\n"
     ]
    },
    {
     "name": "stderr",
     "output_type": "stream",
     "text": [
      "/Users/hkunwer/opt/anaconda3/envs/rtergpy/lib/python3.11/site-packages/numpy/core/fromnumeric.py:3464: RuntimeWarning: Mean of empty slice.\n",
      "  return _methods._mean(a, axis=axis, dtype=dtype,\n",
      "/Users/hkunwer/opt/anaconda3/envs/rtergpy/lib/python3.11/site-packages/numpy/core/_methods.py:192: RuntimeWarning: invalid value encountered in scalar divide\n",
      "  ret = ret.dtype.type(ret / rcount)\n"
     ]
    },
    {
     "name": "stdout",
     "output_type": "stream",
     "text": [
      "Trace SNR =  0.8996954532246838 12\n",
      "Trace SNR =  0.09546670852095268 13\n",
      "Trace SNR =  2.097411994924164 14\n",
      "Trace SNR =  665.207894109877 15\n",
      "Trace SNR =  1.5513061733836822 16\n",
      "Trace SNR =  1.6088520633564962 17\n",
      "Trace SNR =  4782.692920469183 18\n",
      "Trace SNR =  0.6344589680274227 19\n",
      "4  of  19 traces were kept above SNR threshold 5.0\n",
      "writing  /Users/hkunwer/Documents/research/EQenergy/events/2021/2021040600RS/RS/pkls/Params_2021040600RS.pkl \n",
      " /Users/hkunwer/Documents/research/EQenergy/events/2021/2021040600RS/RS/Params_2021040600RS.csv\n",
      "writing  /Users/hkunwer/Documents/research/EQenergy/events/2021/2021040600RS/RS/pkls/Wavestream-raw_2021040600RS.pkl\n",
      "Completed getwaves\n",
      "Completed: instrument response removal and taper, data returned as Velocity\n",
      "Completed: frequency band filtering\n",
      "More than 1 trace detected, continuing\n",
      "Completed: normalization\n",
      "Completed: Loading existing dataframe\n",
      "Completed: Appended data to near_field_df.pkl\n",
      "\n",
      "\n",
      "2021040500RS ===============================\n",
      "SNR = 5.0\n",
      "ERROR:  coudn't move directory to  /Users/hkunwer/Documents/research/EQenergy/events/2021/2021040500RS/RS.bak\n",
      "Error:  Couldn't create directory:  /Users/hkunwer/Documents/research/EQenergy/events/2021/2021040500RS/RS\n",
      "Checking for stations available within range from IRIS\n"
     ]
    },
    {
     "name": "stderr",
     "output_type": "stream",
     "text": [
      "/Users/hkunwer/Documents/research/EQenergy/Wiggles/Attenuation/AttenuationFunctionsTesting.py:221: FutureWarning: The frame.append method is deprecated and will be removed from pandas in a future version. Use pandas.concat instead.\n",
      "  combined_dataframe = existing_dataframe.append(dataframe, ignore_index=True)\n"
     ]
    },
    {
     "name": "stdout",
     "output_type": "stream",
     "text": [
      "ERROR: 2021040500RS could not complete getwaves\n",
      "\n",
      "\n",
      "2021033100RS ===============================\n",
      "SNR = 5.0\n",
      "ERROR:  coudn't move directory to  /Users/hkunwer/Documents/research/EQenergy/events/2021/2021033100RS/RS.bak\n",
      "Error:  Couldn't create directory:  /Users/hkunwer/Documents/research/EQenergy/events/2021/2021033100RS/RS\n",
      "Checking for stations available within range from IRIS\n",
      "ERROR: 2021033100RS could not complete getwaves\n",
      "\n",
      "\n",
      "2021031400RS ===============================\n",
      "SNR = 5.0\n",
      "ERROR:  coudn't move directory to  /Users/hkunwer/Documents/research/EQenergy/events/2021/2021031400RS/RS.bak\n",
      "Error:  Couldn't create directory:  /Users/hkunwer/Documents/research/EQenergy/events/2021/2021031400RS/RS\n",
      "Checking for stations available within range from IRIS\n",
      "Getting waves from RASPISHAKE\n"
     ]
    },
    {
     "name": "stderr",
     "output_type": "stream",
     "text": [
      "\r",
      "  0%|                                                    | 0/26 [00:00<?, ?it/s]"
     ]
    },
    {
     "name": "stdout",
     "output_type": "stream",
     "text": [
      "10.0 17.9685 -72.1205 18.76576577 -69.04034547\n"
     ]
    },
    {
     "name": "stderr",
     "output_type": "stream",
     "text": [
      "\r",
      "  4%|█▋                                          | 1/26 [00:01<00:33,  1.34s/it]"
     ]
    },
    {
     "name": "stdout",
     "output_type": "stream",
     "text": [
      "10.0 17.9685 -72.1205 18.12612613 -67.10740855\n"
     ]
    },
    {
     "name": "stderr",
     "output_type": "stream",
     "text": [
      "\r",
      "  8%|███▍                                        | 2/26 [00:02<00:34,  1.42s/it]"
     ]
    },
    {
     "name": "stdout",
     "output_type": "stream",
     "text": [
      "10.0 17.9685 -72.1205 18.36036036 -66.17991466\n"
     ]
    },
    {
     "name": "stderr",
     "output_type": "stream",
     "text": [
      "\r",
      " 12%|█████                                       | 3/26 [00:04<00:32,  1.43s/it]"
     ]
    },
    {
     "name": "stdout",
     "output_type": "stream",
     "text": [
      "10.0 17.9685 -72.1205 18.45945946 -66.34149666\n"
     ]
    },
    {
     "name": "stderr",
     "output_type": "stream",
     "text": [
      "\r",
      " 15%|██████▊                                     | 4/26 [00:05<00:31,  1.42s/it]"
     ]
    },
    {
     "name": "stdout",
     "output_type": "stream",
     "text": [
      "10.0 17.9685 -72.1205 18.44144144 -66.00258091\n"
     ]
    },
    {
     "name": "stderr",
     "output_type": "stream",
     "text": [
      "\r",
      " 19%|████████▍                                   | 5/26 [00:07<00:30,  1.48s/it]"
     ]
    },
    {
     "name": "stdout",
     "output_type": "stream",
     "text": [
      "10.0 17.9685 -72.1205 18.01801802 -66.83860199\n"
     ]
    },
    {
     "name": "stderr",
     "output_type": "stream",
     "text": [
      "\r",
      " 23%|██████████▏                                 | 6/26 [00:08<00:29,  1.47s/it]"
     ]
    },
    {
     "name": "stdout",
     "output_type": "stream",
     "text": [
      "10.0 17.9685 -72.1205 18.45945946 -69.90366697\n"
     ]
    },
    {
     "name": "stderr",
     "output_type": "stream",
     "text": [
      "\r",
      " 27%|███████████▊                                | 7/26 [00:10<00:28,  1.48s/it]"
     ]
    },
    {
     "name": "stdout",
     "output_type": "stream",
     "text": [
      "10.0 17.9685 -72.1205 18.22522523 -73.61282146\n"
     ]
    },
    {
     "name": "stderr",
     "output_type": "stream",
     "text": [
      "\r",
      " 31%|█████████████▌                              | 8/26 [00:11<00:25,  1.41s/it]"
     ]
    },
    {
     "name": "stdout",
     "output_type": "stream",
     "text": [
      "10.0 17.9685 -72.1205 18.35135135 -64.93597952\n"
     ]
    },
    {
     "name": "stderr",
     "output_type": "stream",
     "text": [
      "\r",
      " 35%|███████████████▏                            | 9/26 [00:12<00:21,  1.29s/it]"
     ]
    },
    {
     "name": "stdout",
     "output_type": "stream",
     "text": [
      "AM.R7078.00.EHZ failed to download. Continuing..\n",
      "10.0 17.9685 -72.1205 18.5045045 -73.34156397\n"
     ]
    },
    {
     "name": "stderr",
     "output_type": "stream",
     "text": [
      "\r",
      " 38%|████████████████▌                          | 10/26 [00:13<00:19,  1.20s/it]"
     ]
    },
    {
     "name": "stdout",
     "output_type": "stream",
     "text": [
      "AM.R73EC.00.EHZ failed to download. Continuing..\n",
      "10.0 17.9685 -72.1205 18.45945946 -67.11405725\n"
     ]
    },
    {
     "name": "stderr",
     "output_type": "stream",
     "text": [
      "\r",
      " 42%|██████████████████▏                        | 11/26 [00:14<00:17,  1.15s/it]"
     ]
    },
    {
     "name": "stdout",
     "output_type": "stream",
     "text": [
      "AM.R804D.00.EHZ failed to download. Continuing..\n",
      "10.0 17.9685 -72.1205 19.45045045 -72.66268818\n"
     ]
    },
    {
     "name": "stderr",
     "output_type": "stream",
     "text": [
      "\r",
      " 46%|███████████████████▊                       | 12/26 [00:15<00:15,  1.11s/it]"
     ]
    },
    {
     "name": "stdout",
     "output_type": "stream",
     "text": [
      "AM.RA7D0.00.EHZ failed to download. Continuing..\n",
      "10.0 17.9685 -72.1205 18.43243243 -66.05875416\n"
     ]
    },
    {
     "name": "stderr",
     "output_type": "stream",
     "text": [
      "\r",
      " 50%|█████████████████████▌                     | 13/26 [00:16<00:14,  1.08s/it]"
     ]
    },
    {
     "name": "stdout",
     "output_type": "stream",
     "text": [
      "AM.RA906.00.EHZ failed to download. Continuing..\n",
      "10.0 17.9685 -72.1205 18.40540541 -66.06545422\n"
     ]
    },
    {
     "name": "stderr",
     "output_type": "stream",
     "text": [
      "\r",
      " 54%|███████████████████████▏                   | 14/26 [00:17<00:14,  1.19s/it]"
     ]
    },
    {
     "name": "stdout",
     "output_type": "stream",
     "text": [
      "10.0 17.9685 -72.1205 18.52252252 -72.31656731\n"
     ]
    },
    {
     "name": "stderr",
     "output_type": "stream",
     "text": [
      "\r",
      " 58%|████████████████████████▊                  | 15/26 [00:18<00:12,  1.13s/it]"
     ]
    },
    {
     "name": "stdout",
     "output_type": "stream",
     "text": [
      "AM.RAA21.00.EHZ failed to download. Continuing..\n",
      "10.0 17.9685 -72.1205 17.99099099 -66.61079735\n"
     ]
    },
    {
     "name": "stderr",
     "output_type": "stream",
     "text": [
      "\r",
      " 62%|██████████████████████████▍                | 16/26 [00:20<00:12,  1.24s/it]"
     ]
    },
    {
     "name": "stdout",
     "output_type": "stream",
     "text": [
      "10.0 17.9685 -72.1205 18.08108108 -67.03136089\n"
     ]
    },
    {
     "name": "stderr",
     "output_type": "stream",
     "text": [
      "\r",
      " 65%|████████████████████████████               | 17/26 [00:22<00:12,  1.34s/it]"
     ]
    },
    {
     "name": "stdout",
     "output_type": "stream",
     "text": [
      "10.0 17.9685 -72.1205 19.77477477 -72.22637702\n"
     ]
    },
    {
     "name": "stderr",
     "output_type": "stream",
     "text": [
      "\r",
      " 69%|█████████████████████████████▊             | 18/26 [00:23<00:09,  1.24s/it]"
     ]
    },
    {
     "name": "stdout",
     "output_type": "stream",
     "text": [
      "AM.RD269.00.EHZ failed to download. Continuing..\n",
      "10.0 17.9685 -72.1205 18.1981982 -71.1000091\n"
     ]
    },
    {
     "name": "stderr",
     "output_type": "stream",
     "text": [
      "\r",
      " 73%|███████████████████████████████▍           | 19/26 [00:24<00:09,  1.29s/it]"
     ]
    },
    {
     "name": "stdout",
     "output_type": "stream",
     "text": [
      "10.0 17.9685 -72.1205 18.27927928 -66.33100902\n"
     ]
    },
    {
     "name": "stderr",
     "output_type": "stream",
     "text": [
      "\r",
      " 77%|█████████████████████████████████          | 20/26 [00:25<00:07,  1.25s/it]"
     ]
    },
    {
     "name": "stdout",
     "output_type": "stream",
     "text": [
      "10.0 17.9685 -72.1205 18.41441441 -68.93603553\n"
     ]
    },
    {
     "name": "stderr",
     "output_type": "stream",
     "text": [
      "\r",
      " 81%|██████████████████████████████████▋        | 21/26 [00:26<00:05,  1.17s/it]"
     ]
    },
    {
     "name": "stdout",
     "output_type": "stream",
     "text": [
      "AM.RE001.00.EHZ failed to download. Continuing..\n",
      "10.0 17.9685 -72.1205 18.35135135 -66.11274136\n"
     ]
    },
    {
     "name": "stderr",
     "output_type": "stream",
     "text": [
      "\r",
      " 85%|████████████████████████████████████▍      | 22/26 [00:28<00:05,  1.26s/it]"
     ]
    },
    {
     "name": "stdout",
     "output_type": "stream",
     "text": [
      "10.0 17.9685 -72.1205 19.45945946 -72.66716953\n"
     ]
    },
    {
     "name": "stderr",
     "output_type": "stream",
     "text": [
      "\r",
      " 88%|██████████████████████████████████████     | 23/26 [00:29<00:03,  1.18s/it]"
     ]
    },
    {
     "name": "stdout",
     "output_type": "stream",
     "text": [
      "AM.REF37.00.EHZ failed to download. Continuing..\n",
      "10.0 17.9685 -72.1205 19.08108108 -71.6960057\n"
     ]
    },
    {
     "name": "stderr",
     "output_type": "stream",
     "text": [
      "\r",
      " 92%|███████████████████████████████████████▋   | 24/26 [00:30<00:02,  1.28s/it]"
     ]
    },
    {
     "name": "stdout",
     "output_type": "stream",
     "text": [
      "10.0 17.9685 -72.1205 18.20720721 -73.74886717\n"
     ]
    },
    {
     "name": "stderr",
     "output_type": "stream",
     "text": [
      "\r",
      " 96%|█████████████████████████████████████████▎ | 25/26 [00:31<00:01,  1.20s/it]"
     ]
    },
    {
     "name": "stdout",
     "output_type": "stream",
     "text": [
      "AM.RF6E7.00.EHZ failed to download. Continuing..\n",
      "10.0 17.9685 -72.1205 18.30630631 -66.07594445\n"
     ]
    },
    {
     "name": "stderr",
     "output_type": "stream",
     "text": [
      "100%|███████████████████████████████████████████| 26/26 [00:32<00:00,  1.25s/it]"
     ]
    },
    {
     "name": "stdout",
     "output_type": "stream",
     "text": [
      "AM.S4051.00.EHZ failed to download. Continuing..\n",
      "rPtime =  60.0\n",
      "Trace SNR =  6.783092101926658 1\n",
      "Trace SNR =  4.070964129569543 2\n",
      "Trace SNR =  0.8071356726292255 3\n",
      "Trace SNR =  1.7920661916266019 4\n",
      "Trace SNR =  0.8918213583912713 5\n"
     ]
    },
    {
     "name": "stderr",
     "output_type": "stream",
     "text": [
      "\n"
     ]
    },
    {
     "name": "stdout",
     "output_type": "stream",
     "text": [
      "Trace SNR =  5.506304727590163 6\n",
      "Trace SNR =  35.528738169279336 7\n",
      "Trace SNR =  1177.1798630693957 8\n",
      "Trace SNR =  0.9185241078795688 9\n",
      "Trace SNR =  0.980498555455585 10\n",
      "Trace SNR =  1.5324902429967198 11\n",
      "Trace SNR =  3703.39074882932 12\n",
      "Trace SNR =  3.3630166541066924 13\n",
      "Trace SNR =  3.962748124949308 14\n",
      "Trace SNR =  700.8011286454799 15\n",
      "6  of  15 traces were kept above SNR threshold 5.0\n",
      "writing  /Users/hkunwer/Documents/research/EQenergy/events/2021/2021031400RS/RS/pkls/Params_2021031400RS.pkl \n",
      " /Users/hkunwer/Documents/research/EQenergy/events/2021/2021031400RS/RS/Params_2021031400RS.csv\n",
      "writing  /Users/hkunwer/Documents/research/EQenergy/events/2021/2021031400RS/RS/pkls/Wavestream-raw_2021031400RS.pkl\n",
      "Completed getwaves\n",
      "Completed: instrument response removal and taper, data returned as Velocity\n",
      "Completed: frequency band filtering\n",
      "More than 1 trace detected, continuing\n",
      "Completed: normalization\n",
      "Completed: Loading existing dataframe\n",
      "Completed: Appended data to near_field_df.pkl\n",
      "\n",
      "\n",
      "2021031000RS ===============================\n",
      "SNR = 5.0\n",
      "ERROR:  coudn't move directory to  /Users/hkunwer/Documents/research/EQenergy/events/2021/2021031000RS/RS.bak\n",
      "Error:  Couldn't create directory:  /Users/hkunwer/Documents/research/EQenergy/events/2021/2021031000RS/RS\n",
      "Checking for stations available within range from IRIS\n"
     ]
    },
    {
     "name": "stderr",
     "output_type": "stream",
     "text": [
      "/Users/hkunwer/Documents/research/EQenergy/Wiggles/Attenuation/AttenuationFunctionsTesting.py:221: FutureWarning: The frame.append method is deprecated and will be removed from pandas in a future version. Use pandas.concat instead.\n",
      "  combined_dataframe = existing_dataframe.append(dataframe, ignore_index=True)\n"
     ]
    },
    {
     "name": "stdout",
     "output_type": "stream",
     "text": [
      "Getting waves from RASPISHAKE\n"
     ]
    },
    {
     "name": "stderr",
     "output_type": "stream",
     "text": [
      "  0%|                                                    | 0/33 [00:00<?, ?it/s]"
     ]
    },
    {
     "name": "stdout",
     "output_type": "stream",
     "text": [
      "114.0 18.5146 -68.8055 18.12612613 -67.10740855\n",
      "ERROR: 2021031000RS could not complete getwaves\n",
      "\n",
      "\n",
      "2021022400RS ===============================\n",
      "SNR = 5.0\n",
      "ERROR:  coudn't move directory to  /Users/hkunwer/Documents/research/EQenergy/events/2021/2021022400RS/RS.bak\n",
      "Error:  Couldn't create directory:  /Users/hkunwer/Documents/research/EQenergy/events/2021/2021022400RS/RS\n",
      "Checking for stations available within range from IRIS\n"
     ]
    },
    {
     "name": "stderr",
     "output_type": "stream",
     "text": [
      "\n"
     ]
    },
    {
     "name": "stdout",
     "output_type": "stream",
     "text": [
      "Getting waves from RASPISHAKE\n"
     ]
    },
    {
     "name": "stderr",
     "output_type": "stream",
     "text": [
      "\r",
      "  0%|                                                    | 0/30 [00:00<?, ?it/s]"
     ]
    },
    {
     "name": "stdout",
     "output_type": "stream",
     "text": [
      "10.0 18.6909 -73.6219 25.88288288 -80.36355577\n"
     ]
    },
    {
     "name": "stderr",
     "output_type": "stream",
     "text": [
      "\r",
      "  3%|█▍                                          | 1/30 [00:01<00:32,  1.12s/it]"
     ]
    },
    {
     "name": "stdout",
     "output_type": "stream",
     "text": [
      "10.0 18.6909 -73.6219 18.12612613 -67.10740855\n"
     ]
    },
    {
     "name": "stderr",
     "output_type": "stream",
     "text": [
      "\r",
      "  7%|██▉                                         | 2/30 [00:02<00:35,  1.27s/it]"
     ]
    },
    {
     "name": "stdout",
     "output_type": "stream",
     "text": [
      "10.0 18.6909 -73.6219 18.36036036 -66.17991466\n"
     ]
    },
    {
     "name": "stderr",
     "output_type": "stream",
     "text": [
      "\r",
      " 10%|████▍                                       | 3/30 [00:03<00:35,  1.32s/it]"
     ]
    },
    {
     "name": "stdout",
     "output_type": "stream",
     "text": [
      "10.0 18.6909 -73.6219 18.45945946 -66.34149666\n"
     ]
    },
    {
     "name": "stderr",
     "output_type": "stream",
     "text": [
      "\r",
      " 13%|█████▊                                      | 4/30 [00:05<00:35,  1.35s/it]"
     ]
    },
    {
     "name": "stdout",
     "output_type": "stream",
     "text": [
      "10.0 18.6909 -73.6219 18.44144144 -66.00258091\n"
     ]
    },
    {
     "name": "stderr",
     "output_type": "stream",
     "text": [
      "\r",
      " 17%|███████▎                                    | 5/30 [00:06<00:36,  1.45s/it]"
     ]
    },
    {
     "name": "stdout",
     "output_type": "stream",
     "text": [
      "10.0 18.6909 -73.6219 18.01801802 -66.83860199\n"
     ]
    },
    {
     "name": "stderr",
     "output_type": "stream",
     "text": [
      "\r",
      " 20%|████████▊                                   | 6/30 [00:08<00:35,  1.49s/it]"
     ]
    },
    {
     "name": "stdout",
     "output_type": "stream",
     "text": [
      "10.0 18.6909 -73.6219 18.45945946 -69.90366697\n"
     ]
    },
    {
     "name": "stderr",
     "output_type": "stream",
     "text": [
      "\r",
      " 23%|██████████▎                                 | 7/30 [00:09<00:32,  1.42s/it]"
     ]
    },
    {
     "name": "stdout",
     "output_type": "stream",
     "text": [
      "10.0 18.6909 -73.6219 19.31531532 -72.1236704\n"
     ]
    },
    {
     "name": "stderr",
     "output_type": "stream",
     "text": [
      "\r",
      " 27%|███████████▋                                | 8/30 [00:10<00:28,  1.28s/it]"
     ]
    },
    {
     "name": "stdout",
     "output_type": "stream",
     "text": [
      "AM.R595E.00.EHZ failed to download. Continuing..\n",
      "10.0 18.6909 -73.6219 25.92792793 -80.41201151\n"
     ]
    },
    {
     "name": "stderr",
     "output_type": "stream",
     "text": [
      "\r",
      " 30%|█████████████▏                              | 9/30 [00:12<00:27,  1.30s/it]"
     ]
    },
    {
     "name": "stdout",
     "output_type": "stream",
     "text": [
      "10.0 18.6909 -73.6219 18.35135135 -64.93597952\n"
     ]
    },
    {
     "name": "stderr",
     "output_type": "stream",
     "text": [
      "\r",
      " 33%|██████████████▎                            | 10/30 [00:13<00:24,  1.21s/it]"
     ]
    },
    {
     "name": "stdout",
     "output_type": "stream",
     "text": [
      "AM.R7078.00.EHZ failed to download. Continuing..\n",
      "10.0 18.6909 -73.6219 18.45945946 -67.11405725\n"
     ]
    },
    {
     "name": "stderr",
     "output_type": "stream",
     "text": [
      "\r",
      " 37%|███████████████▊                           | 11/30 [00:14<00:21,  1.15s/it]"
     ]
    },
    {
     "name": "stdout",
     "output_type": "stream",
     "text": [
      "AM.R804D.00.EHZ failed to download. Continuing..\n",
      "10.0 18.6909 -73.6219 18.23423423 -72.52555277\n"
     ]
    },
    {
     "name": "stderr",
     "output_type": "stream",
     "text": [
      "\r",
      " 40%|█████████████████▏                         | 12/30 [00:15<00:19,  1.11s/it]"
     ]
    },
    {
     "name": "stdout",
     "output_type": "stream",
     "text": [
      "AM.R897D.00.EHZ failed to download. Continuing..\n",
      "10.0 18.6909 -73.6219 25.9009009 -80.35088029\n"
     ]
    },
    {
     "name": "stderr",
     "output_type": "stream",
     "text": [
      "\r",
      " 43%|██████████████████▋                        | 13/30 [00:16<00:18,  1.07s/it]"
     ]
    },
    {
     "name": "stdout",
     "output_type": "stream",
     "text": [
      "AM.R976A.00.EHZ failed to download. Continuing..\n",
      "10.0 18.6909 -73.6219 19.45045045 -72.66268818\n"
     ]
    },
    {
     "name": "stderr",
     "output_type": "stream",
     "text": [
      "\r",
      " 47%|████████████████████                       | 14/30 [00:17<00:16,  1.05s/it]"
     ]
    },
    {
     "name": "stdout",
     "output_type": "stream",
     "text": [
      "AM.RA7D0.00.EHZ failed to download. Continuing..\n",
      "10.0 18.6909 -73.6219 18.43243243 -66.05875416\n"
     ]
    },
    {
     "name": "stderr",
     "output_type": "stream",
     "text": [
      "\r",
      " 50%|█████████████████████▌                     | 15/30 [00:18<00:15,  1.03s/it]"
     ]
    },
    {
     "name": "stdout",
     "output_type": "stream",
     "text": [
      "AM.RA906.00.EHZ failed to download. Continuing..\n",
      "10.0 18.6909 -73.6219 18.40540541 -66.06545422\n"
     ]
    },
    {
     "name": "stderr",
     "output_type": "stream",
     "text": [
      "\r",
      " 53%|██████████████████████▉                    | 16/30 [00:19<00:16,  1.16s/it]"
     ]
    },
    {
     "name": "stdout",
     "output_type": "stream",
     "text": [
      "10.0 18.6909 -73.6219 18.52252252 -72.31656731\n"
     ]
    },
    {
     "name": "stderr",
     "output_type": "stream",
     "text": [
      "\r",
      " 57%|████████████████████████▎                  | 17/30 [00:20<00:16,  1.24s/it]"
     ]
    },
    {
     "name": "stdout",
     "output_type": "stream",
     "text": [
      "10.0 18.6909 -73.6219 25.99099099 -80.33726338\n"
     ]
    },
    {
     "name": "stderr",
     "output_type": "stream",
     "text": [
      "\r",
      " 60%|█████████████████████████▊                 | 18/30 [00:21<00:14,  1.17s/it]"
     ]
    },
    {
     "name": "stdout",
     "output_type": "stream",
     "text": [
      "AM.RC57A.00.EHZ failed to download. Continuing..\n",
      "10.0 18.6909 -73.6219 25.93693694 -80.33003527\n"
     ]
    },
    {
     "name": "stderr",
     "output_type": "stream",
     "text": [
      "\r",
      " 63%|███████████████████████████▏               | 19/30 [00:23<00:13,  1.24s/it]"
     ]
    },
    {
     "name": "stdout",
     "output_type": "stream",
     "text": [
      "10.0 18.6909 -73.6219 17.99099099 -66.61079735\n"
     ]
    },
    {
     "name": "stderr",
     "output_type": "stream",
     "text": [
      "\r",
      " 67%|████████████████████████████▋              | 20/30 [00:24<00:11,  1.17s/it]"
     ]
    },
    {
     "name": "stdout",
     "output_type": "stream",
     "text": [
      "AM.RCCD1.00.EHZ failed to download. Continuing..\n",
      "10.0 18.6909 -73.6219 18.08108108 -67.03136089\n"
     ]
    },
    {
     "name": "stderr",
     "output_type": "stream",
     "text": [
      "\r",
      " 70%|██████████████████████████████             | 21/30 [00:25<00:11,  1.25s/it]"
     ]
    },
    {
     "name": "stdout",
     "output_type": "stream",
     "text": [
      "10.0 18.6909 -73.6219 19.77477477 -72.22637702\n"
     ]
    },
    {
     "name": "stderr",
     "output_type": "stream",
     "text": [
      "\r",
      " 73%|███████████████████████████████▌           | 22/30 [00:26<00:09,  1.17s/it]"
     ]
    },
    {
     "name": "stdout",
     "output_type": "stream",
     "text": [
      "AM.RD269.00.EHZ failed to download. Continuing..\n",
      "10.0 18.6909 -73.6219 18.1981982 -71.1000091\n"
     ]
    },
    {
     "name": "stderr",
     "output_type": "stream",
     "text": [
      "\r",
      " 77%|████████████████████████████████▉          | 23/30 [00:27<00:07,  1.13s/it]"
     ]
    },
    {
     "name": "stdout",
     "output_type": "stream",
     "text": [
      "AM.RD4D8.00.EHZ failed to download. Continuing..\n",
      "10.0 18.6909 -73.6219 18.27927928 -66.33100902\n"
     ]
    },
    {
     "name": "stderr",
     "output_type": "stream",
     "text": [
      "\r",
      " 80%|██████████████████████████████████▍        | 24/30 [00:28<00:06,  1.13s/it]"
     ]
    },
    {
     "name": "stdout",
     "output_type": "stream",
     "text": [
      "10.0 18.6909 -73.6219 18.41441441 -68.93603553\n"
     ]
    },
    {
     "name": "stderr",
     "output_type": "stream",
     "text": [
      "\r",
      " 83%|███████████████████████████████████▊       | 25/30 [00:29<00:05,  1.10s/it]"
     ]
    },
    {
     "name": "stdout",
     "output_type": "stream",
     "text": [
      "AM.RE001.00.EHZ failed to download. Continuing..\n",
      "10.0 18.6909 -73.6219 18.35135135 -66.11274136\n"
     ]
    },
    {
     "name": "stderr",
     "output_type": "stream",
     "text": [
      "\r",
      " 87%|█████████████████████████████████████▎     | 26/30 [00:31<00:04,  1.20s/it]"
     ]
    },
    {
     "name": "stdout",
     "output_type": "stream",
     "text": [
      "10.0 18.6909 -73.6219 18.44144144 -67.15317602\n"
     ]
    },
    {
     "name": "stderr",
     "output_type": "stream",
     "text": [
      "\r",
      " 90%|██████████████████████████████████████▋    | 27/30 [00:32<00:03,  1.14s/it]"
     ]
    },
    {
     "name": "stdout",
     "output_type": "stream",
     "text": [
      "AM.REA26.00.EHZ failed to download. Continuing..\n",
      "10.0 18.6909 -73.6219 19.45945946 -72.66716953\n"
     ]
    },
    {
     "name": "stderr",
     "output_type": "stream",
     "text": [
      "\r",
      " 93%|████████████████████████████████████████▏  | 28/30 [00:33<00:02,  1.22s/it]"
     ]
    },
    {
     "name": "stdout",
     "output_type": "stream",
     "text": [
      "10.0 18.6909 -73.6219 25.92792793 -80.32280669\n"
     ]
    },
    {
     "name": "stderr",
     "output_type": "stream",
     "text": [
      "\r",
      " 97%|█████████████████████████████████████████▌ | 29/30 [00:35<00:01,  1.27s/it]"
     ]
    },
    {
     "name": "stdout",
     "output_type": "stream",
     "text": [
      "10.0 18.6909 -73.6219 18.30630631 -66.07594445\n"
     ]
    },
    {
     "name": "stderr",
     "output_type": "stream",
     "text": [
      "100%|███████████████████████████████████████████| 30/30 [00:36<00:00,  1.21s/it]"
     ]
    },
    {
     "name": "stdout",
     "output_type": "stream",
     "text": [
      "AM.S4051.00.EHZ failed to download. Continuing..\n",
      "rPtime =  60.0\n",
      "Trace SNR =  1.1347611182964172 1\n",
      "Trace SNR =  1.014065132513848 2\n",
      "Trace SNR =  1.085552521766153 3\n"
     ]
    },
    {
     "name": "stderr",
     "output_type": "stream",
     "text": [
      "\n"
     ]
    },
    {
     "name": "stdout",
     "output_type": "stream",
     "text": [
      "Trace SNR =  1.4138403367374934 4\n",
      "Trace SNR =  1.920694899957926 5\n",
      "Trace SNR =  1.4937939568151986 6\n",
      "Trace SNR =  2.6994117827905915 7\n",
      "Trace SNR =  1.0593095297969106 8\n",
      "Trace SNR =  0.5541223130196976 9\n",
      "Trace SNR =  2.1273351302832664 10\n",
      "Trace SNR =  0.4470343804151527 11\n",
      "Trace SNR =  0.631180623621357 12\n",
      "Trace SNR =  0.6950005325014273 13\n",
      "Trace SNR =  1.327272510494936 14\n",
      "Trace SNR =  2.32658520318226 15\n",
      "Trace SNR =  0.9223074409035019 16\n",
      "0  of  16 traces were kept above SNR threshold 5.0\n",
      "writing  /Users/hkunwer/Documents/research/EQenergy/events/2021/2021022400RS/RS/pkls/Params_2021022400RS.pkl \n",
      " /Users/hkunwer/Documents/research/EQenergy/events/2021/2021022400RS/RS/Params_2021022400RS.csv\n",
      "writing  /Users/hkunwer/Documents/research/EQenergy/events/2021/2021022400RS/RS/pkls/Wavestream-raw_2021022400RS.pkl\n",
      "Completed getwaves\n",
      "Completed: instrument response removal and taper, data returned as Velocity\n",
      "Completed: frequency band filtering\n",
      "Only one or no traces available for normalization.\n",
      "\n",
      "\n",
      "2021022401RS ===============================\n",
      "SNR = 5.0\n",
      "ERROR:  coudn't move directory to  /Users/hkunwer/Documents/research/EQenergy/events/2021/2021022401RS/RS.bak\n",
      "Error:  Couldn't create directory:  /Users/hkunwer/Documents/research/EQenergy/events/2021/2021022401RS/RS\n",
      "Checking for stations available within range from IRIS\n",
      "Getting waves from RASPISHAKE\n"
     ]
    },
    {
     "name": "stderr",
     "output_type": "stream",
     "text": [
      "\r",
      "  0%|                                                    | 0/30 [00:00<?, ?it/s]"
     ]
    },
    {
     "name": "stdout",
     "output_type": "stream",
     "text": [
      "10.0 18.5623 -73.3856 25.88288288 -80.36355577\n"
     ]
    },
    {
     "name": "stderr",
     "output_type": "stream",
     "text": [
      "\r",
      "  3%|█▍                                          | 1/30 [00:01<00:35,  1.22s/it]"
     ]
    },
    {
     "name": "stdout",
     "output_type": "stream",
     "text": [
      "10.0 18.5623 -73.3856 18.12612613 -67.10740855\n"
     ]
    },
    {
     "name": "stderr",
     "output_type": "stream",
     "text": [
      "\r",
      "  7%|██▉                                         | 2/30 [00:02<00:37,  1.33s/it]"
     ]
    },
    {
     "name": "stdout",
     "output_type": "stream",
     "text": [
      "10.0 18.5623 -73.3856 18.36036036 -66.17991466\n"
     ]
    },
    {
     "name": "stderr",
     "output_type": "stream",
     "text": [
      "\r",
      " 10%|████▍                                       | 3/30 [00:04<00:36,  1.35s/it]"
     ]
    },
    {
     "name": "stdout",
     "output_type": "stream",
     "text": [
      "10.0 18.5623 -73.3856 18.45945946 -66.34149666\n"
     ]
    },
    {
     "name": "stderr",
     "output_type": "stream",
     "text": [
      "\r",
      " 13%|█████▊                                      | 4/30 [00:05<00:35,  1.37s/it]"
     ]
    },
    {
     "name": "stdout",
     "output_type": "stream",
     "text": [
      "10.0 18.5623 -73.3856 18.44144144 -66.00258091\n"
     ]
    },
    {
     "name": "stderr",
     "output_type": "stream",
     "text": [
      "\r",
      " 17%|███████▎                                    | 5/30 [00:06<00:36,  1.45s/it]"
     ]
    },
    {
     "name": "stdout",
     "output_type": "stream",
     "text": [
      "10.0 18.5623 -73.3856 18.01801802 -66.83860199\n"
     ]
    },
    {
     "name": "stderr",
     "output_type": "stream",
     "text": [
      "\r",
      " 20%|████████▊                                   | 6/30 [00:08<00:36,  1.51s/it]"
     ]
    },
    {
     "name": "stdout",
     "output_type": "stream",
     "text": [
      "10.0 18.5623 -73.3856 18.45945946 -69.90366697\n"
     ]
    },
    {
     "name": "stderr",
     "output_type": "stream",
     "text": [
      "\r",
      " 23%|██████████▎                                 | 7/30 [00:09<00:32,  1.42s/it]"
     ]
    },
    {
     "name": "stdout",
     "output_type": "stream",
     "text": [
      "10.0 18.5623 -73.3856 19.31531532 -72.1236704\n"
     ]
    },
    {
     "name": "stderr",
     "output_type": "stream",
     "text": [
      "\r",
      " 27%|███████████▋                                | 8/30 [00:10<00:28,  1.29s/it]"
     ]
    },
    {
     "name": "stdout",
     "output_type": "stream",
     "text": [
      "AM.R595E.00.EHZ failed to download. Continuing..\n",
      "10.0 18.5623 -73.3856 25.92792793 -80.41201151\n"
     ]
    },
    {
     "name": "stderr",
     "output_type": "stream",
     "text": [
      "\r",
      " 30%|█████████████▏                              | 9/30 [00:15<00:48,  2.31s/it]"
     ]
    },
    {
     "name": "stdout",
     "output_type": "stream",
     "text": [
      "10.0 18.5623 -73.3856 18.35135135 -64.93597952\n"
     ]
    },
    {
     "name": "stderr",
     "output_type": "stream",
     "text": [
      "\r",
      " 33%|██████████████▎                            | 10/30 [00:16<00:38,  1.91s/it]"
     ]
    },
    {
     "name": "stdout",
     "output_type": "stream",
     "text": [
      "AM.R7078.00.EHZ failed to download. Continuing..\n",
      "10.0 18.5623 -73.3856 18.45945946 -67.11405725\n"
     ]
    },
    {
     "name": "stderr",
     "output_type": "stream",
     "text": [
      "\r",
      " 37%|███████████████▊                           | 11/30 [00:17<00:31,  1.64s/it]"
     ]
    },
    {
     "name": "stdout",
     "output_type": "stream",
     "text": [
      "AM.R804D.00.EHZ failed to download. Continuing..\n",
      "10.0 18.5623 -73.3856 18.23423423 -72.52555277\n"
     ]
    },
    {
     "name": "stderr",
     "output_type": "stream",
     "text": [
      "\r",
      " 40%|█████████████████▏                         | 12/30 [00:18<00:25,  1.43s/it]"
     ]
    },
    {
     "name": "stdout",
     "output_type": "stream",
     "text": [
      "AM.R897D.00.EHZ failed to download. Continuing..\n",
      "10.0 18.5623 -73.3856 25.9009009 -80.35088029\n"
     ]
    },
    {
     "name": "stderr",
     "output_type": "stream",
     "text": [
      "\r",
      " 43%|██████████████████▋                        | 13/30 [00:19<00:23,  1.41s/it]"
     ]
    },
    {
     "name": "stdout",
     "output_type": "stream",
     "text": [
      "10.0 18.5623 -73.3856 19.45045045 -72.66268818\n"
     ]
    },
    {
     "name": "stderr",
     "output_type": "stream",
     "text": [
      "\r",
      " 47%|████████████████████                       | 14/30 [00:20<00:20,  1.28s/it]"
     ]
    },
    {
     "name": "stdout",
     "output_type": "stream",
     "text": [
      "AM.RA7D0.00.EHZ failed to download. Continuing..\n",
      "10.0 18.5623 -73.3856 18.43243243 -66.05875416\n"
     ]
    },
    {
     "name": "stderr",
     "output_type": "stream",
     "text": [
      "\r",
      " 50%|█████████████████████▌                     | 15/30 [00:21<00:17,  1.19s/it]"
     ]
    },
    {
     "name": "stdout",
     "output_type": "stream",
     "text": [
      "AM.RA906.00.EHZ failed to download. Continuing..\n",
      "10.0 18.5623 -73.3856 18.40540541 -66.06545422\n"
     ]
    },
    {
     "name": "stderr",
     "output_type": "stream",
     "text": [
      "\r",
      " 53%|██████████████████████▉                    | 16/30 [00:23<00:17,  1.27s/it]"
     ]
    },
    {
     "name": "stdout",
     "output_type": "stream",
     "text": [
      "10.0 18.5623 -73.3856 18.52252252 -72.31656731\n"
     ]
    },
    {
     "name": "stderr",
     "output_type": "stream",
     "text": [
      "\r",
      " 57%|████████████████████████▎                  | 17/30 [00:24<00:15,  1.19s/it]"
     ]
    },
    {
     "name": "stdout",
     "output_type": "stream",
     "text": [
      "AM.RAA21.00.EHZ failed to download. Continuing..\n",
      "10.0 18.5623 -73.3856 25.99099099 -80.33726338\n"
     ]
    },
    {
     "name": "stderr",
     "output_type": "stream",
     "text": [
      "\r",
      " 60%|█████████████████████████▊                 | 18/30 [00:25<00:14,  1.21s/it]"
     ]
    },
    {
     "name": "stdout",
     "output_type": "stream",
     "text": [
      "10.0 18.5623 -73.3856 25.93693694 -80.33003527\n"
     ]
    },
    {
     "name": "stderr",
     "output_type": "stream",
     "text": [
      "\r",
      " 63%|███████████████████████████▏               | 19/30 [00:26<00:12,  1.15s/it]"
     ]
    },
    {
     "name": "stdout",
     "output_type": "stream",
     "text": [
      "AM.RCC6E.00.EHZ failed to download. Continuing..\n",
      "10.0 18.5623 -73.3856 17.99099099 -66.61079735\n"
     ]
    },
    {
     "name": "stderr",
     "output_type": "stream",
     "text": [
      "\r",
      " 67%|████████████████████████████▋              | 20/30 [00:28<00:12,  1.28s/it]"
     ]
    },
    {
     "name": "stdout",
     "output_type": "stream",
     "text": [
      "10.0 18.5623 -73.3856 18.08108108 -67.03136089\n"
     ]
    },
    {
     "name": "stderr",
     "output_type": "stream",
     "text": [
      "\r",
      " 70%|██████████████████████████████             | 21/30 [00:29<00:12,  1.36s/it]"
     ]
    },
    {
     "name": "stdout",
     "output_type": "stream",
     "text": [
      "10.0 18.5623 -73.3856 19.77477477 -72.22637702\n"
     ]
    },
    {
     "name": "stderr",
     "output_type": "stream",
     "text": [
      "\r",
      " 73%|███████████████████████████████▌           | 22/30 [00:30<00:10,  1.30s/it]"
     ]
    },
    {
     "name": "stdout",
     "output_type": "stream",
     "text": [
      "AM.RD269.00.EHZ failed to download. Continuing..\n",
      "10.0 18.5623 -73.3856 18.1981982 -71.1000091\n"
     ]
    },
    {
     "name": "stderr",
     "output_type": "stream",
     "text": [
      "\r",
      " 77%|████████████████████████████████▉          | 23/30 [00:31<00:08,  1.20s/it]"
     ]
    },
    {
     "name": "stdout",
     "output_type": "stream",
     "text": [
      "AM.RD4D8.00.EHZ failed to download. Continuing..\n",
      "10.0 18.5623 -73.3856 18.27927928 -66.33100902\n"
     ]
    },
    {
     "name": "stderr",
     "output_type": "stream",
     "text": [
      "\r",
      " 80%|██████████████████████████████████▍        | 24/30 [00:32<00:07,  1.17s/it]"
     ]
    },
    {
     "name": "stdout",
     "output_type": "stream",
     "text": [
      "10.0 18.5623 -73.3856 18.41441441 -68.93603553\n"
     ]
    },
    {
     "name": "stderr",
     "output_type": "stream",
     "text": [
      "\r",
      " 83%|███████████████████████████████████▊       | 25/30 [00:33<00:05,  1.13s/it]"
     ]
    },
    {
     "name": "stdout",
     "output_type": "stream",
     "text": [
      "AM.RE001.00.EHZ failed to download. Continuing..\n",
      "10.0 18.5623 -73.3856 18.35135135 -66.11274136\n"
     ]
    },
    {
     "name": "stderr",
     "output_type": "stream",
     "text": [
      "\r",
      " 87%|█████████████████████████████████████▎     | 26/30 [00:35<00:04,  1.22s/it]"
     ]
    },
    {
     "name": "stdout",
     "output_type": "stream",
     "text": [
      "10.0 18.5623 -73.3856 18.44144144 -67.15317602\n"
     ]
    },
    {
     "name": "stderr",
     "output_type": "stream",
     "text": [
      "\r",
      " 90%|██████████████████████████████████████▋    | 27/30 [00:36<00:03,  1.15s/it]"
     ]
    },
    {
     "name": "stdout",
     "output_type": "stream",
     "text": [
      "AM.REA26.00.EHZ failed to download. Continuing..\n",
      "10.0 18.5623 -73.3856 19.45945946 -72.66716953\n"
     ]
    },
    {
     "name": "stderr",
     "output_type": "stream",
     "text": [
      "\r",
      " 93%|████████████████████████████████████████▏  | 28/30 [00:37<00:02,  1.23s/it]"
     ]
    },
    {
     "name": "stdout",
     "output_type": "stream",
     "text": [
      "10.0 18.5623 -73.3856 25.92792793 -80.32280669\n"
     ]
    },
    {
     "name": "stderr",
     "output_type": "stream",
     "text": [
      "\r",
      " 97%|█████████████████████████████████████████▌ | 29/30 [00:39<00:01,  1.27s/it]"
     ]
    },
    {
     "name": "stdout",
     "output_type": "stream",
     "text": [
      "10.0 18.5623 -73.3856 18.30630631 -66.07594445\n"
     ]
    },
    {
     "name": "stderr",
     "output_type": "stream",
     "text": [
      "100%|███████████████████████████████████████████| 30/30 [00:40<00:00,  1.33s/it]"
     ]
    },
    {
     "name": "stdout",
     "output_type": "stream",
     "text": [
      "AM.S4051.00.EHZ failed to download. Continuing..\n",
      "rPtime =  60.0\n",
      "Trace SNR =  0.7619413701418427 1\n",
      "Trace SNR =  1.2276282327982055 2\n",
      "Trace SNR =  0.9535193562106211 3\n"
     ]
    },
    {
     "name": "stderr",
     "output_type": "stream",
     "text": [
      "\n"
     ]
    },
    {
     "name": "stdout",
     "output_type": "stream",
     "text": [
      "Trace SNR =  1.3543059086297509 4\n",
      "Trace SNR =  0.6983757978051441 5\n",
      "Trace SNR =  0.45646260479024914 6\n",
      "Trace SNR =  1.3383995353067906 7\n",
      "Trace SNR =  1.2752685585930355 8\n",
      "Trace SNR =  1.2341453996673661 9\n",
      "Trace SNR =  0.5811176863240538 10\n",
      "Trace SNR =  1.5556948058493894 11\n",
      "Trace SNR =  0.2197080550666309 12\n",
      "Trace SNR =  1.8953997421898139 13\n",
      "Trace SNR =  1.328198524098449 14\n",
      "Trace SNR =  1.6648867808329397 15\n",
      "Trace SNR =  2739.8121055023394 16\n",
      "Trace SNR =  1.2853718832059877 17\n",
      "1  of  17 traces were kept above SNR threshold 5.0\n",
      "writing  /Users/hkunwer/Documents/research/EQenergy/events/2021/2021022401RS/RS/pkls/Params_2021022401RS.pkl \n",
      " /Users/hkunwer/Documents/research/EQenergy/events/2021/2021022401RS/RS/Params_2021022401RS.csv\n",
      "writing  /Users/hkunwer/Documents/research/EQenergy/events/2021/2021022401RS/RS/pkls/Wavestream-raw_2021022401RS.pkl\n",
      "Completed getwaves\n",
      "Completed: instrument response removal and taper, data returned as Velocity\n",
      "Completed: frequency band filtering\n",
      "Only one or no traces available for normalization.\n",
      "\n",
      "\n",
      "2021022200RS ===============================\n",
      "SNR = 5.0\n",
      "ERROR:  coudn't move directory to  /Users/hkunwer/Documents/research/EQenergy/events/2021/2021022200RS/RS.bak\n",
      "Error:  Couldn't create directory:  /Users/hkunwer/Documents/research/EQenergy/events/2021/2021022200RS/RS\n",
      "Checking for stations available within range from IRIS\n",
      "Getting waves from RASPISHAKE\n"
     ]
    },
    {
     "name": "stderr",
     "output_type": "stream",
     "text": [
      "\r",
      "  0%|                                                    | 0/29 [00:00<?, ?it/s]"
     ]
    },
    {
     "name": "stdout",
     "output_type": "stream",
     "text": [
      "10.0 19.8403 -71.0541 18.12612613 -67.10740855\n"
     ]
    },
    {
     "name": "stderr",
     "output_type": "stream",
     "text": [
      "\r",
      "  3%|█▌                                          | 1/29 [00:01<00:40,  1.44s/it]"
     ]
    },
    {
     "name": "stdout",
     "output_type": "stream",
     "text": [
      "10.0 19.8403 -71.0541 18.36036036 -66.17991466\n"
     ]
    },
    {
     "name": "stderr",
     "output_type": "stream",
     "text": [
      "\r",
      "  7%|███                                         | 2/29 [00:02<00:40,  1.50s/it]"
     ]
    },
    {
     "name": "stdout",
     "output_type": "stream",
     "text": [
      "10.0 19.8403 -71.0541 18.45945946 -66.34149666\n"
     ]
    },
    {
     "name": "stderr",
     "output_type": "stream",
     "text": [
      "\r",
      " 10%|████▌                                       | 3/29 [00:04<00:36,  1.41s/it]"
     ]
    },
    {
     "name": "stdout",
     "output_type": "stream",
     "text": [
      "10.0 19.8403 -71.0541 18.44144144 -66.00258091\n"
     ]
    },
    {
     "name": "stderr",
     "output_type": "stream",
     "text": [
      "\r",
      " 14%|██████                                      | 4/29 [00:05<00:36,  1.45s/it]"
     ]
    },
    {
     "name": "stdout",
     "output_type": "stream",
     "text": [
      "10.0 19.8403 -71.0541 18.55855856 -72.29235928\n"
     ]
    },
    {
     "name": "stderr",
     "output_type": "stream",
     "text": [
      "\r",
      " 17%|███████▌                                    | 5/29 [00:06<00:31,  1.29s/it]"
     ]
    },
    {
     "name": "stdout",
     "output_type": "stream",
     "text": [
      "AM.R49B6.00.EHZ failed to download. Continuing..\n",
      "10.0 19.8403 -71.0541 18.01801802 -66.83860199\n"
     ]
    },
    {
     "name": "stderr",
     "output_type": "stream",
     "text": [
      "\r",
      " 21%|█████████                                   | 6/29 [00:08<00:31,  1.35s/it]"
     ]
    },
    {
     "name": "stdout",
     "output_type": "stream",
     "text": [
      "10.0 19.8403 -71.0541 18.45945946 -69.90366697\n"
     ]
    },
    {
     "name": "stderr",
     "output_type": "stream",
     "text": [
      "\r",
      " 24%|██████████▌                                 | 7/29 [00:09<00:31,  1.42s/it]"
     ]
    },
    {
     "name": "stdout",
     "output_type": "stream",
     "text": [
      "10.0 19.8403 -71.0541 18.22522523 -73.61282146\n"
     ]
    },
    {
     "name": "stderr",
     "output_type": "stream",
     "text": [
      " 28%|████████████▏                               | 8/29 [00:11<00:28,  1.36s/it]/Users/hkunwer/opt/anaconda3/envs/rtergpy/lib/python3.11/site-packages/obspy/core/inventory/network.py:321: UserWarning: Found more than one matching channel metadata. Returning first.\n",
      "  warnings.warn(msg)\n"
     ]
    },
    {
     "name": "stdout",
     "output_type": "stream",
     "text": [
      "10.0 19.8403 -71.0541 19.31531532 -72.1236704\n"
     ]
    },
    {
     "name": "stderr",
     "output_type": "stream",
     "text": [
      "\r",
      " 31%|█████████████▋                              | 9/29 [00:12<00:24,  1.24s/it]"
     ]
    },
    {
     "name": "stdout",
     "output_type": "stream",
     "text": [
      "AM.R595E.00.EHZ failed to download. Continuing..\n",
      "10.0 19.8403 -71.0541 19.31531532 -72.1236704\n"
     ]
    },
    {
     "name": "stderr",
     "output_type": "stream",
     "text": [
      "\r",
      " 34%|██████████████▊                            | 10/29 [00:13<00:24,  1.29s/it]"
     ]
    },
    {
     "name": "stdout",
     "output_type": "stream",
     "text": [
      "10.0 19.8403 -71.0541 18.35135135 -64.93597952\n"
     ]
    },
    {
     "name": "stderr",
     "output_type": "stream",
     "text": [
      "\r",
      " 38%|████████████████▎                          | 11/29 [00:14<00:21,  1.20s/it]"
     ]
    },
    {
     "name": "stdout",
     "output_type": "stream",
     "text": [
      "AM.R7078.00.EHZ failed to download. Continuing..\n",
      "10.0 19.8403 -71.0541 18.5045045 -73.34156397\n"
     ]
    },
    {
     "name": "stderr",
     "output_type": "stream",
     "text": [
      "\r",
      " 41%|█████████████████▊                         | 12/29 [00:15<00:19,  1.14s/it]"
     ]
    },
    {
     "name": "stdout",
     "output_type": "stream",
     "text": [
      "AM.R73EC.00.EHZ failed to download. Continuing..\n",
      "10.0 19.8403 -71.0541 18.45945946 -67.11405725\n"
     ]
    },
    {
     "name": "stderr",
     "output_type": "stream",
     "text": [
      "\r",
      " 45%|███████████████████▎                       | 13/29 [00:16<00:17,  1.11s/it]"
     ]
    },
    {
     "name": "stdout",
     "output_type": "stream",
     "text": [
      "AM.R804D.00.EHZ failed to download. Continuing..\n",
      "10.0 19.8403 -71.0541 18.23423423 -72.52555277\n"
     ]
    },
    {
     "name": "stderr",
     "output_type": "stream",
     "text": [
      "\r",
      " 48%|████████████████████▊                      | 14/29 [00:17<00:16,  1.08s/it]"
     ]
    },
    {
     "name": "stdout",
     "output_type": "stream",
     "text": [
      "AM.R897D.00.EHZ failed to download. Continuing..\n",
      "10.0 19.8403 -71.0541 19.45045045 -72.66268818\n"
     ]
    },
    {
     "name": "stderr",
     "output_type": "stream",
     "text": [
      "\r",
      " 52%|██████████████████████▏                    | 15/29 [00:18<00:14,  1.06s/it]"
     ]
    },
    {
     "name": "stdout",
     "output_type": "stream",
     "text": [
      "AM.RA7D0.00.EHZ failed to download. Continuing..\n",
      "10.0 19.8403 -71.0541 18.43243243 -66.05875416\n"
     ]
    },
    {
     "name": "stderr",
     "output_type": "stream",
     "text": [
      "\r",
      " 55%|███████████████████████▋                   | 16/29 [00:19<00:13,  1.04s/it]"
     ]
    },
    {
     "name": "stdout",
     "output_type": "stream",
     "text": [
      "AM.RA906.00.EHZ failed to download. Continuing..\n",
      "10.0 19.8403 -71.0541 18.40540541 -66.06545422\n"
     ]
    },
    {
     "name": "stderr",
     "output_type": "stream",
     "text": [
      "\r",
      " 59%|█████████████████████████▏                 | 17/29 [00:20<00:12,  1.02s/it]"
     ]
    },
    {
     "name": "stdout",
     "output_type": "stream",
     "text": [
      "AM.RA9CF.00.EHZ failed to download. Continuing..\n",
      "10.0 19.8403 -71.0541 18.52252252 -72.31656731\n"
     ]
    },
    {
     "name": "stderr",
     "output_type": "stream",
     "text": [
      "\r",
      " 62%|██████████████████████████▋                | 18/29 [00:21<00:12,  1.16s/it]"
     ]
    },
    {
     "name": "stdout",
     "output_type": "stream",
     "text": [
      "10.0 19.8403 -71.0541 17.99099099 -66.61079735\n"
     ]
    },
    {
     "name": "stderr",
     "output_type": "stream",
     "text": [
      "\r",
      " 66%|████████████████████████████▏              | 19/29 [00:23<00:12,  1.28s/it]"
     ]
    },
    {
     "name": "stdout",
     "output_type": "stream",
     "text": [
      "10.0 19.8403 -71.0541 18.08108108 -67.03136089\n"
     ]
    },
    {
     "name": "stderr",
     "output_type": "stream",
     "text": [
      "\r",
      " 69%|█████████████████████████████▋             | 20/29 [00:24<00:10,  1.20s/it]"
     ]
    },
    {
     "name": "stdout",
     "output_type": "stream",
     "text": [
      "AM.RD17E.00.EHZ failed to download. Continuing..\n",
      "10.0 19.8403 -71.0541 19.77477477 -72.22637702\n"
     ]
    },
    {
     "name": "stderr",
     "output_type": "stream",
     "text": [
      "\r",
      " 72%|███████████████████████████████▏           | 21/29 [00:25<00:09,  1.14s/it]"
     ]
    },
    {
     "name": "stdout",
     "output_type": "stream",
     "text": [
      "AM.RD269.00.EHZ failed to download. Continuing..\n",
      "10.0 19.8403 -71.0541 18.1981982 -71.1000091\n"
     ]
    },
    {
     "name": "stderr",
     "output_type": "stream",
     "text": [
      "\r",
      " 76%|████████████████████████████████▌          | 22/29 [00:26<00:07,  1.10s/it]"
     ]
    },
    {
     "name": "stdout",
     "output_type": "stream",
     "text": [
      "AM.RD4D8.00.EHZ failed to download. Continuing..\n",
      "10.0 19.8403 -71.0541 18.27927928 -66.33100902\n"
     ]
    },
    {
     "name": "stderr",
     "output_type": "stream",
     "text": [
      "\r",
      " 79%|██████████████████████████████████         | 23/29 [00:27<00:06,  1.13s/it]"
     ]
    },
    {
     "name": "stdout",
     "output_type": "stream",
     "text": [
      "10.0 19.8403 -71.0541 18.41441441 -68.93603553\n"
     ]
    },
    {
     "name": "stderr",
     "output_type": "stream",
     "text": [
      "\r",
      " 83%|███████████████████████████████████▌       | 24/29 [00:29<00:06,  1.23s/it]"
     ]
    },
    {
     "name": "stdout",
     "output_type": "stream",
     "text": [
      "10.0 19.8403 -71.0541 18.35135135 -66.11274136\n"
     ]
    },
    {
     "name": "stderr",
     "output_type": "stream",
     "text": [
      "\r",
      " 86%|█████████████████████████████████████      | 25/29 [00:30<00:04,  1.16s/it]"
     ]
    },
    {
     "name": "stdout",
     "output_type": "stream",
     "text": [
      "AM.RE1CC.00.EHZ failed to download. Continuing..\n",
      "10.0 19.8403 -71.0541 18.44144144 -67.15317602\n"
     ]
    },
    {
     "name": "stderr",
     "output_type": "stream",
     "text": [
      "\r",
      " 90%|██████████████████████████████████████▌    | 26/29 [00:31<00:03,  1.11s/it]"
     ]
    },
    {
     "name": "stdout",
     "output_type": "stream",
     "text": [
      "AM.REA26.00.EHZ failed to download. Continuing..\n",
      "10.0 19.8403 -71.0541 19.45945946 -72.66716953\n"
     ]
    },
    {
     "name": "stderr",
     "output_type": "stream",
     "text": [
      "\r",
      " 93%|████████████████████████████████████████   | 27/29 [00:32<00:02,  1.07s/it]"
     ]
    },
    {
     "name": "stdout",
     "output_type": "stream",
     "text": [
      "AM.REF37.00.EHZ failed to download. Continuing..\n",
      "10.0 19.8403 -71.0541 18.20720721 -73.74886717\n"
     ]
    },
    {
     "name": "stderr",
     "output_type": "stream",
     "text": [
      "\r",
      " 97%|█████████████████████████████████████████▌ | 28/29 [00:33<00:01,  1.05s/it]"
     ]
    },
    {
     "name": "stdout",
     "output_type": "stream",
     "text": [
      "AM.RF6E7.00.EHZ failed to download. Continuing..\n",
      "10.0 19.8403 -71.0541 18.30630631 -66.07594445\n"
     ]
    },
    {
     "name": "stderr",
     "output_type": "stream",
     "text": [
      "100%|███████████████████████████████████████████| 29/29 [00:34<00:00,  1.18s/it]"
     ]
    },
    {
     "name": "stdout",
     "output_type": "stream",
     "text": [
      "AM.S4051.00.EHZ failed to download. Continuing..\n",
      "rPtime =  60.0\n",
      "Trace SNR =  0.9988483342056109 1\n",
      "Trace SNR =  3.011966896937644 2\n",
      "Trace SNR =  1.4487942656060238 3\n"
     ]
    },
    {
     "name": "stderr",
     "output_type": "stream",
     "text": [
      "\n"
     ]
    },
    {
     "name": "stdout",
     "output_type": "stream",
     "text": [
      "Trace SNR =  0.4467124873343601 4\n",
      "Trace SNR =  4.0209988930141884 5\n",
      "Trace SNR =  54.329605214585996 6\n",
      "Trace SNR =  3.852791116392495 7\n",
      "Trace SNR =  2737.439212589783 8\n",
      "Trace SNR =  94.01387825148073 9\n",
      "Trace SNR =  0.9099750535849694 10\n",
      "Trace SNR =  0.8429747977000769 11\n",
      "Trace SNR =  16.831395621403068 12\n",
      "4  of  12 traces were kept above SNR threshold 5.0\n",
      "writing  /Users/hkunwer/Documents/research/EQenergy/events/2021/2021022200RS/RS/pkls/Params_2021022200RS.pkl \n",
      " /Users/hkunwer/Documents/research/EQenergy/events/2021/2021022200RS/RS/Params_2021022200RS.csv\n",
      "writing  /Users/hkunwer/Documents/research/EQenergy/events/2021/2021022200RS/RS/pkls/Wavestream-raw_2021022200RS.pkl\n",
      "Completed getwaves\n",
      "Completed: instrument response removal and taper, data returned as Velocity\n",
      "Completed: frequency band filtering\n",
      "More than 1 trace detected, continuing\n",
      "Completed: normalization\n",
      "Completed: Loading existing dataframe\n",
      "Completed: Appended data to near_field_df.pkl\n",
      "\n",
      "\n",
      "2021020300RS ===============================\n",
      "SNR = 5.0\n",
      "ERROR:  coudn't move directory to  /Users/hkunwer/Documents/research/EQenergy/events/2021/2021020300RS/RS.bak\n",
      "Error:  Couldn't create directory:  /Users/hkunwer/Documents/research/EQenergy/events/2021/2021020300RS/RS\n",
      "Checking for stations available within range from IRIS\n"
     ]
    },
    {
     "name": "stderr",
     "output_type": "stream",
     "text": [
      "/Users/hkunwer/Documents/research/EQenergy/Wiggles/Attenuation/AttenuationFunctionsTesting.py:221: FutureWarning: The frame.append method is deprecated and will be removed from pandas in a future version. Use pandas.concat instead.\n",
      "  combined_dataframe = existing_dataframe.append(dataframe, ignore_index=True)\n"
     ]
    },
    {
     "name": "stdout",
     "output_type": "stream",
     "text": [
      "Getting waves from RASPISHAKE\n"
     ]
    },
    {
     "name": "stderr",
     "output_type": "stream",
     "text": [
      "\r",
      "  0%|                                                    | 0/30 [00:00<?, ?it/s]"
     ]
    },
    {
     "name": "stdout",
     "output_type": "stream",
     "text": [
      "8.0 19.0905 -68.8785 18.12612613 -67.10740855\n"
     ]
    },
    {
     "name": "stderr",
     "output_type": "stream",
     "text": [
      "\r",
      "  3%|█▍                                          | 1/30 [00:01<00:40,  1.41s/it]"
     ]
    },
    {
     "name": "stdout",
     "output_type": "stream",
     "text": [
      "8.0 19.0905 -68.8785 18.36036036 -66.17991466\n"
     ]
    },
    {
     "name": "stderr",
     "output_type": "stream",
     "text": [
      "\r",
      "  7%|██▉                                         | 2/30 [00:02<00:41,  1.48s/it]"
     ]
    },
    {
     "name": "stdout",
     "output_type": "stream",
     "text": [
      "8.0 19.0905 -68.8785 18.45945946 -66.34149666\n"
     ]
    },
    {
     "name": "stderr",
     "output_type": "stream",
     "text": [
      "\r",
      " 10%|████▍                                       | 3/30 [00:04<00:37,  1.39s/it]"
     ]
    },
    {
     "name": "stdout",
     "output_type": "stream",
     "text": [
      "8.0 19.0905 -68.8785 15.33333333 -61.3280325\n"
     ]
    },
    {
     "name": "stderr",
     "output_type": "stream",
     "text": [
      "\r",
      " 13%|█████▊                                      | 4/30 [00:05<00:37,  1.43s/it]"
     ]
    },
    {
     "name": "stdout",
     "output_type": "stream",
     "text": [
      "8.0 19.0905 -68.8785 18.44144144 -66.00258091\n"
     ]
    },
    {
     "name": "stderr",
     "output_type": "stream",
     "text": [
      "\r",
      " 17%|███████▎                                    | 5/30 [00:07<00:36,  1.46s/it]"
     ]
    },
    {
     "name": "stdout",
     "output_type": "stream",
     "text": [
      "8.0 19.0905 -68.8785 18.01801802 -66.83860199\n"
     ]
    },
    {
     "name": "stderr",
     "output_type": "stream",
     "text": [
      "\r",
      " 20%|████████▊                                   | 6/30 [00:08<00:34,  1.45s/it]"
     ]
    },
    {
     "name": "stdout",
     "output_type": "stream",
     "text": [
      "8.0 19.0905 -68.8785 18.22522523 -73.61282146\n"
     ]
    },
    {
     "name": "stderr",
     "output_type": "stream",
     "text": [
      "\r",
      " 23%|██████████▎                                 | 7/30 [00:10<00:33,  1.47s/it]"
     ]
    },
    {
     "name": "stdout",
     "output_type": "stream",
     "text": [
      "8.0 19.0905 -68.8785 15.20720721 -61.35828614\n"
     ]
    },
    {
     "name": "stderr",
     "output_type": "stream",
     "text": [
      "\r",
      " 27%|███████████▋                                | 8/30 [00:11<00:31,  1.45s/it]"
     ]
    },
    {
     "name": "stdout",
     "output_type": "stream",
     "text": [
      "8.0 19.0905 -68.8785 18.35135135 -64.93597952\n"
     ]
    },
    {
     "name": "stderr",
     "output_type": "stream",
     "text": [
      "\r",
      " 30%|█████████████▏                              | 9/30 [00:12<00:27,  1.31s/it]"
     ]
    },
    {
     "name": "stdout",
     "output_type": "stream",
     "text": [
      "AM.R7078.00.EHZ failed to download. Continuing..\n",
      "8.0 19.0905 -68.8785 18.5045045 -73.34156397\n"
     ]
    },
    {
     "name": "stderr",
     "output_type": "stream",
     "text": [
      "\r",
      " 33%|██████████████▎                            | 10/30 [00:13<00:24,  1.21s/it]"
     ]
    },
    {
     "name": "stdout",
     "output_type": "stream",
     "text": [
      "AM.R73EC.00.EHZ failed to download. Continuing..\n",
      "8.0 19.0905 -68.8785 18.45945946 -67.11405725\n"
     ]
    },
    {
     "name": "stderr",
     "output_type": "stream",
     "text": [
      "\r",
      " 37%|███████████████▊                           | 11/30 [00:14<00:21,  1.14s/it]"
     ]
    },
    {
     "name": "stdout",
     "output_type": "stream",
     "text": [
      "AM.R804D.00.EHZ failed to download. Continuing..\n",
      "8.0 19.0905 -68.8785 15.58558559 -61.44984519\n"
     ]
    },
    {
     "name": "stderr",
     "output_type": "stream",
     "text": [
      "\r",
      " 40%|█████████████████▏                         | 12/30 [00:15<00:19,  1.10s/it]"
     ]
    },
    {
     "name": "stdout",
     "output_type": "stream",
     "text": [
      "AM.R8282.00.EHZ failed to download. Continuing..\n",
      "8.0 19.0905 -68.8785 18.23423423 -72.52555277\n"
     ]
    },
    {
     "name": "stderr",
     "output_type": "stream",
     "text": [
      "\r",
      " 43%|██████████████████▋                        | 13/30 [00:16<00:18,  1.07s/it]"
     ]
    },
    {
     "name": "stdout",
     "output_type": "stream",
     "text": [
      "AM.R897D.00.EHZ failed to download. Continuing..\n",
      "8.0 19.0905 -68.8785 19.45045045 -72.66268818\n"
     ]
    },
    {
     "name": "stderr",
     "output_type": "stream",
     "text": [
      "\r",
      " 47%|████████████████████                       | 14/30 [00:17<00:16,  1.05s/it]"
     ]
    },
    {
     "name": "stdout",
     "output_type": "stream",
     "text": [
      "AM.RA7D0.00.EHZ failed to download. Continuing..\n",
      "8.0 19.0905 -68.8785 18.43243243 -66.05875416\n"
     ]
    },
    {
     "name": "stderr",
     "output_type": "stream",
     "text": [
      "\r",
      " 50%|█████████████████████▌                     | 15/30 [00:18<00:15,  1.03s/it]"
     ]
    },
    {
     "name": "stdout",
     "output_type": "stream",
     "text": [
      "AM.RA906.00.EHZ failed to download. Continuing..\n",
      "8.0 19.0905 -68.8785 18.40540541 -66.06545422\n"
     ]
    },
    {
     "name": "stderr",
     "output_type": "stream",
     "text": [
      "\r",
      " 53%|██████████████████████▉                    | 16/30 [00:19<00:14,  1.02s/it]"
     ]
    },
    {
     "name": "stdout",
     "output_type": "stream",
     "text": [
      "AM.RA9CF.00.EHZ failed to download. Continuing..\n",
      "8.0 19.0905 -68.8785 18.52252252 -72.31656731\n"
     ]
    },
    {
     "name": "stderr",
     "output_type": "stream",
     "text": [
      "\r",
      " 57%|████████████████████████▎                  | 17/30 [00:20<00:14,  1.14s/it]"
     ]
    },
    {
     "name": "stdout",
     "output_type": "stream",
     "text": [
      "8.0 19.0905 -68.8785 17.99099099 -66.61079735\n"
     ]
    },
    {
     "name": "stderr",
     "output_type": "stream",
     "text": [
      "\r",
      " 60%|█████████████████████████▊                 | 18/30 [00:21<00:13,  1.09s/it]"
     ]
    },
    {
     "name": "stdout",
     "output_type": "stream",
     "text": [
      "AM.RCCD1.00.EHZ failed to download. Continuing..\n",
      "8.0 19.0905 -68.8785 18.08108108 -67.03136089\n"
     ]
    },
    {
     "name": "stderr",
     "output_type": "stream",
     "text": [
      "\r",
      " 63%|███████████████████████████▏               | 19/30 [00:23<00:13,  1.20s/it]"
     ]
    },
    {
     "name": "stdout",
     "output_type": "stream",
     "text": [
      "8.0 19.0905 -68.8785 19.77477477 -72.22637702\n"
     ]
    },
    {
     "name": "stderr",
     "output_type": "stream",
     "text": [
      "\r",
      " 67%|████████████████████████████▋              | 20/30 [00:24<00:11,  1.16s/it]"
     ]
    },
    {
     "name": "stdout",
     "output_type": "stream",
     "text": [
      "AM.RD269.00.EHZ failed to download. Continuing..\n",
      "8.0 19.0905 -68.8785 18.1981982 -71.1000091\n"
     ]
    },
    {
     "name": "stderr",
     "output_type": "stream",
     "text": [
      "\r",
      " 70%|██████████████████████████████             | 21/30 [00:25<00:10,  1.14s/it]"
     ]
    },
    {
     "name": "stdout",
     "output_type": "stream",
     "text": [
      "AM.RD4D8.00.EHZ failed to download. Continuing..\n",
      "8.0 19.0905 -68.8785 18.27927928 -66.33100902\n"
     ]
    },
    {
     "name": "stderr",
     "output_type": "stream",
     "text": [
      "\r",
      " 73%|███████████████████████████████▌           | 22/30 [00:26<00:09,  1.14s/it]"
     ]
    },
    {
     "name": "stdout",
     "output_type": "stream",
     "text": [
      "8.0 19.0905 -68.8785 18.35135135 -66.11274136\n"
     ]
    },
    {
     "name": "stderr",
     "output_type": "stream",
     "text": [
      "\r",
      " 77%|████████████████████████████████▉          | 23/30 [00:27<00:07,  1.10s/it]"
     ]
    },
    {
     "name": "stdout",
     "output_type": "stream",
     "text": [
      "AM.RE1CC.00.EHZ failed to download. Continuing..\n",
      "8.0 19.0905 -68.8785 18.44144144 -67.15317602\n"
     ]
    },
    {
     "name": "stderr",
     "output_type": "stream",
     "text": [
      "\r",
      " 80%|██████████████████████████████████▍        | 24/30 [00:28<00:06,  1.07s/it]"
     ]
    },
    {
     "name": "stdout",
     "output_type": "stream",
     "text": [
      "AM.REA26.00.EHZ failed to download. Continuing..\n",
      "8.0 19.0905 -68.8785 19.45945946 -72.66716953\n"
     ]
    },
    {
     "name": "stderr",
     "output_type": "stream",
     "text": [
      "\r",
      " 83%|███████████████████████████████████▊       | 25/30 [00:29<00:05,  1.04s/it]"
     ]
    },
    {
     "name": "stdout",
     "output_type": "stream",
     "text": [
      "AM.REF37.00.EHZ failed to download. Continuing..\n",
      "8.0 19.0905 -68.8785 15.38738739 -61.39128493\n"
     ]
    },
    {
     "name": "stderr",
     "output_type": "stream",
     "text": [
      "\r",
      " 87%|█████████████████████████████████████▎     | 26/30 [00:30<00:04,  1.11s/it]"
     ]
    },
    {
     "name": "stdout",
     "output_type": "stream",
     "text": [
      "8.0 19.0905 -68.8785 18.30630631 -66.07594445\n"
     ]
    },
    {
     "name": "stderr",
     "output_type": "stream",
     "text": [
      "\r",
      " 90%|██████████████████████████████████████▋    | 27/30 [00:31<00:03,  1.08s/it]"
     ]
    },
    {
     "name": "stdout",
     "output_type": "stream",
     "text": [
      "AM.S4051.00.EHZ failed to download. Continuing..\n",
      "8.0 19.0905 -68.8785 15.57657658 -61.45545894\n"
     ]
    },
    {
     "name": "stderr",
     "output_type": "stream",
     "text": [
      "\r",
      " 93%|████████████████████████████████████████▏  | 28/30 [00:32<00:02,  1.06s/it]"
     ]
    },
    {
     "name": "stdout",
     "output_type": "stream",
     "text": [
      "AM.S4E13.00.EHZ failed to download. Continuing..\n",
      "8.0 19.0905 -68.8785 18.08108108 -67.04209886\n"
     ]
    },
    {
     "name": "stderr",
     "output_type": "stream",
     "text": [
      "\r",
      " 97%|█████████████████████████████████████████▌ | 29/30 [00:33<00:01,  1.03s/it]"
     ]
    },
    {
     "name": "stdout",
     "output_type": "stream",
     "text": [
      "AM.S897D.00.EHZ failed to download. Continuing..\n",
      "8.0 19.0905 -68.8785 15.57657658 -61.45542903\n"
     ]
    },
    {
     "name": "stderr",
     "output_type": "stream",
     "text": [
      "100%|███████████████████████████████████████████| 30/30 [00:34<00:00,  1.16s/it]"
     ]
    },
    {
     "name": "stdout",
     "output_type": "stream",
     "text": [
      "AM.SB2BC.00.EHZ failed to download. Continuing..\n",
      "rPtime =  60.0\n",
      "Trace SNR =  2.9775179641973524 1\n",
      "Trace SNR =  1.7392881487553036 2\n",
      "Trace SNR =  5.309603019715771 3\n"
     ]
    },
    {
     "name": "stderr",
     "output_type": "stream",
     "text": [
      "\n"
     ]
    },
    {
     "name": "stdout",
     "output_type": "stream",
     "text": [
      "Trace SNR =  15.846335890647708 4\n",
      "Trace SNR =  0.9481023841597421 5\n",
      "Trace SNR =  29.957182294408394 6\n",
      "Trace SNR =  1.3582598807082094 7\n",
      "Trace SNR =  1.0794565288195308 8\n",
      "Trace SNR =  2.424481313551961 9\n",
      "Trace SNR =  10.268598139949917 10\n",
      "Trace SNR =  1.0014204856422255 11\n",
      "Trace SNR =  0.8866243513231864 12\n",
      "4  of  12 traces were kept above SNR threshold 5.0\n",
      "writing  /Users/hkunwer/Documents/research/EQenergy/events/2021/2021020300RS/RS/pkls/Params_2021020300RS.pkl \n",
      " /Users/hkunwer/Documents/research/EQenergy/events/2021/2021020300RS/RS/Params_2021020300RS.csv\n",
      "writing  /Users/hkunwer/Documents/research/EQenergy/events/2021/2021020300RS/RS/pkls/Wavestream-raw_2021020300RS.pkl\n",
      "Completed getwaves\n",
      "Completed: instrument response removal and taper, data returned as Velocity\n",
      "Completed: frequency band filtering\n",
      "More than 1 trace detected, continuing\n",
      "Completed: normalization\n",
      "Completed: Loading existing dataframe\n",
      "Completed: Appended data to near_field_df.pkl\n",
      "\n",
      "\n",
      "2021011200RS ===============================\n",
      "SNR = 5.0\n",
      "ERROR:  coudn't move directory to  /Users/hkunwer/Documents/research/EQenergy/events/2021/2021011200RS/RS.bak\n",
      "Error:  Couldn't create directory:  /Users/hkunwer/Documents/research/EQenergy/events/2021/2021011200RS/RS\n",
      "Checking for stations available within range from IRIS\n"
     ]
    },
    {
     "name": "stderr",
     "output_type": "stream",
     "text": [
      "/Users/hkunwer/Documents/research/EQenergy/Wiggles/Attenuation/AttenuationFunctionsTesting.py:221: FutureWarning: The frame.append method is deprecated and will be removed from pandas in a future version. Use pandas.concat instead.\n",
      "  combined_dataframe = existing_dataframe.append(dataframe, ignore_index=True)\n"
     ]
    },
    {
     "name": "stdout",
     "output_type": "stream",
     "text": [
      "Getting waves from RASPISHAKE\n"
     ]
    },
    {
     "name": "stderr",
     "output_type": "stream",
     "text": [
      "\r",
      "  0%|                                                    | 0/22 [00:00<?, ?it/s]"
     ]
    },
    {
     "name": "stdout",
     "output_type": "stream",
     "text": [
      "14.17 16.5221 -72.0398 18.12612613 -67.10740855\n"
     ]
    },
    {
     "name": "stderr",
     "output_type": "stream",
     "text": [
      "\r",
      "  5%|██                                          | 1/22 [00:01<00:29,  1.40s/it]"
     ]
    },
    {
     "name": "stdout",
     "output_type": "stream",
     "text": [
      "14.17 16.5221 -72.0398 16.73873874 -62.22459513\n"
     ]
    },
    {
     "name": "stderr",
     "output_type": "stream",
     "text": [
      "\r",
      "  9%|████                                        | 2/22 [00:02<00:22,  1.12s/it]"
     ]
    },
    {
     "name": "stdout",
     "output_type": "stream",
     "text": [
      "AM.R31B9.00.EHZ failed to download. Continuing..\n",
      "14.17 16.5221 -72.0398 18.45945946 -66.34149666\n"
     ]
    },
    {
     "name": "stderr",
     "output_type": "stream",
     "text": [
      "\r",
      " 14%|██████                                      | 3/22 [00:03<00:23,  1.21s/it]"
     ]
    },
    {
     "name": "stdout",
     "output_type": "stream",
     "text": [
      "14.17 16.5221 -72.0398 18.44144144 -66.00258091\n"
     ]
    },
    {
     "name": "stderr",
     "output_type": "stream",
     "text": [
      "\r",
      " 18%|████████                                    | 4/22 [00:05<00:24,  1.35s/it]"
     ]
    },
    {
     "name": "stdout",
     "output_type": "stream",
     "text": [
      "14.17 16.5221 -72.0398 18.01801802 -66.83860199\n"
     ]
    },
    {
     "name": "stderr",
     "output_type": "stream",
     "text": [
      "\r",
      " 23%|██████████                                  | 5/22 [00:06<00:23,  1.36s/it]"
     ]
    },
    {
     "name": "stdout",
     "output_type": "stream",
     "text": [
      "14.17 16.5221 -72.0398 18.22522523 -73.61282146\n"
     ]
    },
    {
     "name": "stderr",
     "output_type": "stream",
     "text": [
      "\r",
      " 27%|████████████                                | 6/22 [00:07<00:21,  1.36s/it]"
     ]
    },
    {
     "name": "stdout",
     "output_type": "stream",
     "text": [
      "14.17 16.5221 -72.0398 19.31531532 -72.1236704\n"
     ]
    },
    {
     "name": "stderr",
     "output_type": "stream",
     "text": [
      "\r",
      " 32%|██████████████                              | 7/22 [00:08<00:18,  1.24s/it]"
     ]
    },
    {
     "name": "stdout",
     "output_type": "stream",
     "text": [
      "AM.R595E.00.EHZ failed to download. Continuing..\n",
      "14.17 16.5221 -72.0398 18.35135135 -64.93597952\n"
     ]
    },
    {
     "name": "stderr",
     "output_type": "stream",
     "text": [
      "\r",
      " 36%|████████████████                            | 8/22 [00:09<00:16,  1.17s/it]"
     ]
    },
    {
     "name": "stdout",
     "output_type": "stream",
     "text": [
      "AM.R7078.00.EHZ failed to download. Continuing..\n",
      "14.17 16.5221 -72.0398 18.5045045 -73.34156397\n"
     ]
    },
    {
     "name": "stderr",
     "output_type": "stream",
     "text": [
      "\r",
      " 41%|██████████████████                          | 9/22 [00:10<00:14,  1.11s/it]"
     ]
    },
    {
     "name": "stdout",
     "output_type": "stream",
     "text": [
      "AM.R73EC.00.EHZ failed to download. Continuing..\n",
      "14.17 16.5221 -72.0398 18.45945946 -67.11405725\n"
     ]
    },
    {
     "name": "stderr",
     "output_type": "stream",
     "text": [
      "\r",
      " 45%|███████████████████▌                       | 10/22 [00:11<00:12,  1.06s/it]"
     ]
    },
    {
     "name": "stdout",
     "output_type": "stream",
     "text": [
      "AM.R804D.00.EHZ failed to download. Continuing..\n",
      "14.17 16.5221 -72.0398 18.23423423 -72.52555277\n"
     ]
    },
    {
     "name": "stderr",
     "output_type": "stream",
     "text": [
      "\r",
      " 50%|█████████████████████▌                     | 11/22 [00:12<00:11,  1.04s/it]"
     ]
    },
    {
     "name": "stdout",
     "output_type": "stream",
     "text": [
      "AM.R897D.00.EHZ failed to download. Continuing..\n",
      "14.17 16.5221 -72.0398 6.63963964 -73.21240002\n"
     ]
    },
    {
     "name": "stderr",
     "output_type": "stream",
     "text": [
      "\r",
      " 55%|███████████████████████▍                   | 12/22 [00:14<00:11,  1.11s/it]"
     ]
    },
    {
     "name": "stdout",
     "output_type": "stream",
     "text": [
      "14.17 16.5221 -72.0398 18.43243243 -66.05875416\n"
     ]
    },
    {
     "name": "stderr",
     "output_type": "stream",
     "text": [
      "\r",
      " 59%|█████████████████████████▍                 | 13/22 [00:15<00:09,  1.08s/it]"
     ]
    },
    {
     "name": "stdout",
     "output_type": "stream",
     "text": [
      "AM.RA906.00.EHZ failed to download. Continuing..\n",
      "14.17 16.5221 -72.0398 17.99099099 -66.61079735\n"
     ]
    },
    {
     "name": "stderr",
     "output_type": "stream",
     "text": [
      "\r",
      " 64%|███████████████████████████▎               | 14/22 [00:16<00:09,  1.24s/it]"
     ]
    },
    {
     "name": "stdout",
     "output_type": "stream",
     "text": [
      "14.17 16.5221 -72.0398 18.08108108 -67.03136089\n"
     ]
    },
    {
     "name": "stderr",
     "output_type": "stream",
     "text": [
      "\r",
      " 68%|█████████████████████████████▎             | 15/22 [00:18<00:09,  1.33s/it]"
     ]
    },
    {
     "name": "stdout",
     "output_type": "stream",
     "text": [
      "14.17 16.5221 -72.0398 19.77477477 -72.22637702\n"
     ]
    },
    {
     "name": "stderr",
     "output_type": "stream",
     "text": [
      "\r",
      " 73%|███████████████████████████████▎           | 16/22 [00:19<00:07,  1.24s/it]"
     ]
    },
    {
     "name": "stdout",
     "output_type": "stream",
     "text": [
      "AM.RD269.00.EHZ failed to download. Continuing..\n",
      "14.17 16.5221 -72.0398 18.1981982 -71.1000091\n"
     ]
    },
    {
     "name": "stderr",
     "output_type": "stream",
     "text": [
      "\r",
      " 77%|█████████████████████████████████▏         | 17/22 [00:20<00:06,  1.32s/it]"
     ]
    },
    {
     "name": "stdout",
     "output_type": "stream",
     "text": [
      "14.17 16.5221 -72.0398 18.27927928 -66.33100902\n"
     ]
    },
    {
     "name": "stderr",
     "output_type": "stream",
     "text": [
      "\r",
      " 82%|███████████████████████████████████▏       | 18/22 [00:21<00:05,  1.27s/it]"
     ]
    },
    {
     "name": "stdout",
     "output_type": "stream",
     "text": [
      "14.17 16.5221 -72.0398 18.35135135 -66.11274136\n"
     ]
    },
    {
     "name": "stderr",
     "output_type": "stream",
     "text": [
      "\r",
      " 86%|█████████████████████████████████████▏     | 19/22 [00:22<00:03,  1.19s/it]"
     ]
    },
    {
     "name": "stdout",
     "output_type": "stream",
     "text": [
      "AM.RE1CC.00.EHZ failed to download. Continuing..\n",
      "14.17 16.5221 -72.0398 18.44144144 -67.15317602\n"
     ]
    },
    {
     "name": "stderr",
     "output_type": "stream",
     "text": [
      "\r",
      " 91%|███████████████████████████████████████    | 20/22 [00:24<00:02,  1.14s/it]"
     ]
    },
    {
     "name": "stdout",
     "output_type": "stream",
     "text": [
      "AM.REA26.00.EHZ failed to download. Continuing..\n",
      "14.17 16.5221 -72.0398 18.30630631 -66.07594445\n"
     ]
    },
    {
     "name": "stderr",
     "output_type": "stream",
     "text": [
      "\r",
      " 95%|█████████████████████████████████████████  | 21/22 [00:25<00:01,  1.10s/it]"
     ]
    },
    {
     "name": "stdout",
     "output_type": "stream",
     "text": [
      "AM.S4051.00.EHZ failed to download. Continuing..\n",
      "14.17 16.5221 -72.0398 18.08108108 -67.04209886\n"
     ]
    },
    {
     "name": "stderr",
     "output_type": "stream",
     "text": [
      "100%|███████████████████████████████████████████| 22/22 [00:26<00:00,  1.19s/it]"
     ]
    },
    {
     "name": "stdout",
     "output_type": "stream",
     "text": [
      "AM.S897D.00.EHZ failed to download. Continuing..\n",
      "rPtime =  60.0\n",
      "Trace SNR =  1.7491058950772778 1\n",
      "Trace SNR =  1.2213757847460105 2\n"
     ]
    },
    {
     "name": "stderr",
     "output_type": "stream",
     "text": [
      "\n"
     ]
    },
    {
     "name": "stdout",
     "output_type": "stream",
     "text": [
      "Trace SNR =  0.5151427677808238 3\n",
      "Trace SNR =  2.457621585822745 4\n",
      "Trace SNR =  203.40768002566767 5\n",
      "Trace SNR =  1.4878600865115472 6\n",
      "Trace SNR =  0.6095284281065845 7\n",
      "Trace SNR =  0.8178855262648593 8\n",
      "Trace SNR =  563.1946786603258 9\n",
      "Trace SNR =  0.227810505034302 10\n",
      "2  of  10 traces were kept above SNR threshold 5.0\n",
      "writing  /Users/hkunwer/Documents/research/EQenergy/events/2021/2021011200RS/RS/pkls/Params_2021011200RS.pkl \n",
      " /Users/hkunwer/Documents/research/EQenergy/events/2021/2021011200RS/RS/Params_2021011200RS.csv\n",
      "writing  /Users/hkunwer/Documents/research/EQenergy/events/2021/2021011200RS/RS/pkls/Wavestream-raw_2021011200RS.pkl\n",
      "Completed getwaves\n",
      "Completed: instrument response removal and taper, data returned as Velocity\n",
      "Completed: frequency band filtering\n",
      "More than 1 trace detected, continuing\n",
      "Completed: normalization\n",
      "Completed: Loading existing dataframe\n",
      "Completed: Appended data to near_field_df.pkl\n"
     ]
    },
    {
     "name": "stderr",
     "output_type": "stream",
     "text": [
      "/Users/hkunwer/Documents/research/EQenergy/Wiggles/Attenuation/AttenuationFunctionsTesting.py:221: FutureWarning: The frame.append method is deprecated and will be removed from pandas in a future version. Use pandas.concat instead.\n",
      "  combined_dataframe = existing_dataframe.append(dataframe, ignore_index=True)\n"
     ]
    }
   ],
   "source": [
    "# Processing and Reading information about event stored in ANSS_data.txt\n",
    "Defaults = defaults()\n",
    "Event = event()\n",
    "Defaults.src='RASPISHAKE'\n",
    "Defaults.network='AM'\n",
    "Defaults.chan= 'EHZ'\n",
    "Defaults.stationrange=[0.5,10.0]\n",
    "Event.ecount='00'\n",
    "Event.newData = False  # False means use already downloaded data\n",
    "edateold=\"\"\n",
    "\n",
    "#ANSS = processANSStxt() #If you have raw ANSS list, process with this\n",
    "ANSS = pd.read_csv('ANSS_processed_data.csv')\n",
    "check_existing_dataframe() # Check if pkl file exists to add new results too, create new one if not accessible.\n",
    "\n",
    "for index, EQ in ANSS.iterrows(): #organizing data to use details\n",
    "    rads = Defaults.stationrange\n",
    "    eloc = [EQ.Latitude,EQ.Longitude,EQ.Depth] \n",
    "    MagType = [EQ.Mtype]\n",
    "    MagValue = [EQ.Mag]\n",
    "    Magnitude = [MagType, MagValue]\n",
    "    year,mo,dy = EQ.Date.split('-')\n",
    "    hh,mn,sec = EQ.Time.split(':')\n",
    "    etime=(UTCDateTime(int(year),int(mo),int(dy),int(hh),int(mn),float(sec)))\n",
    "    #print(etime)\n",
    "    \n",
    "    if EQ.Date == edateold:\n",
    "        Event.ecount=str(int(Event.ecount)+1).zfill(2)\n",
    "    else:\n",
    "        Event.ecount='00'\n",
    "        \n",
    "    if Defaults.src == 'RASPISHAKE':\n",
    "        Event.iter = 'RS'\n",
    "\n",
    "    else: \n",
    "        Event.iter = 'IRIS'\n",
    "        \n",
    "    edateold = EQ.Date\n",
    "    Event.eventname=etime2name(etime,ecount=Event.ecount)+Event.iter\n",
    "    Event.origin=[eloc,etime]\n",
    "    #print(Event.origin)\n",
    "    \n",
    "    print(\"\\n\\n\"+Event.eventname+\" ===============================\")\n",
    "    \n",
    "    st, df = [], []\n",
    "    try:\n",
    "        st, df = getwaves(Defaults, Event)\n",
    "        print(\"Completed getwaves\")\n",
    "        stp = filteringst(st) \n",
    "        maxamp_calc_freq_bands(stp, EQ, Defaults, etime, eloc)\n",
    "    except:\n",
    "        print(\"ERROR: \"+Event.eventname+\" could not complete getwaves\") "
   ]
  },
  {
   "cell_type": "code",
   "execution_count": null,
   "id": "ac25aa7a",
   "metadata": {},
   "outputs": [],
   "source": []
  }
 ],
 "metadata": {
  "kernelspec": {
   "display_name": "Python 3 (ipykernel)",
   "language": "python",
   "name": "python3"
  },
  "language_info": {
   "codemirror_mode": {
    "name": "ipython",
    "version": 3
   },
   "file_extension": ".py",
   "mimetype": "text/x-python",
   "name": "python",
   "nbconvert_exporter": "python",
   "pygments_lexer": "ipython3",
   "version": "3.11.0"
  }
 },
 "nbformat": 4,
 "nbformat_minor": 5
}
