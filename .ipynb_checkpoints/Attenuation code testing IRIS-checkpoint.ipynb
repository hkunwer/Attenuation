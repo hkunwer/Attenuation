{
 "cells": [
  {
   "cell_type": "code",
   "execution_count": 1,
   "id": "b3b54fd1",
   "metadata": {},
   "outputs": [],
   "source": [
    "#obspy\n",
    "from obspy import UTCDateTime\n",
    "from obspy.taup import TauPyModel\n",
    "model = TauPyModel(model=\"iasp91\")\n",
    "#rtergpy (Andy's code)\n",
    "from rtergpy.run import defaults, event, etime2name\n",
    "from rtergpy.waveforms import getwaves, get_respinv\n",
    "#attenuation (Hiba's code)\n",
    "from AttenuationFunctions import processANSS, filtering, maxamp_calc, organize_data, maxamp_plot"
   ]
  },
  {
   "cell_type": "code",
   "execution_count": 2,
   "id": "1133cca3",
   "metadata": {
    "scrolled": false
   },
   "outputs": [
    {
     "name": "stdout",
     "output_type": "stream",
     "text": [
      "\n",
      "\n",
      "2022012400 ===============================\n",
      "ERROR:  coudn't move directory to  /Users/hkunwer/Documents/research/EQenergy/events/2022/2022012400/IRIS.bak\n",
      "Error:  Couldn't create directory:  /Users/hkunwer/Documents/research/EQenergy/events/2022/2022012400/IRIS\n",
      "Checking for stations available within range from IRIS\n",
      "Getting waves from IRIS\n"
     ]
    },
    {
     "name": "stderr",
     "output_type": "stream",
     "text": [
      "\r",
      "  0%|                                                    | 0/80 [00:00<?, ?it/s]"
     ]
    },
    {
     "name": "stdout",
     "output_type": "stream",
     "text": [
      "10.0 18.4578 -73.3389 13.376167 -81.3635\n"
     ]
    },
    {
     "name": "stderr",
     "output_type": "stream",
     "text": [
      "\r",
      "  1%|▌                                           | 1/80 [00:01<02:01,  1.54s/it]"
     ]
    },
    {
     "name": "stdout",
     "output_type": "stream",
     "text": [
      "10.0 18.4578 -73.3389 9.896667 -75.1795\n"
     ]
    },
    {
     "name": "stderr",
     "output_type": "stream",
     "text": [
      "\r",
      "  2%|█                                           | 2/80 [00:02<01:44,  1.34s/it]"
     ]
    },
    {
     "name": "stdout",
     "output_type": "stream",
     "text": [
      "10.0 18.4578 -73.3389 11.163833 -74.2245\n"
     ]
    },
    {
     "name": "stderr",
     "output_type": "stream",
     "text": [
      "\r",
      "  4%|█▋                                          | 3/80 [00:03<01:21,  1.06s/it]"
     ]
    },
    {
     "name": "stdout",
     "output_type": "stream",
     "text": [
      "10.0 18.4578 -73.3389 11.702 -71.993\n"
     ]
    },
    {
     "name": "stderr",
     "output_type": "stream",
     "text": [
      "\r",
      "  5%|██▏                                         | 4/80 [00:04<01:23,  1.09s/it]"
     ]
    },
    {
     "name": "stdout",
     "output_type": "stream",
     "text": [
      "10.0 18.4578 -73.3389 21.51149 -71.1327\n"
     ]
    },
    {
     "name": "stderr",
     "output_type": "stream",
     "text": [
      "\r",
      "  6%|██▊                                         | 5/80 [00:05<01:24,  1.12s/it]"
     ]
    },
    {
     "name": "stdout",
     "output_type": "stream",
     "text": [
      "10.0 18.4578 -73.3389 19.9268 -75.1108\n"
     ]
    },
    {
     "name": "stderr",
     "output_type": "stream",
     "text": [
      "\r",
      "  8%|███▎                                        | 6/80 [00:06<01:19,  1.07s/it]"
     ]
    },
    {
     "name": "stdout",
     "output_type": "stream",
     "text": [
      "10.0 18.4578 -73.3389 18.22605 -77.53454\n"
     ]
    },
    {
     "name": "stderr",
     "output_type": "stream",
     "text": [
      "\r",
      "  9%|███▊                                        | 7/80 [00:07<01:18,  1.08s/it]"
     ]
    },
    {
     "name": "stdout",
     "output_type": "stream",
     "text": [
      "10.0 18.4578 -73.3389 18.9821 -71.2878\n"
     ]
    },
    {
     "name": "stderr",
     "output_type": "stream",
     "text": [
      "\r",
      " 10%|████▍                                       | 8/80 [00:08<01:16,  1.06s/it]"
     ]
    },
    {
     "name": "stdout",
     "output_type": "stream",
     "text": [
      "10.0 18.4578 -73.3389 19.4403 -70.681358\n"
     ]
    },
    {
     "name": "stderr",
     "output_type": "stream",
     "text": [
      "\r",
      " 11%|████▉                                       | 9/80 [00:09<01:02,  1.14it/s]"
     ]
    },
    {
     "name": "stdout",
     "output_type": "stream",
     "text": [
      "DR.PUCM..BHZ failed to download. Continuing..\n",
      "10.0 18.4578 -73.3389 19.4275 -70.7277\n"
     ]
    },
    {
     "name": "stderr",
     "output_type": "stream",
     "text": [
      "\r",
      " 12%|█████▍                                     | 10/80 [00:10<01:12,  1.03s/it]"
     ]
    },
    {
     "name": "stdout",
     "output_type": "stream",
     "text": [
      "10.0 18.4578 -73.3389 18.4632 -69.9169\n"
     ]
    },
    {
     "name": "stderr",
     "output_type": "stream",
     "text": [
      "\r",
      " 14%|█████▉                                     | 11/80 [00:11<01:08,  1.01it/s]"
     ]
    },
    {
     "name": "stdout",
     "output_type": "stream",
     "text": [
      "10.0 18.4578 -73.3389 8.8839 -70.634\n"
     ]
    },
    {
     "name": "stderr",
     "output_type": "stream",
     "text": [
      "\r",
      " 15%|██████▍                                    | 12/80 [00:13<01:16,  1.12s/it]"
     ]
    },
    {
     "name": "stdout",
     "output_type": "stream",
     "text": [
      "10.0 18.4578 -73.3389 8.8839 -70.634\n"
     ]
    },
    {
     "name": "stderr",
     "output_type": "stream",
     "text": [
      "\r",
      " 16%|██████▉                                    | 13/80 [00:14<01:22,  1.23s/it]"
     ]
    },
    {
     "name": "stdout",
     "output_type": "stream",
     "text": [
      "10.0 18.4578 -73.3389 18.1091 -66.15\n"
     ]
    },
    {
     "name": "stderr",
     "output_type": "stream",
     "text": [
      "\r",
      " 18%|███████▌                                   | 14/80 [00:16<01:27,  1.33s/it]"
     ]
    },
    {
     "name": "stdout",
     "output_type": "stream",
     "text": [
      "10.0 18.4578 -73.3389 18.1091 -66.15\n"
     ]
    },
    {
     "name": "stderr",
     "output_type": "stream",
     "text": [
      "\r",
      " 19%|████████                                   | 15/80 [00:17<01:20,  1.23s/it]"
     ]
    },
    {
     "name": "stdout",
     "output_type": "stream",
     "text": [
      "10.0 18.4578 -73.3389 17.620501 -63.242599\n"
     ]
    },
    {
     "name": "stderr",
     "output_type": "stream",
     "text": [
      "\r",
      " 20%|████████▌                                  | 16/80 [00:19<01:32,  1.44s/it]"
     ]
    },
    {
     "name": "stdout",
     "output_type": "stream",
     "text": [
      "10.0 18.4578 -73.3389 17.4928 -62.9814\n"
     ]
    },
    {
     "name": "stderr",
     "output_type": "stream",
     "text": [
      "\r",
      " 21%|█████████▏                                 | 17/80 [00:20<01:24,  1.35s/it]"
     ]
    },
    {
     "name": "stdout",
     "output_type": "stream",
     "text": [
      "10.0 18.4578 -73.3389 18.049999 -63.0746\n"
     ]
    },
    {
     "name": "stderr",
     "output_type": "stream",
     "text": [
      "\r",
      " 22%|█████████▋                                 | 18/80 [00:21<01:25,  1.38s/it]"
     ]
    },
    {
     "name": "stdout",
     "output_type": "stream",
     "text": [
      "10.0 18.4578 -73.3389 18.72961 -64.33254\n"
     ]
    },
    {
     "name": "stderr",
     "output_type": "stream",
     "text": [
      "\r",
      " 24%|██████████▏                                | 19/80 [00:22<01:15,  1.24s/it]"
     ]
    },
    {
     "name": "stdout",
     "output_type": "stream",
     "text": [
      "PR.ABVI..BHZ failed to download. Continuing..\n",
      "10.0 18.4578 -73.3389 12.505567 -70.010583\n"
     ]
    },
    {
     "name": "stderr",
     "output_type": "stream",
     "text": [
      "\r",
      " 25%|██████████▊                                | 20/80 [00:23<01:04,  1.08s/it]"
     ]
    },
    {
     "name": "stdout",
     "output_type": "stream",
     "text": [
      "PR.AUA1..BHZ failed to download. Continuing..\n",
      "10.0 18.4578 -73.3389 17.75222 -64.76472\n"
     ]
    },
    {
     "name": "stderr",
     "output_type": "stream",
     "text": [
      "\r",
      " 26%|███████████▎                               | 21/80 [00:23<00:57,  1.03it/s]"
     ]
    },
    {
     "name": "stdout",
     "output_type": "stream",
     "text": [
      "PR.CDVI..BHZ failed to download. Continuing..\n",
      "10.0 18.4578 -73.3389 18.326387 -65.300552\n"
     ]
    },
    {
     "name": "stderr",
     "output_type": "stream",
     "text": [
      "\r",
      " 28%|███████████▊                               | 22/80 [00:24<00:51,  1.12it/s]"
     ]
    },
    {
     "name": "stdout",
     "output_type": "stream",
     "text": [
      "PR.CULB..BHZ failed to download. Continuing..\n",
      "10.0 18.4578 -73.3389 18.31875 -66.36288\n"
     ]
    },
    {
     "name": "stderr",
     "output_type": "stream",
     "text": [
      "\r",
      " 29%|████████████▎                              | 23/80 [00:25<00:47,  1.19it/s]"
     ]
    },
    {
     "name": "stdout",
     "output_type": "stream",
     "text": [
      "PR.ECPR..BHZ failed to download. Continuing..\n",
      "10.0 18.4578 -73.3389 18.477098 -66.529495\n"
     ]
    },
    {
     "name": "stderr",
     "output_type": "stream",
     "text": [
      "\r",
      " 30%|████████████▉                              | 24/80 [00:26<00:48,  1.16it/s]"
     ]
    },
    {
     "name": "stdout",
     "output_type": "stream",
     "text": [
      "PR.EMPR..BHZ failed to download. Continuing..\n",
      "10.0 18.4578 -73.3389 17.893358 -66.520973\n"
     ]
    },
    {
     "name": "stderr",
     "output_type": "stream",
     "text": [
      "\r",
      " 31%|█████████████▍                             | 25/80 [00:27<00:45,  1.22it/s]"
     ]
    },
    {
     "name": "stdout",
     "output_type": "stream",
     "text": [
      "PR.ICM..BHZ failed to download. Continuing..\n",
      "10.0 18.4578 -73.3389 18.042798 -66.606233\n"
     ]
    },
    {
     "name": "stderr",
     "output_type": "stream",
     "text": [
      "\r",
      " 32%|█████████████▉                             | 26/80 [00:28<00:51,  1.04it/s]"
     ]
    },
    {
     "name": "stdout",
     "output_type": "stream",
     "text": [
      "10.0 18.4578 -73.3389 18.514463 -68.380977\n"
     ]
    },
    {
     "name": "stderr",
     "output_type": "stream",
     "text": [
      "\r",
      " 34%|██████████████▌                            | 27/80 [00:29<00:54,  1.02s/it]"
     ]
    },
    {
     "name": "stdout",
     "output_type": "stream",
     "text": [
      "10.0 18.4578 -73.3389 18.018099 -66.022209\n"
     ]
    },
    {
     "name": "stderr",
     "output_type": "stream",
     "text": [
      "\r",
      " 35%|███████████████                            | 28/80 [00:30<00:48,  1.07it/s]"
     ]
    },
    {
     "name": "stdout",
     "output_type": "stream",
     "text": [
      "PR.PDPR..BHZ failed to download. Continuing..\n",
      "10.0 18.4578 -73.3389 19.2898 -69.1882\n"
     ]
    },
    {
     "name": "stderr",
     "output_type": "stream",
     "text": [
      "\r",
      " 36%|███████████████▌                           | 29/80 [00:31<00:56,  1.10s/it]"
     ]
    },
    {
     "name": "stdout",
     "output_type": "stream",
     "text": [
      "10.0 18.4578 -73.3389 18.352395 -64.956494\n"
     ]
    },
    {
     "name": "stderr",
     "output_type": "stream",
     "text": [
      "\r",
      " 38%|████████████████▏                          | 30/80 [00:32<00:51,  1.02s/it]"
     ]
    },
    {
     "name": "stdout",
     "output_type": "stream",
     "text": [
      "PR.STVI..BHZ failed to download. Continuing..\n",
      "10.0 18.4578 -73.3389 18.490224 -64.402362\n"
     ]
    },
    {
     "name": "stderr",
     "output_type": "stream",
     "text": [
      "\r",
      " 39%|████████████████▋                          | 31/80 [00:33<00:45,  1.07it/s]"
     ]
    },
    {
     "name": "stdout",
     "output_type": "stream",
     "text": [
      "PR.VGBI..BHZ failed to download. Continuing..\n",
      "10.0 18.4578 -73.3389 18.490471 -64.402222\n"
     ]
    },
    {
     "name": "stderr",
     "output_type": "stream",
     "text": [
      "\r",
      " 40%|█████████████████▏                         | 32/80 [00:33<00:41,  1.17it/s]"
     ]
    },
    {
     "name": "stdout",
     "output_type": "stream",
     "text": [
      "PR.VGVI..BHZ failed to download. Continuing..\n",
      "10.0 18.4578 -73.3389 10.0128 -69.961098\n"
     ]
    },
    {
     "name": "stderr",
     "output_type": "stream",
     "text": [
      "\r",
      " 41%|█████████████████▋                         | 33/80 [00:34<00:37,  1.25it/s]"
     ]
    },
    {
     "name": "stdout",
     "output_type": "stream",
     "text": [
      "VE.CURV..BHZ failed to download. Continuing..\n",
      "10.0 18.4578 -73.3389 12.18033 -68.95787\n"
     ]
    },
    {
     "name": "stderr",
     "output_type": "stream",
     "text": [
      "\r",
      " 42%|██████████████████▎                        | 34/80 [00:35<00:41,  1.12it/s]"
     ]
    },
    {
     "name": "stdout",
     "output_type": "stream",
     "text": [
      "WC.HATO..BHZ failed to download. Continuing..\n",
      "10.0 18.4578 -73.3389 17.91362 -62.84967\n"
     ]
    },
    {
     "name": "stderr",
     "output_type": "stream",
     "text": [
      "\r",
      " 44%|██████████████████▊                        | 35/80 [00:36<00:39,  1.14it/s]"
     ]
    },
    {
     "name": "stdout",
     "output_type": "stream",
     "text": [
      "WI.SBLM.00.BHZ failed to download. Continuing..\n",
      "10.0 18.4578 -73.3389 18.8121 -70.6267\n"
     ]
    },
    {
     "name": "stderr",
     "output_type": "stream",
     "text": [
      "\r",
      " 45%|███████████████████▎                       | 36/80 [00:37<00:33,  1.33it/s]"
     ]
    },
    {
     "name": "stdout",
     "output_type": "stream",
     "text": [
      "ZC.ABDR..BHZ failed to download. Continuing..\n",
      "10.0 18.4578 -73.3389 18.8121 -70.6267\n"
     ]
    },
    {
     "name": "stderr",
     "output_type": "stream",
     "text": [
      "\r",
      " 46%|███████████████████▉                       | 37/80 [00:37<00:32,  1.33it/s]"
     ]
    },
    {
     "name": "stdout",
     "output_type": "stream",
     "text": [
      "ZC.ABDR.00.BHZ failed to download. Continuing..\n",
      "10.0 18.4578 -73.3389 18.3897 -70.3558\n"
     ]
    },
    {
     "name": "stderr",
     "output_type": "stream",
     "text": [
      "\r",
      " 48%|████████████████████▍                      | 38/80 [00:38<00:31,  1.35it/s]"
     ]
    },
    {
     "name": "stdout",
     "output_type": "stream",
     "text": [
      "ZC.BADR..BHZ failed to download. Continuing..\n",
      "10.0 18.4578 -73.3389 18.3897 -70.3558\n"
     ]
    },
    {
     "name": "stderr",
     "output_type": "stream",
     "text": [
      "\r",
      " 49%|████████████████████▉                      | 39/80 [00:39<00:33,  1.23it/s]"
     ]
    },
    {
     "name": "stdout",
     "output_type": "stream",
     "text": [
      "ZC.BADR.00.BHZ failed to download. Continuing..\n",
      "10.0 18.4578 -73.3389 19.66702 -69.93976\n"
     ]
    },
    {
     "name": "stderr",
     "output_type": "stream",
     "text": [
      "\r",
      " 50%|█████████████████████▌                     | 40/80 [00:40<00:34,  1.15it/s]"
     ]
    },
    {
     "name": "stdout",
     "output_type": "stream",
     "text": [
      "ZC.CADR..BHZ failed to download. Continuing..\n",
      "10.0 18.4578 -73.3389 19.66702 -69.93976\n"
     ]
    },
    {
     "name": "stderr",
     "output_type": "stream",
     "text": [
      "\r",
      " 51%|██████████████████████                     | 41/80 [00:41<00:41,  1.06s/it]"
     ]
    },
    {
     "name": "stdout",
     "output_type": "stream",
     "text": [
      "10.0 18.4578 -73.3389 18.5931 -68.7117\n"
     ]
    },
    {
     "name": "stderr",
     "output_type": "stream",
     "text": [
      "\r",
      " 52%|██████████████████████▌                    | 42/80 [00:42<00:35,  1.06it/s]"
     ]
    },
    {
     "name": "stdout",
     "output_type": "stream",
     "text": [
      "ZC.HIGDR..BHZ failed to download. Continuing..\n",
      "10.0 18.4578 -73.3389 18.5931 -68.7117\n"
     ]
    },
    {
     "name": "stderr",
     "output_type": "stream",
     "text": [
      "\r",
      " 54%|███████████████████████                    | 43/80 [00:43<00:32,  1.13it/s]"
     ]
    },
    {
     "name": "stdout",
     "output_type": "stream",
     "text": [
      "ZC.HIGDR.00.BHZ failed to download. Continuing..\n",
      "10.0 18.4578 -73.3389 18.7879 -69.381\n"
     ]
    },
    {
     "name": "stderr",
     "output_type": "stream",
     "text": [
      "\r",
      " 55%|███████████████████████▋                   | 44/80 [00:44<00:29,  1.24it/s]"
     ]
    },
    {
     "name": "stdout",
     "output_type": "stream",
     "text": [
      "ZC.HMDR..BHZ failed to download. Continuing..\n",
      "10.0 18.4578 -73.3389 18.7879 -69.381\n"
     ]
    },
    {
     "name": "stderr",
     "output_type": "stream",
     "text": [
      "\r",
      " 56%|████████████████████████▏                  | 45/80 [00:44<00:27,  1.28it/s]"
     ]
    },
    {
     "name": "stdout",
     "output_type": "stream",
     "text": [
      "ZC.HMDR.00.BHZ failed to download. Continuing..\n",
      "10.0 18.4578 -73.3389 18.4914 -71.8642\n"
     ]
    },
    {
     "name": "stderr",
     "output_type": "stream",
     "text": [
      "\r",
      " 57%|████████████████████████▋                  | 46/80 [00:45<00:23,  1.43it/s]"
     ]
    },
    {
     "name": "stdout",
     "output_type": "stream",
     "text": [
      "ZC.JIDR..BHZ failed to download. Continuing..\n",
      "10.0 18.4578 -73.3389 18.4914 -71.8642\n"
     ]
    },
    {
     "name": "stderr",
     "output_type": "stream",
     "text": [
      "\r",
      " 59%|█████████████████████████▎                 | 47/80 [00:46<00:25,  1.31it/s]"
     ]
    },
    {
     "name": "stdout",
     "output_type": "stream",
     "text": [
      "ZC.JIDR.00.BHZ failed to download. Continuing..\n",
      "10.0 18.4578 -73.3389 19.89319 -70.95307\n"
     ]
    },
    {
     "name": "stderr",
     "output_type": "stream",
     "text": [
      "\r",
      " 60%|█████████████████████████▊                 | 48/80 [00:46<00:25,  1.28it/s]"
     ]
    },
    {
     "name": "stdout",
     "output_type": "stream",
     "text": [
      "ZC.LUDR..BHZ failed to download. Continuing..\n",
      "10.0 18.4578 -73.3389 19.89319 -70.95307\n"
     ]
    },
    {
     "name": "stderr",
     "output_type": "stream",
     "text": [
      "\r",
      " 61%|██████████████████████████▎                | 49/80 [00:47<00:24,  1.28it/s]"
     ]
    },
    {
     "name": "stdout",
     "output_type": "stream",
     "text": [
      "ZC.LUDR.00.BHZ failed to download. Continuing..\n",
      "10.0 18.4578 -73.3389 19.5592 -71.1017\n"
     ]
    },
    {
     "name": "stderr",
     "output_type": "stream",
     "text": [
      "\r",
      " 62%|██████████████████████████▉                | 50/80 [00:48<00:23,  1.29it/s]"
     ]
    },
    {
     "name": "stdout",
     "output_type": "stream",
     "text": [
      "ZC.MADR..BHZ failed to download. Continuing..\n",
      "10.0 18.4578 -73.3389 19.5592 -71.1017\n"
     ]
    },
    {
     "name": "stderr",
     "output_type": "stream",
     "text": [
      "\r",
      " 64%|███████████████████████████▍               | 51/80 [00:49<00:22,  1.29it/s]"
     ]
    },
    {
     "name": "stdout",
     "output_type": "stream",
     "text": [
      "ZC.MADR.00.BHZ failed to download. Continuing..\n",
      "10.0 18.4578 -73.3389 19.5592 -71.1017\n"
     ]
    },
    {
     "name": "stderr",
     "output_type": "stream",
     "text": [
      "\r",
      " 65%|███████████████████████████▉               | 52/80 [00:49<00:20,  1.37it/s]"
     ]
    },
    {
     "name": "stdout",
     "output_type": "stream",
     "text": [
      "ZC.MADR.01.BHZ failed to download. Continuing..\n",
      "10.0 18.4578 -73.3389 19.8924 -71.6569\n"
     ]
    },
    {
     "name": "stderr",
     "output_type": "stream",
     "text": [
      "\r",
      " 66%|████████████████████████████▍              | 53/80 [00:50<00:19,  1.37it/s]"
     ]
    },
    {
     "name": "stdout",
     "output_type": "stream",
     "text": [
      "ZC.MCDR..BHZ failed to download. Continuing..\n",
      "10.0 18.4578 -73.3389 19.8924 -71.6569\n"
     ]
    },
    {
     "name": "stderr",
     "output_type": "stream",
     "text": [
      "\r",
      " 68%|█████████████████████████████              | 54/80 [00:51<00:19,  1.36it/s]"
     ]
    },
    {
     "name": "stdout",
     "output_type": "stream",
     "text": [
      "ZC.MCDR.00.BHZ failed to download. Continuing..\n",
      "10.0 18.4578 -73.3389 18.9833 -69.0498\n"
     ]
    },
    {
     "name": "stderr",
     "output_type": "stream",
     "text": [
      "\r",
      " 69%|█████████████████████████████▌             | 55/80 [00:52<00:17,  1.43it/s]"
     ]
    },
    {
     "name": "stdout",
     "output_type": "stream",
     "text": [
      "ZC.MIDR..BHZ failed to download. Continuing..\n",
      "10.0 18.4578 -73.3389 18.9833 -69.0498\n"
     ]
    },
    {
     "name": "stderr",
     "output_type": "stream",
     "text": [
      "\r",
      " 70%|██████████████████████████████             | 56/80 [00:53<00:25,  1.06s/it]"
     ]
    },
    {
     "name": "stdout",
     "output_type": "stream",
     "text": [
      "10.0 18.4578 -73.3389 19.35583 -69.86417\n"
     ]
    },
    {
     "name": "stderr",
     "output_type": "stream",
     "text": [
      "\r",
      " 71%|██████████████████████████████▋            | 57/80 [00:54<00:21,  1.06it/s]"
     ]
    },
    {
     "name": "stdout",
     "output_type": "stream",
     "text": [
      "ZC.NADR..BHZ failed to download. Continuing..\n",
      "10.0 18.4578 -73.3389 19.35583 -69.86417\n"
     ]
    },
    {
     "name": "stderr",
     "output_type": "stream",
     "text": [
      "\r",
      " 72%|███████████████████████████████▏           | 58/80 [00:55<00:19,  1.12it/s]"
     ]
    },
    {
     "name": "stdout",
     "output_type": "stream",
     "text": [
      "ZC.NADR.00.BHZ failed to download. Continuing..\n",
      "10.0 18.4578 -73.3389 18.9591 -70.0278\n"
     ]
    },
    {
     "name": "stderr",
     "output_type": "stream",
     "text": [
      "\r",
      " 74%|███████████████████████████████▋           | 59/80 [00:55<00:17,  1.23it/s]"
     ]
    },
    {
     "name": "stdout",
     "output_type": "stream",
     "text": [
      "ZC.NAVI..BHZ failed to download. Continuing..\n",
      "10.0 18.4578 -73.3389 18.9591 -70.0278\n"
     ]
    },
    {
     "name": "stderr",
     "output_type": "stream",
     "text": [
      "\r",
      " 75%|████████████████████████████████▎          | 60/80 [00:56<00:14,  1.39it/s]"
     ]
    },
    {
     "name": "stdout",
     "output_type": "stream",
     "text": [
      "ZC.NAVI.00.BHZ failed to download. Continuing..\n",
      "10.0 18.4578 -73.3389 18.4835 -71.418\n"
     ]
    },
    {
     "name": "stderr",
     "output_type": "stream",
     "text": [
      "\r",
      " 76%|████████████████████████████████▊          | 61/80 [00:57<00:15,  1.23it/s]"
     ]
    },
    {
     "name": "stdout",
     "output_type": "stream",
     "text": [
      "ZC.NEDR..BHZ failed to download. Continuing..\n",
      "10.0 18.4578 -73.3389 18.4835 -71.418\n"
     ]
    },
    {
     "name": "stderr",
     "output_type": "stream",
     "text": [
      "\r",
      " 78%|█████████████████████████████████▎         | 62/80 [00:58<00:13,  1.38it/s]"
     ]
    },
    {
     "name": "stdout",
     "output_type": "stream",
     "text": [
      "ZC.NEDR.00.BHZ failed to download. Continuing..\n",
      "10.0 18.4578 -73.3389 18.0342 -71.7376\n"
     ]
    },
    {
     "name": "stderr",
     "output_type": "stream",
     "text": [
      "\r",
      " 79%|█████████████████████████████████▊         | 63/80 [00:58<00:11,  1.44it/s]"
     ]
    },
    {
     "name": "stdout",
     "output_type": "stream",
     "text": [
      "ZC.PEDR..BHZ failed to download. Continuing..\n",
      "10.0 18.4578 -73.3389 18.0342 -71.7376\n"
     ]
    },
    {
     "name": "stderr",
     "output_type": "stream",
     "text": [
      "\r",
      " 80%|██████████████████████████████████▍        | 64/80 [00:59<00:12,  1.26it/s]"
     ]
    },
    {
     "name": "stdout",
     "output_type": "stream",
     "text": [
      "ZC.PEDR.00.BHZ failed to download. Continuing..\n",
      "10.0 18.4578 -73.3389 18.1525 -71.27112\n"
     ]
    },
    {
     "name": "stderr",
     "output_type": "stream",
     "text": [
      "\r",
      " 81%|██████████████████████████████████▉        | 65/80 [01:00<00:12,  1.19it/s]"
     ]
    },
    {
     "name": "stdout",
     "output_type": "stream",
     "text": [
      "ZC.PODR..BHZ failed to download. Continuing..\n",
      "10.0 18.4578 -73.3389 18.1525 -71.27112\n"
     ]
    },
    {
     "name": "stderr",
     "output_type": "stream",
     "text": [
      "\r",
      " 82%|███████████████████████████████████▍       | 66/80 [01:02<00:14,  1.03s/it]"
     ]
    },
    {
     "name": "stdout",
     "output_type": "stream",
     "text": [
      "10.0 18.4578 -73.3389 19.27111 -71.71166\n"
     ]
    },
    {
     "name": "stderr",
     "output_type": "stream",
     "text": [
      "\r",
      " 84%|████████████████████████████████████       | 67/80 [01:02<00:11,  1.14it/s]"
     ]
    },
    {
     "name": "stdout",
     "output_type": "stream",
     "text": [
      "ZC.REDR..BHZ failed to download. Continuing..\n",
      "10.0 18.4578 -73.3389 19.27111 -71.71166\n"
     ]
    },
    {
     "name": "stderr",
     "output_type": "stream",
     "text": [
      "\r",
      " 85%|████████████████████████████████████▌      | 68/80 [01:03<00:09,  1.30it/s]"
     ]
    },
    {
     "name": "stdout",
     "output_type": "stream",
     "text": [
      "ZC.REDR.00.BHZ failed to download. Continuing..\n",
      "10.0 18.4578 -73.3389 18.19282 -68.7797\n"
     ]
    },
    {
     "name": "stderr",
     "output_type": "stream",
     "text": [
      "\r",
      " 86%|█████████████████████████████████████      | 69/80 [01:03<00:08,  1.30it/s]"
     ]
    },
    {
     "name": "stdout",
     "output_type": "stream",
     "text": [
      "ZC.SADR..BHZ failed to download. Continuing..\n",
      "10.0 18.4578 -73.3389 18.19282 -68.7797\n"
     ]
    },
    {
     "name": "stderr",
     "output_type": "stream",
     "text": [
      "\r",
      " 88%|█████████████████████████████████████▋     | 70/80 [01:04<00:06,  1.44it/s]"
     ]
    },
    {
     "name": "stdout",
     "output_type": "stream",
     "text": [
      "ZC.SADR.00.BHZ failed to download. Continuing..\n",
      "10.0 18.4578 -73.3389 19.4275 -70.727699\n"
     ]
    },
    {
     "name": "stderr",
     "output_type": "stream",
     "text": [
      "\r",
      " 89%|██████████████████████████████████████▏    | 71/80 [01:05<00:06,  1.45it/s]"
     ]
    },
    {
     "name": "stdout",
     "output_type": "stream",
     "text": [
      "ZC.SC01..BHZ failed to download. Continuing..\n",
      "10.0 18.4578 -73.3389 19.4275 -70.727699\n"
     ]
    },
    {
     "name": "stderr",
     "output_type": "stream",
     "text": [
      "\r",
      " 90%|██████████████████████████████████████▋    | 72/80 [01:06<00:07,  1.11it/s]"
     ]
    },
    {
     "name": "stdout",
     "output_type": "stream",
     "text": [
      "10.0 18.4578 -73.3389 18.4632 -69.916901\n"
     ]
    },
    {
     "name": "stderr",
     "output_type": "stream",
     "text": [
      "\r",
      " 91%|███████████████████████████████████████▏   | 73/80 [01:07<00:05,  1.22it/s]"
     ]
    },
    {
     "name": "stdout",
     "output_type": "stream",
     "text": [
      "ZC.SDD..BHZ failed to download. Continuing..\n",
      "10.0 18.4578 -73.3389 18.4632 -69.916901\n"
     ]
    },
    {
     "name": "stderr",
     "output_type": "stream",
     "text": [
      "\r",
      " 92%|███████████████████████████████████████▊   | 74/80 [01:08<00:05,  1.12it/s]"
     ]
    },
    {
     "name": "stdout",
     "output_type": "stream",
     "text": [
      "ZC.SDD.00.BHZ failed to download. Continuing..\n",
      "10.0 18.4578 -73.3389 19.2881 -70.2372\n"
     ]
    },
    {
     "name": "stderr",
     "output_type": "stream",
     "text": [
      "\r",
      " 94%|████████████████████████████████████████▎  | 75/80 [01:08<00:03,  1.27it/s]"
     ]
    },
    {
     "name": "stdout",
     "output_type": "stream",
     "text": [
      "ZC.SFDR..BHZ failed to download. Continuing..\n",
      "10.0 18.4578 -73.3389 19.2881 -70.2372\n"
     ]
    },
    {
     "name": "stderr",
     "output_type": "stream",
     "text": [
      "\r",
      " 95%|████████████████████████████████████████▊  | 76/80 [01:09<00:03,  1.31it/s]"
     ]
    },
    {
     "name": "stdout",
     "output_type": "stream",
     "text": [
      "ZC.SFDR.00.BHZ failed to download. Continuing..\n",
      "10.0 18.4578 -73.3389 19.2898 -69.1883\n"
     ]
    },
    {
     "name": "stderr",
     "output_type": "stream",
     "text": [
      "\r",
      " 96%|█████████████████████████████████████████▍ | 77/80 [01:10<00:02,  1.29it/s]"
     ]
    },
    {
     "name": "stdout",
     "output_type": "stream",
     "text": [
      "ZC.SMDR..BHZ failed to download. Continuing..\n",
      "10.0 18.4578 -73.3389 19.2898 -69.1883\n"
     ]
    },
    {
     "name": "stderr",
     "output_type": "stream",
     "text": [
      "\r",
      " 98%|█████████████████████████████████████████▉ | 78/80 [01:10<00:01,  1.43it/s]"
     ]
    },
    {
     "name": "stdout",
     "output_type": "stream",
     "text": [
      "ZC.SMDR.00.BHZ failed to download. Continuing..\n",
      "10.0 18.4578 -73.3389 19.7524 -70.5763\n"
     ]
    },
    {
     "name": "stderr",
     "output_type": "stream",
     "text": [
      "\r",
      " 99%|██████████████████████████████████████████▍| 79/80 [01:11<00:00,  1.34it/s]"
     ]
    },
    {
     "name": "stdout",
     "output_type": "stream",
     "text": [
      "ZC.SODR..BHZ failed to download. Continuing..\n",
      "10.0 18.4578 -73.3389 19.7524 -70.5763\n"
     ]
    },
    {
     "name": "stderr",
     "output_type": "stream",
     "text": [
      "100%|███████████████████████████████████████████| 80/80 [01:13<00:00,  1.09it/s]\n"
     ]
    },
    {
     "name": "stdout",
     "output_type": "stream",
     "text": [
      "rPtime =  60.0\n",
      "Trace SNR =  18.610589908053086 1\n",
      "Trace SNR =  142.6276998704749 2\n",
      "Trace SNR =  30.070392264537197 3\n",
      "Trace SNR =  83.95469290002727 4\n",
      "Trace SNR =  512.4275411631027 5\n",
      "Trace SNR =  36249.024315858616 6\n",
      "Trace SNR =  2869.7607017204714 7\n",
      "Trace SNR =  980550.6906851883 8\n",
      "Trace SNR =  22164.188034536026 9\n",
      "Trace SNR =  1818.0664526133155 10\n",
      "Trace SNR =  1726.5408625356772 11\n",
      "Trace SNR =  0.8639439048558973 12\n",
      "Trace SNR =  207.45708522372183 13\n",
      "Trace SNR =  211.99066330098228 14\n",
      "Trace SNR =  12.576591940140673 15\n",
      "Trace SNR =  6.6882322644473415 16\n",
      "Trace SNR =  61.90438879058681 17\n",
      "Trace SNR =  781.5421822178569 18\n",
      "Trace SNR =  122.72709522704967 19\n",
      "Trace SNR =  3700.8077500629056 20\n",
      "Trace SNR =  771.7975437998216 21\n",
      "Trace SNR =  2395.0949540007514 22\n",
      "Trace SNR =  54732.47489112419 23\n",
      "Trace SNR =  22164.742216999704 24\n",
      "Trace SNR =  2377.2196251228397 25\n",
      "23  of  25 traces were kept above SNR threshold 10.0\n",
      "writing  /Users/hkunwer/Documents/research/EQenergy/events/2022/2022012400/IRIS/pkls/Params_2022012400.pkl \n",
      " /Users/hkunwer/Documents/research/EQenergy/events/2022/2022012400/IRIS/Params_2022012400.csv\n",
      "writing  /Users/hkunwer/Documents/research/EQenergy/events/2022/2022012400/IRIS/pkls/Wavestream-raw_2022012400.pkl\n"
     ]
    }
   ],
   "source": [
    "# Processing and Reading information about event stored in ANSS_data.txt\n",
    "Defaults = defaults()\n",
    "Event = event()\n",
    "Defaults.src='IRIS'\n",
    "Defaults.network='??'\n",
    "Defaults.chan= 'BHZ'\n",
    "Defaults.stationrange=[1,10.0]\n",
    "Event.ecount='00'\n",
    "Event.iter='IRIS'\n",
    "Event.newData = False   # False means use already downloaded data\n",
    "edateold=\"\"\n",
    "ANSS = processANSS() \n",
    "for index, EQ in ANSS.iterrows(): #organizing data to use details\n",
    "    rads = [1.,10.]\n",
    "    eloc = [EQ.Latitude,EQ.Longitude,EQ.Depth] \n",
    "    MagType = [EQ.Mtype]\n",
    "    MagValue = [EQ.Mag]\n",
    "    Magnitude = [MagType, MagValue]\n",
    "    year,mo,dy = EQ.Date.split('-')\n",
    "    hh,mn,sec = EQ.Time.split(':')\n",
    "    etime=(UTCDateTime(int(year),int(mo),int(dy),int(hh),int(mn),float(sec)))\n",
    "    if EQ.Date == edateold:\n",
    "        Event.ecount=str(int(Event.ecount)+1).zfill(2)\n",
    "    else:\n",
    "        Event.ecount='00'\n",
    "    edateold=EQ.Date\n",
    "    Event.eventname=etime2name(etime,ecount=Event.ecount)\n",
    "    Event.origin=[eloc,etime]\n",
    "    print(\"\\n\\n\"+Event.eventname+\" ===============================\")\n",
    "    try:\n",
    "        st, df = [], []\n",
    "        st, df = getwaves(Defaults,Event)\n",
    "    except:\n",
    "        print(\"ERROR: running on \"+Event.eventname+\" failed!!!!\\n\\n\") "
   ]
  },
  {
   "cell_type": "code",
   "execution_count": 3,
   "id": "8921edcd",
   "metadata": {},
   "outputs": [],
   "source": [
    "eventID = (str(etime)+Event.iter+Event.ecount) # creates unique event name\n",
    "inventory = get_respinv(Defaults.network,eloc,etime,rads,Defaults.chan,Defaults.src)"
   ]
  },
  {
   "cell_type": "code",
   "execution_count": 4,
   "id": "fabeedb7",
   "metadata": {},
   "outputs": [],
   "source": [
    "stp = filtering(st) # filter stream for instrument response and taper"
   ]
  },
  {
   "cell_type": "code",
   "execution_count": 5,
   "id": "38c66adb",
   "metadata": {
    "scrolled": false
   },
   "outputs": [],
   "source": [
    "df_freq = maxamp_calc(stp, eventID, EQ, Defaults) #calculate max amps and dist for each tr at freq bands"
   ]
  },
  {
   "cell_type": "code",
   "execution_count": 6,
   "id": "3c751087",
   "metadata": {
    "scrolled": true
   },
   "outputs": [
    {
     "data": {
      "image/png": "[encoded data removed]",
      "text/plain": [
       "<Figure size 640x480 with 1 Axes>"
      ]
     },
     "metadata": {},
     "output_type": "display_data"
    }
   ],
   "source": [
    "organize_data(df_freq, EQ, etime, eloc, eventID) #creates dataframe of all results\n",
    "maxamp_plot(eventID,df_freq) #plots maxamps vs distance"
   ]
  },
  {
   "cell_type": "code",
   "execution_count": 7,
   "id": "2c79de2a",
   "metadata": {},
   "outputs": [
    {
     "name": "stdout",
     "output_type": "stream",
     "text": [
      "Inventory created at 2023-09-25T13:35:39.683200Z\n",
      "\tCreated by: IRIS WEB SERVICE: fdsnws-station | version: 1.1.52\n",
      "\t\t    http://service.iris.edu/fdsnws/station/1/query?starttime=2022-01-...\n",
      "\tSending institution: IRIS-DMC (IRIS-DMC)\n",
      "\tContains:\n",
      "\t\tNetworks (10):\n",
      "\t\t\tCM, CU, DR, IU, NA, PR, VE, WC, WI, ZC\n",
      "\t\tStations (55):\n",
      "\t\t\tCM.PRV (Providencia, Archipielago de San Andres, Colombia)\n",
      "\t\t\tCM.SJC (San Jacinto, Bolivar, Colombia)\n",
      "\t\t\tCM.SMAR (Santa Marta, Magdalena, Colombia)\n",
      "\t\t\tCM.URI (Uribia, Guajira, Colombia)\n",
      "\t\t\tCU.GRTK (Grand Turk, Turks and Caicos Islands)\n",
      "\t\t\tCU.GTBY (Guantanamo Bay, Cuba)\n",
      "\t\t\tCU.MTDJ (Mount Denham, Jamaica)\n",
      "\t\t\tCU.SDDR (Presa de Sabenta, Dominican Republic)\n",
      "\t\t\tDR.PUCM (Universidad PUCCM, Domincan Republic)\n",
      "\t\t\tDR.SC01 (Santiago, DR)\n",
      "\t\t\tDR.SDD (Santo Domingo, DR)\n",
      "\t\t\tIU.SDV (Santo Domingo, Venezuela)\n",
      "\t\t\tIU.SJG (San Juan, Puerto Rico)\n",
      "\t\t\tNA.SABA (Netherlands Antilles Seismic Network)\n",
      "\t\t\tNA.SEUS (St Eustatius, Netherlands Antilles Seismic Network)\n",
      "\t\t\tNA.SMRT (St Maarten, Netherlands Antilles Seismic Network)\n",
      "\t\t\tPR.ABVI (Anegada, BVI)\n",
      "\t\t\tPR.AUA1 (Aruba)\n",
      "\t\t\tPR.CDVI (CDVI)\n",
      "\t\t\tPR.CULB (Culebra, Puerto Rico)\n",
      "\t\t\tPR.ECPR (Estacion Experimental de Corozal)\n",
      "\t\t\tPR.EMPR (Hacienda La Esperanza Manati)\n",
      "\t\t\tPR.ICM (Isla Caja Muertos, PR)\n",
      "\t\t\tPR.OBIP (OBIP)\n",
      "\t\t\tPR.PCDR (Punta Cana, Rep. Dominicana)\n",
      "\t\t\tPR.PDPR (PDPR)\n",
      "\t\t\tPR.SMDR (Samana, DR)\n",
      "\t\t\tPR.STVI (STVI)\n",
      "\t\t\tPR.VGBI (VGBI)\n",
      "\t\t\tPR.VGVI (Virgen Gorda BVI)\n",
      "\t\t\tVE.CURV (Curarigua - Lara)\n",
      "\t\t\tWC.HATO (Hato, Curacao)\n",
      "\t\t\tWI.SBLM (Anse aux cayes, St Bartelemy, Guadeloupe)\n",
      "\t\t\tZC.ABDR (Alta Bandera, DR)\n",
      "\t\t\tZC.BADR (Bani, DR)\n",
      "\t\t\tZC.CADR (Cabo Frances, DR)\n",
      "\t\t\tZC.HIGDR (Higuey, DR)\n",
      "\t\t\tZC.HMDR (Hato Mayor, DR)\n",
      "\t\t\tZC.JIDR (Jimani, DR)\n",
      "\t\t\tZC.LUDR (Luperon, DR)\n",
      "\t\t\tZC.MADR (Mao, DR)\n",
      "\t\t\tZC.MCDR (Montecristi, DR)\n",
      "\t\t\tZC.MIDR (Miches, DR)\n",
      "\t\t\tZC.NADR (Nagua, DR)\n",
      "\t\t\tZC.NAVI (La Naviza, DR)\n",
      "\t\t\tZC.NEDR (Neiba, DR)\n",
      "\t\t\tZC.PEDR (Fortaleza Enriquillo, Pedernales)\n",
      "\t\t\tZC.PODR (Polo, DR)\n",
      "\t\t\tZC.REDR (Restauracion, DR)\n",
      "\t\t\tZC.SADR (Isla Saona, DR)\n",
      "\t\t\tZC.SC01 (Santiago, DR)\n",
      "\t\t\tZC.SDD (Santo Domingo, DR)\n",
      "\t\t\tZC.SFDR (San Francisco de Macoris, DR)\n",
      "\t\t\tZC.SMDR (Samana, DR)\n",
      "\t\t\tZC.SODR (Sosua, DR)\n",
      "\t\tChannels (80):\n",
      "\t\t\tCM.PRV.00.BHZ, CM.SJC.00.BHZ, CM.SMAR.00.BHZ, CM.URI.00.BHZ, \n",
      "\t\t\tCU.GRTK.00.BHZ, CU.GTBY.00.BHZ, CU.MTDJ.00.BHZ, CU.SDDR.00.BHZ, \n",
      "\t\t\tDR.PUCM..BHZ, DR.SC01..BHZ, DR.SDD..BHZ, IU.SDV.00.BHZ, \n",
      "\t\t\tIU.SDV.10.BHZ, IU.SJG.00.BHZ, IU.SJG.10.BHZ, NA.SABA..BHZ, \n",
      "\t\t\tNA.SEUS..BHZ, NA.SMRT..BHZ, PR.ABVI..BHZ, PR.AUA1..BHZ, \n",
      "\t\t\tPR.CDVI..BHZ, PR.CULB..BHZ, PR.ECPR..BHZ, PR.EMPR..BHZ, PR.ICM..BHZ\n",
      "\t\t\tPR.OBIP..BHZ, PR.PCDR..BHZ, PR.PDPR..BHZ, PR.SMDR..BHZ, \n",
      "\t\t\tPR.STVI..BHZ, PR.VGBI..BHZ, PR.VGVI..BHZ, VE.CURV..BHZ, \n",
      "\t\t\tWC.HATO..BHZ, WI.SBLM.00.BHZ, ZC.ABDR..BHZ, ZC.ABDR.00.BHZ, \n",
      "\t\t\tZC.BADR..BHZ, ZC.BADR.00.BHZ, ZC.CADR..BHZ, ZC.CADR.00.BHZ, \n",
      "\t\t\tZC.HIGDR..BHZ, ZC.HIGDR.00.BHZ, ZC.HMDR..BHZ, ZC.HMDR.00.BHZ, \n",
      "\t\t\tZC.JIDR..BHZ, ZC.JIDR.00.BHZ, ZC.LUDR..BHZ, ZC.LUDR.00.BHZ, \n",
      "\t\t\tZC.MADR..BHZ, ZC.MADR.00.BHZ, ZC.MADR.01.BHZ, ZC.MCDR..BHZ, \n",
      "\t\t\tZC.MCDR.00.BHZ, ZC.MIDR..BHZ, ZC.MIDR.00.BHZ, ZC.NADR..BHZ, \n",
      "\t\t\tZC.NADR.00.BHZ, ZC.NAVI..BHZ, ZC.NAVI.00.BHZ, ZC.NEDR..BHZ, \n",
      "\t\t\tZC.NEDR.00.BHZ, ZC.PEDR..BHZ, ZC.PEDR.00.BHZ, ZC.PODR..BHZ, \n",
      "\t\t\tZC.PODR.00.BHZ, ZC.REDR..BHZ, ZC.REDR.00.BHZ, ZC.SADR..BHZ, \n",
      "\t\t\tZC.SADR.00.BHZ, ZC.SC01..BHZ, ZC.SC01.00.BHZ, ZC.SDD..BHZ, \n",
      "\t\t\tZC.SDD.00.BHZ, ZC.SFDR..BHZ, ZC.SFDR.00.BHZ, ZC.SMDR..BHZ, \n",
      "\t\t\tZC.SMDR.00.BHZ, ZC.SODR..BHZ, ZC.SODR.00.BHZ\n"
     ]
    }
   ],
   "source": [
    "print(inventory)"
   ]
  },
  {
   "cell_type": "code",
   "execution_count": null,
   "id": "84433ae0",
   "metadata": {},
   "outputs": [],
   "source": []
  }
 ],
 "metadata": {
  "kernelspec": {
   "display_name": "Python 3 (ipykernel)",
   "language": "python",
   "name": "python3"
  },
  "language_info": {
   "codemirror_mode": {
    "name": "ipython",
    "version": 3
   },
   "file_extension": ".py",
   "mimetype": "text/x-python",
   "name": "python",
   "nbconvert_exporter": "python",
   "pygments_lexer": "ipython3",
   "version": "3.11.0"
  }
 },
 "nbformat": 4,
 "nbformat_minor": 5
}
