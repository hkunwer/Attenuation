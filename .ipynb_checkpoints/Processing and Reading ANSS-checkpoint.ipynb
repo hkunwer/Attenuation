{
 "cells": [
  {
   "cell_type": "code",
   "execution_count": 4,
   "id": "d4e6613c",
   "metadata": {},
   "outputs": [
    {
     "ename": "ModuleNotFoundError",
     "evalue": "No module named 'attenuation'",
     "output_type": "error",
     "traceback": [
      "\u001b[0;31m---------------------------------------------------------------------------\u001b[0m",
      "\u001b[0;31mModuleNotFoundError\u001b[0m                       Traceback (most recent call last)",
      "Cell \u001b[0;32mIn[4], line 2\u001b[0m\n\u001b[1;32m      1\u001b[0m \u001b[38;5;66;03m#attenuation\u001b[39;00m\n\u001b[0;32m----> 2\u001b[0m \u001b[38;5;28;01mfrom\u001b[39;00m \u001b[38;5;21;01mattenuation\u001b[39;00m \u001b[38;5;28;01mimport\u001b[39;00m processANSS, readANSS\n\u001b[1;32m      4\u001b[0m \u001b[38;5;66;03m#rtergpy\u001b[39;00m\n\u001b[1;32m      5\u001b[0m \u001b[38;5;28;01mfrom\u001b[39;00m \u001b[38;5;21;01mrtergpy\u001b[39;00m\u001b[38;5;21;01m.\u001b[39;00m\u001b[38;5;21;01mrun\u001b[39;00m \u001b[38;5;28;01mimport\u001b[39;00m defaults, event, etime2name, src2ergs\n",
      "\u001b[0;31mModuleNotFoundError\u001b[0m: No module named 'attenuation'"
     ]
    }
   ],
   "source": [
    "#attenuation\n",
    "from attenuation import processANSS, readANSS\n",
    "\n",
    "#rtergpy\n",
    "from rtergpy.run import defaults, event, etime2name, src2ergs"
   ]
  },
  {
   "cell_type": "code",
   "execution_count": 5,
   "id": "89f17839",
   "metadata": {},
   "outputs": [],
   "source": [
    "def processANSS(): # should be done before readANSS\n",
    "\n",
    "    # Open the file for reading\n",
    "    with open('ANSS_data.txt', 'r') as file:\n",
    "        # Read all lines from the file\n",
    "        lines = file.readlines()\n",
    "\n",
    "    # Remove the last two columns and rearrange the columns\n",
    "    modified_lines = []\n",
    "    for line in lines:\n",
    "        columns = line.split()\n",
    "        modified_line = columns[0:7] + [columns[8]] + [columns[7]] + columns[10:]\n",
    "        modified_lines.append(modified_line)\n",
    "\n",
    "    # Write the modified lines back to the file\n",
    "    with open('ANSS_data.txt', 'w') as file:\n",
    "        file.writelines([' '.join(line) + '\\n' for line in modified_lines])\n",
    "        \n",
    "def readANSS(): # should be used after ANSS is processed\n",
    "    \n",
    "    Defaults=defaults()\n",
    "    Event=event()\n",
    "    Defaults.src='RASPISHAKE'\n",
    "    Event.newData=False # True would collect new data. False if already downloaded.\n",
    "    Event.ecount='00'\n",
    "    edateold=\"\"\n",
    "    ANSS=pd.read_csv('ANSS_data.txt', sep='\\s+', comment=\"#\")\n",
    "    for index, EQ in ANSS.iterrows():\n",
    "        eloc = [EQ.LAT,EQ.LONG,EQ.DEPTH] \n",
    "        year,mo,dd = EQ.DATE.split('/')\n",
    "        hh,mn,sec = EQ.TIME.split(':')\n",
    "        etime=(UTCDateTime(int(year),int(mo),int(dd),int(hh),int(mn),float(sec)))\n",
    "        # iterate ecount\n",
    "        if EQ.DATE == edateold:\n",
    "            Event.ecount=str(int(Event.ecount)+1).zfill(2)\n",
    "        else:\n",
    "            Event.ecount='00'\n",
    "        edateold=EQ.DATE\n",
    "        Event.eventname=etime2name(etime,ecount=Event.ecount)\n",
    "        Event.origin=[eloc,etime]\n",
    "        Event.focmech=[EQ.STK, EQ.DP, EQ.RKE] # phi,delta,lmbda\n",
    "\n",
    "        print(\"\\n\\n\"+Event.eventname+\" ===============================\")\n",
    "        try:\n",
    "            src2ergs(Defaults=Defaults,Event=Event)\n",
    "        except:\n",
    "            print(\"ERROR: running on \"+Event.eventname+\" failed!!!!\\n\\n\")\n"
   ]
  },
  {
   "cell_type": "code",
   "execution_count": 6,
   "id": "ccbab542",
   "metadata": {},
   "outputs": [
    {
     "ename": "NameError",
     "evalue": "name 'defaults' is not defined",
     "output_type": "error",
     "traceback": [
      "\u001b[0;31m---------------------------------------------------------------------------\u001b[0m",
      "\u001b[0;31mNameError\u001b[0m                                 Traceback (most recent call last)",
      "Cell \u001b[0;32mIn[6], line 2\u001b[0m\n\u001b[1;32m      1\u001b[0m processANSS()\n\u001b[0;32m----> 2\u001b[0m \u001b[43mreadANSS\u001b[49m\u001b[43m(\u001b[49m\u001b[43m)\u001b[49m\n",
      "Cell \u001b[0;32mIn[5], line 21\u001b[0m, in \u001b[0;36mreadANSS\u001b[0;34m()\u001b[0m\n\u001b[1;32m     19\u001b[0m \u001b[38;5;28;01mdef\u001b[39;00m \u001b[38;5;21mreadANSS\u001b[39m(): \u001b[38;5;66;03m# should be used after ANSS is processed\u001b[39;00m\n\u001b[0;32m---> 21\u001b[0m     Defaults\u001b[38;5;241m=\u001b[39m\u001b[43mdefaults\u001b[49m()\n\u001b[1;32m     22\u001b[0m     Event\u001b[38;5;241m=\u001b[39mevent()\n\u001b[1;32m     23\u001b[0m     Defaults\u001b[38;5;241m.\u001b[39msrc\u001b[38;5;241m=\u001b[39m\u001b[38;5;124m'\u001b[39m\u001b[38;5;124mRASPISHAKE\u001b[39m\u001b[38;5;124m'\u001b[39m\n",
      "\u001b[0;31mNameError\u001b[0m: name 'defaults' is not defined"
     ]
    }
   ],
   "source": [
    "processANSS()\n",
    "readANSS()"
   ]
  },
  {
   "cell_type": "code",
   "execution_count": null,
   "id": "13343cbc",
   "metadata": {},
   "outputs": [],
   "source": []
  }
 ],
 "metadata": {
  "kernelspec": {
   "display_name": "Python 3 (ipykernel)",
   "language": "python",
   "name": "python3"
  },
  "language_info": {
   "codemirror_mode": {
    "name": "ipython",
    "version": 3
   },
   "file_extension": ".py",
   "mimetype": "text/x-python",
   "name": "python",
   "nbconvert_exporter": "python",
   "pygments_lexer": "ipython3",
   "version": "3.11.0"
  }
 },
 "nbformat": 4,
 "nbformat_minor": 5
}
