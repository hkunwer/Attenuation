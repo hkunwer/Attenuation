{
 "cells": [
  {
   "cell_type": "code",
   "execution_count": null,
   "id": "75716d3d",
   "metadata": {},
   "outputs": [],
   "source": [
    "from obspy import UTCDateTime\n",
    "from obspy.taup import TauPyModel\n",
    "import pandas as pd\n",
    "from rtergpy_reference.run import defaults, event, etime2name\n",
    "from rtergpy_reference.waveforms import getwaves\n",
    "from AttenuationFunctionsTesting import (\n",
    "    check_existing_dataframe, processANSStxt, filteringst,\n",
    "    maxamp_calc_freq_bands, max_and_normalized_max_plots)\n",
    "\n",
    "# Initialize TauPyModel for seismic wave travel time calculations\n",
    "model = TauPyModel(model=\"iasp91\")\n",
    "\n",
    "# Load configuration and event defaults\n",
    "Defaults = defaults()\n",
    "Event = event()\n",
    "Defaults.src = 'RASPISHAKE'\n",
    "Defaults.network = 'AM'\n",
    "Defaults.chan = 'EHZ'\n",
    "Defaults.stationrange = [0.5, 10.0]\n",
    "Event.ecount = '00'\n",
    "Event.newData = False  # Use already downloaded data\n",
    "\n",
    "# Process or load ANSS event data\n",
    "#ANSS = processANSStxt() #If you have raw ANSS list, process with this\n",
    "ANSS = pd.read_csv('ANSS_processed_data.csv')  # comment out top if already processed to load with this\n",
    "check_existing_dataframe()  # Check for existing DataFrame to append results\n",
    "\n",
    "edateold = \"\"\n",
    "\n",
    "for index, EQ in ANSS.iterrows():\n",
    "    eloc = [EQ.Latitude, EQ.Longitude, EQ.Depth]\n",
    "    magnitude = {'type': EQ.Mtype, 'value': EQ.Mag}\n",
    "    year, mo, dy = EQ.Date.split('-')\n",
    "    hh, mn, sec = EQ.Time.split(':')\n",
    "    etime = UTCDateTime(int(year), int(mo), int(dy), int(hh), int(mn), float(sec))\n",
    "\n",
    "    Event.ecount = str(int(Event.ecount) + 1).zfill(2) if EQ.Date == edateold else '00'\n",
    "    Event.iter = 'RS' if Defaults.src == 'RASPISHAKE' else 'IRIS'\n",
    "    edateold = EQ.Date\n",
    "    Event.eventname = etime2name(etime, ecount=Event.ecount) + Event.iter\n",
    "    Event.origin = [eloc, etime]\n",
    "\n",
    "    print(f\"\\n\\n{Event.eventname} ===============================\")\n",
    "\n",
    "    try:\n",
    "        st, df = getwaves(Defaults, Event)\n",
    "        print(\"Completed getwaves\")\n",
    "        stp = filteringst(st)\n",
    "        maxamp_calc_freq_bands(stp, EQ, Defaults, etime, eloc)\n",
    "    except Exception as e:\n",
    "        print(f\"ERROR: {Event.eventname} could not complete getwaves due to {e}\")"
   ]
  }
 ],
 "metadata": {
  "kernelspec": {
   "display_name": "Python 3 (ipykernel)",
   "language": "python",
   "name": "python3"
  },
  "language_info": {
   "codemirror_mode": {
    "name": "ipython",
    "version": 3
   },
   "file_extension": ".py",
   "mimetype": "text/x-python",
   "name": "python",
   "nbconvert_exporter": "python",
   "pygments_lexer": "ipython3",
   "version": "3.11.0"
  }
 },
 "nbformat": 4,
 "nbformat_minor": 5
}
