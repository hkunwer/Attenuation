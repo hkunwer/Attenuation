{
 "cells": [
  {
   "cell_type": "code",
   "execution_count": 119,
   "id": "83c727d9",
   "metadata": {},
   "outputs": [
    {
     "ename": "ImportError",
     "evalue": "cannot import name 'max' from 'obspy.core.trace' (/Users/hkunwer/opt/anaconda3/envs/rtergpy/lib/python3.11/site-packages/obspy/core/trace.py)",
     "output_type": "error",
     "traceback": [
      "\u001b[0;31m---------------------------------------------------------------------------\u001b[0m",
      "\u001b[0;31mImportError\u001b[0m                               Traceback (most recent call last)",
      "Cell \u001b[0;32mIn[119], line 17\u001b[0m\n\u001b[1;32m     15\u001b[0m \u001b[38;5;66;03m#obspy\u001b[39;00m\n\u001b[1;32m     16\u001b[0m \u001b[38;5;28;01mfrom\u001b[39;00m \u001b[38;5;21;01mobspy\u001b[39;00m \u001b[38;5;28;01mimport\u001b[39;00m UTCDateTime\n\u001b[0;32m---> 17\u001b[0m \u001b[38;5;28;01mfrom\u001b[39;00m \u001b[38;5;21;01mobspy\u001b[39;00m\u001b[38;5;21;01m.\u001b[39;00m\u001b[38;5;21;01mcore\u001b[39;00m\u001b[38;5;21;01m.\u001b[39;00m\u001b[38;5;21;01mtrace\u001b[39;00m \u001b[38;5;28;01mimport\u001b[39;00m \u001b[38;5;28mmax\u001b[39m\n\u001b[1;32m     19\u001b[0m \u001b[38;5;28;01mfrom\u001b[39;00m \u001b[38;5;21;01mobspy\u001b[39;00m\u001b[38;5;21;01m.\u001b[39;00m\u001b[38;5;21;01mtaup\u001b[39;00m \u001b[38;5;28;01mimport\u001b[39;00m TauPyModel\n\u001b[1;32m     20\u001b[0m model \u001b[38;5;241m=\u001b[39m TauPyModel(model\u001b[38;5;241m=\u001b[39m\u001b[38;5;124m\"\u001b[39m\u001b[38;5;124miasp91\u001b[39m\u001b[38;5;124m\"\u001b[39m)\n",
      "\u001b[0;31mImportError\u001b[0m: cannot import name 'max' from 'obspy.core.trace' (/Users/hkunwer/opt/anaconda3/envs/rtergpy/lib/python3.11/site-packages/obspy/core/trace.py)"
     ]
    }
   ],
   "source": [
    "# %%\n",
    "import os\n",
    "from locale import setlocale\n",
    "import pandas as pd \n",
    "import matplotlib.pyplot as plt\n",
    "import numpy as np\n",
    "from numpy import sin,cos,arcsin,sqrt,abs,pi,log10,exp\n",
    "from scipy.fftpack import fft,ifft\n",
    "from scipy.io import wavfile\n",
    "from scipy.stats import gmean \n",
    "from tqdm import tqdm\n",
    "from compress_pickle import dump as cpkldump # reading/writing compressed pickles\n",
    "from compress_pickle import load as cpklload # reading/writing compressed pickles\n",
    "\n",
    "#obspy\n",
    "from obspy import UTCDateTime\n",
    "#from obspy.core.trace import max\n",
    "\n",
    "from obspy.taup import TauPyModel\n",
    "model = TauPyModel(model=\"iasp91\")\n",
    "\n",
    "#rtergpy\n",
    "from rtergpy.run import defaults, event, etime2name, src2ergs\n",
    "from rtergpy.waveforms import getwaves, get_respinv\n",
    "\n",
    "#attenuation\n",
    "from AttenuationFunctions import processANSS, freqmaxes\n",
    "\n",
    "\n",
    "# Processing and Reading information about event stored in ANSS_data.txt\n",
    "\n",
    "Defaults = defaults()\n",
    "Event = event()\n",
    "Defaults.src=\"RASPISHAKE\"\n",
    "Defaults.network=\"AM\"\n",
    "Defaults.chan=\"EHZ\"\n",
    "Defaults.stationrange=[1.,10.]\n",
    "Event.ecount='00'\n",
    "Event.iter='RS'\n",
    "# Event.newData = False   # use already downloaded data\n",
    "Event.newData=False\n",
    "edateold=\"\"\n",
    "\n",
    "processANSS() #process to remove unneccesary information\n",
    "# ANSS = pd.read_csv('ANSS_processed_data.csv', sep=',', comment='#')\n",
    "ANSS = pd.read_csv('ANSS_processed_data.csv')\n",
    "#print(ANSS) #Just to check if processing correctly\n",
    "\n",
    "# run everything above to test on command line\n",
    "for index, EQ in ANSS.iterrows():\n",
    "    network = \"AM\"\n",
    "    chan = \"EHZ\"\n",
    "    src = \"RASPISHAKE\"\n",
    "    rads = [1.,10.]\n",
    "    eloc = [EQ.Latitude,EQ.Longitude,EQ.Depth] \n",
    "    MagType = [EQ.Mtype]\n",
    "    MagValue = [EQ.Mag]\n",
    "    Magnitude = [MagType, MagValue]\n",
    "    year,mo,dy = EQ.Date.split('-')\n",
    "    hh,mn,sec = EQ.Time.split(':')\n",
    "    etime=(UTCDateTime(int(year),int(mo),int(dy),int(hh),int(mn),float(sec)))\n",
    "    \n",
    "    if EQ.Date == edateold:\n",
    "        Event.ecount=str(int(Event.ecount)+1).zfill(2)\n",
    "    else:\n",
    "        Event.ecount='00'\n",
    "    edateold=EQ.Date\n",
    "    Event.eventname=etime2name(etime,ecount=Event.ecount)\n",
    "    Event.origin=[eloc,etime]\n",
    "\n",
    "    print(\"\\n\\n\"+Event.eventname+\" ===============================\")\n",
    "    try:\n",
    "        st, df = [], []\n",
    "        st, df = getwaves(Defaults=Defaults,Event=Event)\n",
    "    except:\n",
    "        print(\"ERROR: running on \"+Event.eventname+\" failed!!!!\\n\\n\")\n",
    "               \n",
    "# make an inventory incase needed. \n",
    "\n",
    "inventory = get_respinv(network,eloc,etime,rads,chan,src)"
   ]
  },
  {
   "cell_type": "code",
   "execution_count": 6,
   "id": "dba5300b",
   "metadata": {},
   "outputs": [],
   "source": [
    "# filter for instrument response and taper\n",
    "\n",
    "taper=0.05\n",
    "\n",
    "stp = st.copy()  # create backup\n",
    "\n",
    "# process data (maybe make this into a function)\n",
    "\n",
    "stp.detrend(type='polynomial', order=5) # pre-instrument removal\n",
    "stp.taper(taper)\n",
    "stp.remove_response(output=\"DISP\")\n",
    "stp.detrend(type='polynomial', order=5) # post-instrument removal\n",
    "stp.taper(taper)\n",
    "\n",
    "# process each individual frequency band in a bandpass using .filter\n",
    "# frequency bands of 0.1-0.25, 0.25-0.5, 0.5-0.75, 0.75-1, 1-1.5\n",
    "\n",
    "#freqs = ([0.1,0.25],[0.25,0.5],[0.50,0.75],[0.75,1],[1,1.25])\n",
    "\n",
    "# freq1 band = 0.1-0.25,\n",
    "stp_freq1 = stp.copy()\n",
    "stp_freq1.filter(\"bandpass\",freqmin=0.10 , freqmax=0.25)\n",
    "\n",
    "# freq2 band = 0.25-0.5,\n",
    "stp_freq2 = stp.copy()\n",
    "stp_freq2.filter(\"bandpass\", freqmin=0.25, freqmax=0.50)\n",
    "\n",
    "# # freq3 band = 0.5-0.75,\n",
    "stp_freq3 = stp.copy()\n",
    "stp_freq3.filter(\"bandpass\", freqmin=0.50, freqmax=0.75)\n",
    "\n",
    "# # freq4 band = 0.75-1.\n",
    "stp_freq4 = stp.copy()\n",
    "stp_freq4.filter(\"bandpass\", freqmin=0.75, freqmax=1.0)\n",
    "\n",
    "# # freq5 band = 1-1.25\n",
    "stp_freq5 = stp.copy()\n",
    "stp_freq5.filter(\"bandpass\", freqmin=1.0, freqmax=1.25)\n",
    "\n",
    "# #add all freq to a tuple\n",
    "stp_freqs = (stp_freq1,stp_freq2,stp_freq3,stp_freq4,stp_freq5)\n",
    "\n",
    "# # Plot all the wiggles, shows how frequency filtering works. \n",
    "\n",
    "# #stp[0].plot(); #only instrument response removal\n",
    "# #stp_freq1[0].plot(); # bandpass filter of 0.1-0.25\n",
    "# #stp_freq2[0].plot(); # bandpass filter of 0.25-0.5\n",
    "# #stp_freq3[0].plot(); # bandpass filter of 0.5-0.75\n",
    "# #stp_freq4[0].plot(); # bandpass filter of 0.75-0.1\n",
    "# #stp_freq5[0].plot(); # bandpass filter of 1-1.25"
   ]
  },
  {
   "cell_type": "code",
   "execution_count": 120,
   "id": "27835e03",
   "metadata": {
    "scrolled": true
   },
   "outputs": [
    {
     "ename": "TypeError",
     "evalue": "'numpy.float64' object is not iterable",
     "output_type": "error",
     "traceback": [
      "\u001b[0;31m---------------------------------------------------------------------------\u001b[0m",
      "\u001b[0;31mTypeError\u001b[0m                                 Traceback (most recent call last)",
      "Cell \u001b[0;32mIn[120], line 15\u001b[0m\n\u001b[1;32m     12\u001b[0m \u001b[38;5;28;01mfor\u001b[39;00m stpf \u001b[38;5;129;01min\u001b[39;00m stp_freqs:\n\u001b[1;32m     14\u001b[0m     \u001b[38;5;28;01mfor\u001b[39;00m tr \u001b[38;5;129;01min\u001b[39;00m stpf:\n\u001b[0;32m---> 15\u001b[0m         maxamps \u001b[38;5;241m=\u001b[39m \u001b[38;5;28;43mmax\u001b[39;49m\u001b[43m(\u001b[49m\u001b[38;5;28;43mabs\u001b[39;49m\u001b[43m(\u001b[49m\u001b[43mtr\u001b[49m\u001b[43m)\u001b[49m\u001b[43m)\u001b[49m\n\u001b[1;32m     16\u001b[0m         dist \u001b[38;5;241m=\u001b[39m tr\u001b[38;5;241m.\u001b[39mstats\u001b[38;5;241m.\u001b[39mdistance \u001b[38;5;241m/\u001b[39m \u001b[38;5;241m1000\u001b[39m\n\u001b[1;32m     17\u001b[0m         ALLmaxamps\u001b[38;5;241m.\u001b[39mappend(maxamps)\n",
      "\u001b[0;31mTypeError\u001b[0m: 'numpy.float64' object is not iterable"
     ]
    }
   ],
   "source": [
    "# # %%\n",
    "# # use freqmaxes function to get maxamps for all traces in one frequency band\n",
    "# # compare the plots formed from the function above with previous tests in Appendix below\n",
    "\n",
    "#freqs = ([0.1,0.25],[0.25,0.5],[0.50,0.75],[0.75,1],[1,1.25])\n",
    "\n",
    "maxamps, dist_str = maximumAmplitude(stp_freq)\n",
    "       \n",
    "df = pd.DataFrame({\"maxamps\":maxamps,\"distance\":dist_str}) "
   ]
  },
  {
   "cell_type": "code",
   "execution_count": 109,
   "id": "8aef0ead",
   "metadata": {},
   "outputs": [
    {
     "data": {
      "text/html": [
       "<div>\n",
       "<style scoped>\n",
       "    .dataframe tbody tr th:only-of-type {\n",
       "        vertical-align: middle;\n",
       "    }\n",
       "\n",
       "    .dataframe tbody tr th {\n",
       "        vertical-align: top;\n",
       "    }\n",
       "\n",
       "    .dataframe thead th {\n",
       "        text-align: right;\n",
       "    }\n",
       "</style>\n",
       "<table border=\"1\" class=\"dataframe\">\n",
       "  <thead>\n",
       "    <tr style=\"text-align: right;\">\n",
       "      <th></th>\n",
       "      <th>maxamps</th>\n",
       "      <th>distance</th>\n",
       "    </tr>\n",
       "  </thead>\n",
       "  <tbody>\n",
       "    <tr>\n",
       "      <th>0</th>\n",
       "      <td>0.000079</td>\n",
       "      <td>115.294131</td>\n",
       "    </tr>\n",
       "  </tbody>\n",
       "</table>\n",
       "</div>"
      ],
      "text/plain": [
       "    maxamps    distance\n",
       "0  0.000079  115.294131"
      ]
     },
     "execution_count": 109,
     "metadata": {},
     "output_type": "execute_result"
    }
   ],
   "source": [
    "df"
   ]
  },
  {
   "cell_type": "code",
   "execution_count": 105,
   "id": "897c6653",
   "metadata": {},
   "outputs": [],
   "source": [
    "#plt.xlabel(\"Distance (km)\", fontsize =12)\n",
    "#plt.ylabel(\"Max Amplitude (log)\", fontsize = 12)\n",
    "#plt.title(\"Maximum Amplitude vs. Distance for each Frequency Band\")\n",
    "#plt.legend()\n",
    "#plt.grid(True) \n",
    "#plt.show()\n",
    "#plt.savefig('first_plot.png', dpi=300) #also maybe loop so it'll iterate and name them better for continuous storage"
   ]
  },
  {
   "cell_type": "code",
   "execution_count": 116,
   "id": "7be11f16",
   "metadata": {},
   "outputs": [],
   "source": [
    "# filter for instrument response and taper\n",
    "\n",
    "taper=0.05\n",
    "\n",
    "stp = st.copy()  # create backup\n",
    "\n",
    "# process data (maybe make this into a function)\n",
    "\n",
    "stp.detrend(type='polynomial', order=5) # pre-instrument removal\n",
    "stp.taper(taper)\n",
    "stp.remove_response(output=\"DISP\")\n",
    "stp.detrend(type='polynomial', order=5) # post-instrument removal\n",
    "stp.taper(taper)\n",
    "\n",
    "# process each individual frequency band in a bandpass using .filter\n",
    "# frequency bands of 0.1-0.25, 0.25-0.5, 0.5-0.75, 0.75-1, 1-1.5\n",
    "\n",
    "#freqs = ([0.1,0.25],[0.25,0.5],[0.50,0.75],[0.75,1],[1,1.25])\n",
    "\n",
    "#change this to read in input and make a list of all the bandpass turn this into a function\n",
    "# that saves all this for each frequency band by a different name\n",
    "\n",
    "frequencymin = 0.1\n",
    "frequencymax = 0.25\n",
    "\n",
    "stp_freq = stp.copy()\n",
    "stp_freq.filter(\"bandpass\",freqmin=frequencymin , freqmax= frequencymax)\n",
    "\n",
    "stp_freqs = (stp_freq)\n",
    "#stp_freq[0].plot();\n",
    "\n"
   ]
  },
  {
   "cell_type": "code",
   "execution_count": 117,
   "id": "109c0532",
   "metadata": {
    "scrolled": true
   },
   "outputs": [
    {
     "ename": "TypeError",
     "evalue": "'numpy.float64' object is not iterable",
     "output_type": "error",
     "traceback": [
      "\u001b[0;31m---------------------------------------------------------------------------\u001b[0m",
      "\u001b[0;31mTypeError\u001b[0m                                 Traceback (most recent call last)",
      "Cell \u001b[0;32mIn[117], line 15\u001b[0m\n\u001b[1;32m     12\u001b[0m \u001b[38;5;28;01mfor\u001b[39;00m stpf \u001b[38;5;129;01min\u001b[39;00m stp_freq:\n\u001b[1;32m     14\u001b[0m     \u001b[38;5;28;01mfor\u001b[39;00m tr \u001b[38;5;129;01min\u001b[39;00m stpf:\n\u001b[0;32m---> 15\u001b[0m         maxamps \u001b[38;5;241m=\u001b[39m \u001b[38;5;28;43mmax\u001b[39;49m\u001b[43m(\u001b[49m\u001b[38;5;28;43mabs\u001b[39;49m\u001b[43m(\u001b[49m\u001b[43mtr\u001b[49m\u001b[43m)\u001b[49m\u001b[43m)\u001b[49m\n\u001b[1;32m     16\u001b[0m         dist \u001b[38;5;241m=\u001b[39m tr\u001b[38;5;241m.\u001b[39mstats\u001b[38;5;241m.\u001b[39mdistance \u001b[38;5;241m/\u001b[39m \u001b[38;5;241m1000\u001b[39m\n\u001b[1;32m     17\u001b[0m         ALLmaxamps\u001b[38;5;241m.\u001b[39mappend(maxamps)\n",
      "\u001b[0;31mTypeError\u001b[0m: 'numpy.float64' object is not iterable"
     ]
    }
   ],
   "source": [
    "# # %%\n",
    "# # use freqmaxes function to get maxamps for all traces in one frequency band\n",
    "# # compare the plots formed from the function above with previous tests in Appendix below\n",
    "\n",
    "#freqs = ([0.1,0.25],[0.25,0.5],[0.50,0.75],[0.75,1],[1,1.25])\n",
    "\n",
    "maxamps = []\n",
    "dist = []\n",
    "ALLmaxamps = [] \n",
    "dist_str = []\n",
    "\n",
    "for stpf in stp_freq:\n",
    "\n",
    "    for tr in stpf:\n",
    "        maxamps = tr.max\n",
    "        dist = tr.stats.distance / 1000\n",
    "        ALLmaxamps.append(maxamps)\n",
    "        dist_str.append(dist)\n",
    "       \n",
    "df = pd.DataFrame({\"maxamps\":ALLmaxamps,\"distance\":dist_str}) "
   ]
  },
  {
   "cell_type": "code",
   "execution_count": null,
   "id": "8c92b4e5",
   "metadata": {},
   "outputs": [],
   "source": []
  }
 ],
 "metadata": {
  "kernelspec": {
   "display_name": "Python 3 (ipykernel)",
   "language": "python",
   "name": "python3"
  },
  "language_info": {
   "codemirror_mode": {
    "name": "ipython",
    "version": 3
   },
   "file_extension": ".py",
   "mimetype": "text/x-python",
   "name": "python",
   "nbconvert_exporter": "python",
   "pygments_lexer": "ipython3",
   "version": "3.11.0"
  }
 },
 "nbformat": 4,
 "nbformat_minor": 5
}
