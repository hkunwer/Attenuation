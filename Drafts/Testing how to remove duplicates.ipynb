{
 "cells": [
  {
   "cell_type": "code",
   "execution_count": 4,
   "id": "7eae20f3",
   "metadata": {},
   "outputs": [
    {
     "name": "stdout",
     "output_type": "stream",
     "text": [
      "   col1 col2  col3 col4  col5\n",
      "0     1    a    10    X     5\n",
      "1     2    b    20    Y    10\n",
      "2     3    c    30    Z    15\n",
      "3     1    a    10    X     5\n",
      "4     2    b    20    Y    10\n",
      "   col1 col2  col3 col4  col5\n",
      "0     1    a    10    X     5\n",
      "1     2    b    20    Y    10\n",
      "2     3    c    30    Z    15\n"
     ]
    }
   ],
   "source": [
    "import pandas as pd\n",
    "\n",
    "# Sample DataFrame\n",
    "data = {'col1': [1, 2, 3, 1, 2],\n",
    "        'col2': ['a', 'b', 'c', 'a', 'b'],\n",
    "        'col3': [10, 20, 30, 10, 20],\n",
    "        'col4': ['X', 'Y', 'Z', 'X', 'Y'],\n",
    "        'col5': [5, 10, 15, 5, 10]}\n",
    "\n",
    "df = pd.DataFrame(data)\n",
    "print(df)\n",
    "\n",
    "# Drop duplicates based on all columns\n",
    "df_no_duplicates = df.drop_duplicates(subset=df.columns.tolist())\n",
    "\n",
    "print(df_no_duplicates)\n"
   ]
  },
  {
   "cell_type": "code",
   "execution_count": 6,
   "id": "9355a3db",
   "metadata": {},
   "outputs": [
    {
     "name": "stdout",
     "output_type": "stream",
     "text": [
      "   col1 col2  col3 col4  col5\n",
      "0     1    a    10    X     5\n",
      "1     2    b    20    Y    10\n",
      "2     3    c    30    Z    15\n",
      "3     1    a    10    X     5\n",
      "4     2    b    20    Y    10\n",
      "   col1 col2  col3 col4  col5\n",
      "2     3    c    30    Z    15\n"
     ]
    }
   ],
   "source": [
    "import pandas as pd\n",
    "\n",
    "# Sample DataFrame\n",
    "data = {'col1': [1, 2, 3, 1, 2],\n",
    "        'col2': ['a', 'b', 'c', 'a', 'b'],\n",
    "        'col3': [10, 20, 30, 10, 20],\n",
    "        'col4': ['X', 'Y', 'Z', 'X', 'Y'],\n",
    "        'col5': [5, 10, 15, 5, 10]}\n",
    "\n",
    "df = pd.DataFrame(data)\n",
    "print(df)\n",
    "# Find and drop rows where all values are identical\n",
    "df_no_duplicates = df[~df.duplicated(keep=False)]\n",
    "\n",
    "print(df_no_duplicates)\n"
   ]
  },
  {
   "cell_type": "code",
   "execution_count": 11,
   "id": "16d91e4a",
   "metadata": {},
   "outputs": [
    {
     "name": "stdout",
     "output_type": "stream",
     "text": [
      "   col1 col2  col3 col4  col5\n",
      "0     1    a    10    X     5\n",
      "1     2    c    20    Y    10\n",
      "2     1    a    10    X     5\n",
      "3     1    c    15    X     5\n",
      "4     2    b    20    Y    10\n",
      "   col1 col2  col3 col4  col5\n",
      "0     1    a    10    X     5\n",
      "1     2    c    20    Y    10\n",
      "3     1    c    15    X     5\n",
      "4     2    b    20    Y    10\n"
     ]
    }
   ],
   "source": [
    "import pandas as pd\n",
    "\n",
    "# Sample DataFrame\n",
    "data = {'col1': [1, 2, 1, 1, 2],\n",
    "        'col2': ['a', 'c', 'a', 'c', 'b'],\n",
    "        'col3': [10, 20, 10, 15, 20],\n",
    "        'col4': ['X', 'Y', 'X', 'X', 'Y'],\n",
    "        'col5': [5, 10, 5, 5, 10]}\n",
    "\n",
    "df = pd.DataFrame(data)\n",
    "print(df)\n",
    "\n",
    "# Drop rows where all columns are identical\n",
    "df_no_duplicates = df.drop_duplicates()\n",
    "\n",
    "print(df_no_duplicates)"
   ]
  },
  {
   "cell_type": "code",
   "execution_count": null,
   "id": "111f38fa",
   "metadata": {},
   "outputs": [],
   "source": []
  }
 ],
 "metadata": {
  "kernelspec": {
   "display_name": "Python 3 (ipykernel)",
   "language": "python",
   "name": "python3"
  },
  "language_info": {
   "codemirror_mode": {
    "name": "ipython",
    "version": 3
   },
   "file_extension": ".py",
   "mimetype": "text/x-python",
   "name": "python",
   "nbconvert_exporter": "python",
   "pygments_lexer": "ipython3",
   "version": "3.11.0"
  }
 },
 "nbformat": 4,
 "nbformat_minor": 5
}
