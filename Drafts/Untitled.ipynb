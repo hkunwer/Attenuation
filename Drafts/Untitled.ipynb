{
 "cells": [
  {
   "cell_type": "code",
   "execution_count": 4,
   "id": "caa66f42",
   "metadata": {},
   "outputs": [
    {
     "name": "stdout",
     "output_type": "stream",
     "text": [
      "                      stations\n",
      "0  [RS107, 18.00009, -67.0009]\n",
      "1  [RS108, 19.00009, -68.0009]\n",
      "  station  latitude  longitude\n",
      "0     NaN       NaN        NaN\n",
      "1     NaN       NaN        NaN\n"
     ]
    }
   ],
   "source": [
    "import pandas as pd\n",
    "\n",
    "# Sample DataFrame\n",
    "data = {'stations': ['[RS107, 18.00009, -67.0009]', '[RS108, 19.00009, -68.0009]']}\n",
    "df = pd.DataFrame(data)\n",
    "print(df)\n",
    "\n",
    "# Use str.extract() with a regular expression to split the column\n",
    "df[['station', 'latitude', 'longitude']] = df['stations'].str.extract(r'^(.*?),\\s+([\\d.-]+),\\s+([\\d.-]+)$')\n",
    "\n",
    "# Drop the original 'stations' column\n",
    "df.drop(columns=['stations'], inplace=True)\n",
    "\n",
    "# Convert 'latitude' and 'longitude' columns to float\n",
    "df['latitude'] = df['latitude'].astype(float)\n",
    "df['longitude'] = df['longitude'].astype(float)\n",
    "\n",
    "# Display the resulting DataFrame\n",
    "print(df)\n"
   ]
  },
  {
   "cell_type": "code",
   "execution_count": 11,
   "id": "daf37d98",
   "metadata": {},
   "outputs": [
    {
     "data": {
      "text/html": [
       "<div>\n",
       "<style scoped>\n",
       "    .dataframe tbody tr th:only-of-type {\n",
       "        vertical-align: middle;\n",
       "    }\n",
       "\n",
       "    .dataframe tbody tr th {\n",
       "        vertical-align: top;\n",
       "    }\n",
       "\n",
       "    .dataframe thead th {\n",
       "        text-align: right;\n",
       "    }\n",
       "</style>\n",
       "<table border=\"1\" class=\"dataframe\">\n",
       "  <thead>\n",
       "    <tr style=\"text-align: right;\">\n",
       "      <th></th>\n",
       "      <th>station</th>\n",
       "      <th>stations</th>\n",
       "      <th>latitude</th>\n",
       "      <th>longitude</th>\n",
       "    </tr>\n",
       "  </thead>\n",
       "  <tbody>\n",
       "    <tr>\n",
       "      <th>0</th>\n",
       "      <td>[RS107, 18.00009, -67.0009]</td>\n",
       "      <td>RS107</td>\n",
       "      <td>18.00009</td>\n",
       "      <td>-67.0009</td>\n",
       "    </tr>\n",
       "    <tr>\n",
       "      <th>1</th>\n",
       "      <td>[RS108, 19.00009, -68.0009]</td>\n",
       "      <td>RS108</td>\n",
       "      <td>19.00009</td>\n",
       "      <td>-68.0009</td>\n",
       "    </tr>\n",
       "  </tbody>\n",
       "</table>\n",
       "</div>"
      ],
      "text/plain": [
       "                       station stations  latitude  longitude\n",
       "0  [RS107, 18.00009, -67.0009]    RS107  18.00009   -67.0009\n",
       "1  [RS108, 19.00009, -68.0009]    RS108  19.00009   -68.0009"
      ]
     },
     "execution_count": 11,
     "metadata": {},
     "output_type": "execute_result"
    }
   ],
   "source": [
    "import pandas as pd\n",
    "\n",
    "# Sample DataFrame with data enclosed in square brackets\n",
    "data = {'station': ['[RS107, 18.00009, -67.0009]', '[RS108, 19.00009, -68.0009]']}\n",
    "df = pd.DataFrame(data)\n",
    "df\n",
    "\n",
    "# Use str.extract() with a regular expression to split the column\n",
    "df[['stations', 'latitude', 'longitude']] = df['station'].str.extract(r'\\[(.*?),\\s+([\\d.-]+),\\s+([\\d.-]+)\\]')\n",
    "df\n",
    "# # Drop the original 'stations' column\n",
    "# # df.drop(columns=['station'], inplace=True)\n",
    "\n",
    "# # Convert 'latitude' and 'longitude' columns to float\n",
    "# df['latitude'] = df['latitude'].astype(float)\n",
    "# df['longitude'] = df['longitude'].astype(float)\n",
    "# df\n",
    "# # Display the resulting DataFrame\n",
    "# print(df)\n"
   ]
  },
  {
   "cell_type": "code",
   "execution_count": 13,
   "id": "4e365a7f",
   "metadata": {},
   "outputs": [
    {
     "data": {
      "text/html": [
       "<div>\n",
       "<style scoped>\n",
       "    .dataframe tbody tr th:only-of-type {\n",
       "        vertical-align: middle;\n",
       "    }\n",
       "\n",
       "    .dataframe tbody tr th {\n",
       "        vertical-align: top;\n",
       "    }\n",
       "\n",
       "    .dataframe thead th {\n",
       "        text-align: right;\n",
       "    }\n",
       "</style>\n",
       "<table border=\"1\" class=\"dataframe\">\n",
       "  <thead>\n",
       "    <tr style=\"text-align: right;\">\n",
       "      <th></th>\n",
       "      <th>station</th>\n",
       "      <th>latitude</th>\n",
       "      <th>longitude</th>\n",
       "    </tr>\n",
       "  </thead>\n",
       "  <tbody>\n",
       "    <tr>\n",
       "      <th>0</th>\n",
       "      <td>RS107</td>\n",
       "      <td>18.00009</td>\n",
       "      <td>-67.0009</td>\n",
       "    </tr>\n",
       "    <tr>\n",
       "      <th>1</th>\n",
       "      <td>RS108</td>\n",
       "      <td>19.00009</td>\n",
       "      <td>-68.0009</td>\n",
       "    </tr>\n",
       "  </tbody>\n",
       "</table>\n",
       "</div>"
      ],
      "text/plain": [
       "  station  latitude  longitude\n",
       "0   RS107  18.00009   -67.0009\n",
       "1   RS108  19.00009   -68.0009"
      ]
     },
     "execution_count": 13,
     "metadata": {},
     "output_type": "execute_result"
    }
   ],
   "source": [
    "import pandas as pd\n",
    "\n",
    "# Sample DataFrame with data enclosed in square brackets\n",
    "data = {'stations': ['[RS107, 18.00009, -67.0009]', '[RS108, 19.00009, -68.0009]']}\n",
    "df = pd.DataFrame(data)\n",
    "\n",
    "# Use str.extract() with a regular expression to split the column\n",
    "df[['station', 'latitude', 'longitude']] = df['stations'].str.extract(r'\\[(.*?),\\s+([\\d.-]+),\\s+([\\d.-]+)\\]')\n",
    "\n",
    "# Drop the original 'stations' column\n",
    "df.drop(columns=['stations'], inplace=True)\n",
    "\n",
    "# Convert 'latitude' and 'longitude' columns to float\n",
    "df['latitude'] = df['latitude'].astype(float)\n",
    "df['longitude'] = df['longitude'].astype(float)\n",
    "\n",
    "# Display the resulting DataFrame\n",
    "df\n"
   ]
  },
  {
   "cell_type": "code",
   "execution_count": null,
   "id": "dfb74646",
   "metadata": {},
   "outputs": [],
   "source": []
  }
 ],
 "metadata": {
  "kernelspec": {
   "display_name": "Python 3 (ipykernel)",
   "language": "python",
   "name": "python3"
  },
  "language_info": {
   "codemirror_mode": {
    "name": "ipython",
    "version": 3
   },
   "file_extension": ".py",
   "mimetype": "text/x-python",
   "name": "python",
   "nbconvert_exporter": "python",
   "pygments_lexer": "ipython3",
   "version": "3.11.0"
  }
 },
 "nbformat": 4,
 "nbformat_minor": 5
}
