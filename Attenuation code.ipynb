{
 "cells": [
  {
   "cell_type": "code",
   "execution_count": 1,
   "id": "b3b54fd1",
   "metadata": {},
   "outputs": [],
   "source": [
    "import os\n",
    "from locale import setlocale\n",
    "import pandas as pd \n",
    "import matplotlib.pyplot as plt\n",
    "import numpy as np\n",
    "from numpy import sin,cos,arcsin,sqrt,abs,pi,log10,exp\n",
    "from scipy.fftpack import fft,ifft\n",
    "from scipy.io import wavfile\n",
    "from scipy.stats import gmean \n",
    "from tqdm import tqdm\n",
    "from compress_pickle import dump as cpkldump # reading/writing compressed pickles\n",
    "from compress_pickle import load as cpklload # reading/writing compressed pickles\n",
    "#obspy\n",
    "from obspy import UTCDateTime\n",
    "from obspy.taup import TauPyModel\n",
    "model = TauPyModel(model=\"iasp91\")\n",
    "#rtergpy\n",
    "from rtergpy.run import defaults, event, etime2name, src2ergs\n",
    "from rtergpy.waveforms import getwaves, get_respinv\n",
    "#attenuation\n",
    "from AttenuationFunctions import processANSS, maximumAmplitude"
   ]
  },
  {
   "cell_type": "code",
   "execution_count": 2,
   "id": "8921edcd",
   "metadata": {},
   "outputs": [
    {
     "name": "stdout",
     "output_type": "stream",
     "text": [
      "\n",
      "\n",
      "2022012400 ===============================\n",
      "ERROR:  coudn't move directory to  /Users/hkunwer/Documents/research/EQenergy/events/2022/2022012400/RS.bak\n",
      "Error:  Couldn't create directory:  /Users/hkunwer/Documents/research/EQenergy/events/2022/2022012400/RS\n",
      "Checking for stations available within range from IRIS\n",
      "Getting waves from RASPISHAKE\n"
     ]
    },
    {
     "name": "stderr",
     "output_type": "stream",
     "text": [
      "\r",
      "  0%|                                                    | 0/28 [00:00<?, ?it/s]"
     ]
    },
    {
     "name": "stdout",
     "output_type": "stream",
     "text": [
      "10.0 18.4578 -73.3389 18.52252252 -72.24929548\n"
     ]
    },
    {
     "name": "stderr",
     "output_type": "stream",
     "text": [
      "\r",
      "  4%|█▌                                          | 1/28 [00:01<00:35,  1.30s/it]"
     ]
    },
    {
     "name": "stdout",
     "output_type": "stream",
     "text": [
      "10.0 18.4578 -73.3389 25.92792793 -80.41194326\n"
     ]
    },
    {
     "name": "stderr",
     "output_type": "stream",
     "text": [
      "\r",
      "  7%|███▏                                        | 2/28 [00:02<00:30,  1.17s/it]"
     ]
    },
    {
     "name": "stdout",
     "output_type": "stream",
     "text": [
      "10.0 18.4578 -73.3389 25.88288288 -80.36355577\n"
     ]
    },
    {
     "name": "stderr",
     "output_type": "stream",
     "text": [
      "\r",
      " 11%|████▋                                       | 3/28 [00:03<00:28,  1.15s/it]"
     ]
    },
    {
     "name": "stdout",
     "output_type": "stream",
     "text": [
      "10.0 18.4578 -73.3389 18.12612613 -67.10740855\n"
     ]
    },
    {
     "name": "stderr",
     "output_type": "stream",
     "text": [
      "\r",
      " 14%|██████▎                                     | 4/28 [00:04<00:27,  1.14s/it]"
     ]
    },
    {
     "name": "stdout",
     "output_type": "stream",
     "text": [
      "10.0 18.4578 -73.3389 25.93693694 -80.33003527\n"
     ]
    },
    {
     "name": "stderr",
     "output_type": "stream",
     "text": [
      "\r",
      " 18%|███████▊                                    | 5/28 [00:05<00:26,  1.14s/it]"
     ]
    },
    {
     "name": "stdout",
     "output_type": "stream",
     "text": [
      "10.0 18.4578 -73.3389 18.45945946 -66.34149666\n"
     ]
    },
    {
     "name": "stderr",
     "output_type": "stream",
     "text": [
      "\r",
      " 21%|█████████▍                                  | 6/28 [00:06<00:24,  1.13s/it]"
     ]
    },
    {
     "name": "stdout",
     "output_type": "stream",
     "text": [
      "10.0 18.4578 -73.3389 18.44144144 -66.00258091\n"
     ]
    },
    {
     "name": "stderr",
     "output_type": "stream",
     "text": [
      "\r",
      " 25%|███████████                                 | 7/28 [00:08<00:24,  1.17s/it]"
     ]
    },
    {
     "name": "stdout",
     "output_type": "stream",
     "text": [
      "10.0 18.4578 -73.3389 18.01801802 -66.83860199\n"
     ]
    },
    {
     "name": "stderr",
     "output_type": "stream",
     "text": [
      "\r",
      " 29%|████████████▌                               | 8/28 [00:09<00:23,  1.18s/it]"
     ]
    },
    {
     "name": "stdout",
     "output_type": "stream",
     "text": [
      "10.0 18.4578 -73.3389 18.45945946 -69.90366697\n"
     ]
    },
    {
     "name": "stderr",
     "output_type": "stream",
     "text": [
      "\r",
      " 32%|██████████████▏                             | 9/28 [00:10<00:21,  1.12s/it]"
     ]
    },
    {
     "name": "stdout",
     "output_type": "stream",
     "text": [
      "AM.R4EEE.00.EHZ failed to download. Continuing..\n",
      "10.0 18.4578 -73.3389 18.97297297 -69.03229849\n"
     ]
    },
    {
     "name": "stderr",
     "output_type": "stream",
     "text": [
      "\r",
      " 36%|███████████████▎                           | 10/28 [00:11<00:19,  1.08s/it]"
     ]
    },
    {
     "name": "stdout",
     "output_type": "stream",
     "text": [
      "AM.R54B1.00.EHZ failed to download. Continuing..\n",
      "10.0 18.4578 -73.3389 25.91891892 -80.32294168\n"
     ]
    },
    {
     "name": "stderr",
     "output_type": "stream",
     "text": [
      "\r",
      " 39%|████████████████▉                          | 11/28 [00:12<00:18,  1.10s/it]"
     ]
    },
    {
     "name": "stdout",
     "output_type": "stream",
     "text": [
      "10.0 18.4578 -73.3389 18.45945946 -67.11405725\n"
     ]
    },
    {
     "name": "stderr",
     "output_type": "stream",
     "text": [
      "\r",
      " 43%|██████████████████▍                        | 12/28 [00:13<00:17,  1.08s/it]"
     ]
    },
    {
     "name": "stdout",
     "output_type": "stream",
     "text": [
      "AM.R804D.00.EHZ failed to download. Continuing..\n",
      "10.0 18.4578 -73.3389 25.9009009 -80.35088029\n"
     ]
    },
    {
     "name": "stderr",
     "output_type": "stream",
     "text": [
      "\r",
      " 46%|███████████████████▉                       | 13/28 [00:14<00:16,  1.13s/it]"
     ]
    },
    {
     "name": "stdout",
     "output_type": "stream",
     "text": [
      "10.0 18.4578 -73.3389 19.81981982 -70.72312982\n"
     ]
    },
    {
     "name": "stderr",
     "output_type": "stream",
     "text": [
      "\r",
      " 50%|█████████████████████▌                     | 14/28 [00:15<00:16,  1.17s/it]"
     ]
    },
    {
     "name": "stdout",
     "output_type": "stream",
     "text": [
      "10.0 18.4578 -73.3389 19.76576577 -72.19072395\n"
     ]
    },
    {
     "name": "stderr",
     "output_type": "stream",
     "text": [
      "\r",
      " 54%|███████████████████████                    | 15/28 [00:16<00:14,  1.11s/it]"
     ]
    },
    {
     "name": "stdout",
     "output_type": "stream",
     "text": [
      "AM.RA887.00.EHZ failed to download. Continuing..\n",
      "10.0 18.4578 -73.3389 18.20720721 -66.22838073\n"
     ]
    },
    {
     "name": "stderr",
     "output_type": "stream",
     "text": [
      "\r",
      " 57%|████████████████████████▌                  | 16/28 [00:18<00:13,  1.12s/it]"
     ]
    },
    {
     "name": "stdout",
     "output_type": "stream",
     "text": [
      "10.0 18.4578 -73.3389 25.97297297 -80.37233493\n"
     ]
    },
    {
     "name": "stderr",
     "output_type": "stream",
     "text": [
      "\r",
      " 61%|██████████████████████████                 | 17/28 [00:19<00:12,  1.12s/it]"
     ]
    },
    {
     "name": "stdout",
     "output_type": "stream",
     "text": [
      "10.0 18.4578 -73.3389 25.99099099 -80.33726338\n"
     ]
    },
    {
     "name": "stderr",
     "output_type": "stream",
     "text": [
      "\r",
      " 64%|███████████████████████████▋               | 18/28 [00:20<00:11,  1.12s/it]"
     ]
    },
    {
     "name": "stdout",
     "output_type": "stream",
     "text": [
      "10.0 18.4578 -73.3389 25.93693694 -80.33003527\n"
     ]
    },
    {
     "name": "stderr",
     "output_type": "stream",
     "text": [
      "\r",
      " 68%|█████████████████████████████▏             | 19/28 [00:21<00:10,  1.11s/it]"
     ]
    },
    {
     "name": "stdout",
     "output_type": "stream",
     "text": [
      "10.0 18.4578 -73.3389 17.99099099 -66.61079735\n"
     ]
    },
    {
     "name": "stderr",
     "output_type": "stream",
     "text": [
      "\r",
      " 71%|██████████████████████████████▋            | 20/28 [00:22<00:09,  1.16s/it]"
     ]
    },
    {
     "name": "stdout",
     "output_type": "stream",
     "text": [
      "10.0 18.4578 -73.3389 18.08108108 -67.03136089\n"
     ]
    },
    {
     "name": "stderr",
     "output_type": "stream",
     "text": [
      "\r",
      " 75%|████████████████████████████████▎          | 21/28 [00:23<00:08,  1.15s/it]"
     ]
    },
    {
     "name": "stdout",
     "output_type": "stream",
     "text": [
      "10.0 18.4578 -73.3389 19.77477477 -72.22637702\n"
     ]
    },
    {
     "name": "stderr",
     "output_type": "stream",
     "text": [
      "\r",
      " 79%|█████████████████████████████████▊         | 22/28 [00:24<00:06,  1.10s/it]"
     ]
    },
    {
     "name": "stdout",
     "output_type": "stream",
     "text": [
      "AM.RD269.00.EHZ failed to download. Continuing..\n",
      "10.0 18.4578 -73.3389 18.1981982 -71.1000091\n"
     ]
    },
    {
     "name": "stderr",
     "output_type": "stream",
     "text": [
      "\r",
      " 82%|███████████████████████████████████▎       | 23/28 [00:26<00:05,  1.15s/it]"
     ]
    },
    {
     "name": "stdout",
     "output_type": "stream",
     "text": [
      "10.0 18.4578 -73.3389 18.36036036 -66.17987632\n"
     ]
    },
    {
     "name": "stderr",
     "output_type": "stream",
     "text": [
      "\r",
      " 86%|████████████████████████████████████▊      | 24/28 [00:27<00:04,  1.18s/it]"
     ]
    },
    {
     "name": "stdout",
     "output_type": "stream",
     "text": [
      "10.0 18.4578 -73.3389 18.27927928 -66.33100902\n"
     ]
    },
    {
     "name": "stderr",
     "output_type": "stream",
     "text": [
      "\r",
      " 89%|██████████████████████████████████████▍    | 25/28 [00:28<00:03,  1.12s/it]"
     ]
    },
    {
     "name": "stdout",
     "output_type": "stream",
     "text": [
      "AM.RD66A.00.EHZ failed to download. Continuing..\n",
      "10.0 18.4578 -73.3389 18.41441441 -68.93603553\n"
     ]
    },
    {
     "name": "stderr",
     "output_type": "stream",
     "text": [
      "\r",
      " 93%|███████████████████████████████████████▉   | 26/28 [00:29<00:02,  1.14s/it]"
     ]
    },
    {
     "name": "stdout",
     "output_type": "stream",
     "text": [
      "10.0 18.4578 -73.3389 18.30630631 -66.07594445\n"
     ]
    },
    {
     "name": "stderr",
     "output_type": "stream",
     "text": [
      "\r",
      " 96%|█████████████████████████████████████████▍ | 27/28 [00:30<00:01,  1.09s/it]"
     ]
    },
    {
     "name": "stdout",
     "output_type": "stream",
     "text": [
      "AM.S4051.00.EHZ failed to download. Continuing..\n",
      "10.0 18.4578 -73.3389 18.08108108 -67.04209886\n"
     ]
    },
    {
     "name": "stderr",
     "output_type": "stream",
     "text": [
      "100%|███████████████████████████████████████████| 28/28 [00:31<00:00,  1.12s/it]"
     ]
    },
    {
     "name": "stdout",
     "output_type": "stream",
     "text": [
      "AM.S897D.00.EHZ failed to download. Continuing..\n",
      "rPtime =  60.0\n",
      "Trace SNR =  33507.00153670628 1\n"
     ]
    },
    {
     "name": "stderr",
     "output_type": "stream",
     "text": [
      "\n"
     ]
    },
    {
     "name": "stdout",
     "output_type": "stream",
     "text": [
      "Trace SNR =  1.9535977173105086 2\n",
      "Trace SNR =  1.1190312407952294 3\n",
      "Trace SNR =  480.8589546770031 4\n",
      "Trace SNR =  1.4192637527994663 5\n",
      "Trace SNR =  82.47129498163677 6\n",
      "Trace SNR =  1.29898385468013 7\n",
      "Trace SNR =  191.81053272544594 8\n",
      "Trace SNR =  1.3713020620842287 9\n",
      "Trace SNR =  0.9804724314212754 10\n",
      "Trace SNR =  13951.268120281064 11\n",
      "Trace SNR =  175.1629656881115 12\n",
      "Trace SNR =  1.427339646787087 13\n",
      "Trace SNR =  1.2224276212058625 14\n",
      "Trace SNR =  1.4254295476506453 15\n",
      "Trace SNR =  3.306360285749013 16\n",
      "Trace SNR =  176.94027532811185 17\n",
      "Trace SNR =  166888.31896330457 18\n",
      "Trace SNR =  6.006171446784444 19\n",
      "Trace SNR =  416.22344514400004 20\n",
      "9  of  20 traces were kept above SNR threshold 10.0\n",
      "writing  /Users/hkunwer/Documents/research/EQenergy/events/2022/2022012400/RS/pkls/Params_2022012400.pkl \n",
      " /Users/hkunwer/Documents/research/EQenergy/events/2022/2022012400/RS/Params_2022012400.csv\n",
      "writing  /Users/hkunwer/Documents/research/EQenergy/events/2022/2022012400/RS/pkls/Wavestream-raw_2022012400.pkl\n"
     ]
    }
   ],
   "source": [
    "# Processing and Reading information about event stored in ANSS_data.txt\n",
    "Defaults = defaults()\n",
    "Event = event()\n",
    "Defaults.src=\"RASPISHAKE\"\n",
    "Defaults.network=\"AM\"\n",
    "Defaults.chan=\"EHZ\"\n",
    "Defaults.stationrange=[1.,10.]\n",
    "Event.ecount='00'\n",
    "Event.iter='RS'\n",
    "# Event.newData = False   # use already downloaded data\n",
    "Event.newData=False\n",
    "edateold=\"\"\n",
    "processANSS() #process to remove unneccesary information\n",
    "# ANSS = pd.read_csv('ANSS_processed_data.csv', sep=',', comment='#')\n",
    "ANSS = pd.read_csv('ANSS_processed_data.csv')\n",
    "#print(ANSS) #Just to check if processing correctly\n",
    "# run everything above to test on command line\n",
    "for index, EQ in ANSS.iterrows():\n",
    "    network = \"AM\"\n",
    "    chan = \"EHZ\"\n",
    "    src = \"RASPISHAKE\"\n",
    "    rads = [1.,10.]\n",
    "    eloc = [EQ.Latitude,EQ.Longitude,EQ.Depth] \n",
    "    MagType = [EQ.Mtype]\n",
    "    MagValue = [EQ.Mag]\n",
    "    Magnitude = [MagType, MagValue]\n",
    "    year,mo,dy = EQ.Date.split('-')\n",
    "    hh,mn,sec = EQ.Time.split(':')\n",
    "    etime=(UTCDateTime(int(year),int(mo),int(dy),int(hh),int(mn),float(sec)))\n",
    "    \n",
    "    if EQ.Date == edateold:\n",
    "        Event.ecount=str(int(Event.ecount)+1).zfill(2)\n",
    "    else:\n",
    "        Event.ecount='00'\n",
    "    edateold=EQ.Date\n",
    "    Event.eventname=etime2name(etime,ecount=Event.ecount)\n",
    "    Event.origin=[eloc,etime]\n",
    "\n",
    "    print(\"\\n\\n\"+Event.eventname+\" ===============================\")\n",
    "    try:\n",
    "        st, df = [], []\n",
    "        st, df = getwaves(Defaults=Defaults,Event=Event)\n",
    "    except:\n",
    "        print(\"ERROR: running on \"+Event.eventname+\" failed!!!!\\n\\n\")\n",
    "              \n",
    "# make an inventory incase needed. \n",
    "inventory = get_respinv(network,eloc,etime,rads,chan,src)"
   ]
  },
  {
   "cell_type": "code",
   "execution_count": 24,
   "id": "49300d7c",
   "metadata": {},
   "outputs": [
    {
     "data": {
      "text/plain": [
       "9 Trace(s) in Stream:\n",
       "AM.R0306.00.EHZ | 2022-01-24T13:15:43.425999Z - 2022-01-24T13:21:43.425999Z | 100.0 Hz, 36001 samples\n",
       "AM.R2974.00.EHZ | 2022-01-24T13:16:51.211999Z - 2022-01-24T13:22:51.211999Z | 100.0 Hz, 36001 samples\n",
       "AM.R34A9.00.EHZ | 2022-01-24T13:17:00.989999Z - 2022-01-24T13:23:00.989999Z | 100.0 Hz, 36001 samples\n",
       "AM.R4DB9.00.EHZ | 2022-01-24T13:16:54.835000Z - 2022-01-24T13:22:54.835000Z | 100.0 Hz, 36001 samples\n",
       "AM.RA08A.00.EHZ | 2022-01-24T13:16:08.553000Z - 2022-01-24T13:22:08.553000Z | 100.0 Hz, 36001 samples\n",
       "AM.RA9CF.00.EHZ | 2022-01-24T13:17:02.590000Z - 2022-01-24T13:23:02.590000Z | 100.0 Hz, 36001 samples\n",
       "AM.RD17E.00.EHZ | 2022-01-24T13:16:52.256999Z - 2022-01-24T13:22:52.256999Z | 100.0 Hz, 36001 samples\n",
       "AM.RD4D8.00.EHZ | 2022-01-24T13:16:06.957000Z - 2022-01-24T13:21:59.197000Z | 100.0 Hz, 35225 samples\n",
       "AM.RE001.00.EHZ | 2022-01-24T13:16:27.183000Z - 2022-01-24T13:22:27.183000Z | 100.0 Hz, 36001 samples"
      ]
     },
     "execution_count": 24,
     "metadata": {},
     "output_type": "execute_result"
    }
   ],
   "source": [
    "# filter for instrument response and taper\n",
    "taper=0.05\n",
    "stp = st.copy()  # create backup\n",
    "\n",
    "# process data (maybe make this into a function)\n",
    "stp.detrend(type='polynomial', order=5) # pre-instrument removal\n",
    "stp.taper(taper)\n",
    "stp.remove_response(output=\"DISP\")\n",
    "stp.detrend(type='polynomial', order=5) # post-instrument removal\n",
    "stp.taper(taper)"
   ]
  },
  {
   "cell_type": "code",
   "execution_count": 25,
   "id": "bcc66bda",
   "metadata": {},
   "outputs": [],
   "source": [
    "# Calculate the max amplitude for each. Put in seperate dataframes so you can discriminate\n",
    "# in plot easier. \n",
    "# need to automate this in some way maybe?\n",
    "\n",
    "# frequency band 1: 0.10-0.25Hz\n",
    "frequencymin = 0.1\n",
    "frequencymax = 0.25\n",
    "maxamps, dist_str = maximumAmplitude(stp,frequencymin,frequencymax)\n",
    "df_freq1 = pd.DataFrame({\"maxamps\":maxamps,\"distance\":dist_str}) \n",
    "\n",
    "# frequency band 2: 0.25-0.5Hz\n",
    "frequencymin = 0.25\n",
    "frequencymax = 0.50\n",
    "maxamps, dist_str = maximumAmplitude(stp,frequencymin,frequencymax)\n",
    "df_freq2 = pd.DataFrame({\"maxamps\":maxamps,\"distance\":dist_str}) \n",
    "\n",
    "# frequency band 3: 0.50-0.75Hz\n",
    "frequencymin = 0.50\n",
    "frequencymax = 0.75\n",
    "maxamps, dist_str = maximumAmplitude(stp,frequencymin,frequencymax)\n",
    "df_freq3 = pd.DataFrame({\"maxamps\":maxamps,\"distance\":dist_str}) \n",
    "\n",
    "# frequency band 4: 0.75-1Hz\n",
    "frequencymin = 0.75\n",
    "frequencymax = 1.00\n",
    "maxamps, dist_str = maximumAmplitude(stp,frequencymin,frequencymax)\n",
    "df_freq4 = pd.DataFrame({\"maxamps\":maxamps,\"distance\":dist_str}) \n",
    "\n",
    "# frequency band 5: 1-1.25Hz\n",
    "frequencymin = 1\n",
    "frequencymax = 1.25\n",
    "maxamps, dist_str = maximumAmplitude(stp,frequencymin,frequencymax)\n",
    "df_freq5 = pd.DataFrame({\"maxamps\":maxamps,\"distance\":dist_str}) "
   ]
  },
  {
   "cell_type": "code",
   "execution_count": 27,
   "id": "a1ae27f5",
   "metadata": {},
   "outputs": [
    {
     "data": {
      "image/png": "[encoded data removed]",
      "text/plain": [
       "<Figure size 1000x600 with 1 Axes>"
      ]
     },
     "metadata": {},
     "output_type": "display_data"
    }
   ],
   "source": [
    "# Create a scatter plot\n",
    "\n",
    "plt.figure(figsize=(10, 6))\n",
    "plt.scatter(df_freq1['distance'], df_freq1['maxamps'], c='blue', label='0.10-0.25Hz')\n",
    "plt.scatter(df_freq2['distance'], df_freq2['maxamps'], c='red', label='0.25-0.50Hz')\n",
    "plt.scatter(df_freq3['distance'], df_freq3['maxamps'], c='purple', label='0.50-0.75Hz')\n",
    "plt.scatter(df_freq4['distance'], df_freq4['maxamps'], c='orange', label='0.75-1.00Hz')\n",
    "plt.scatter(df_freq5['distance'], df_freq5['maxamps'], c='green', label=str(frequencymin)+'-'+str(frequencymax)+'Hz')\n",
    "plt.xlabel('Distance (km)')\n",
    "plt.ylabel('Max amplitude (Log scale)')\n",
    "plt.yscale('log')\n",
    "plt.title('The Max Amplitude for 20220124131623')\n",
    "plt.legend()\n",
    "plt.grid(True)\n",
    "plt.show()\n",
    "\n",
    "#we see that 0.25-0.50Hz has highest log max amplitude, and lowest \n",
    "#max amplitude is for the 1-1.25Hz bandpass. \n",
    "#the lowest filter 0.1-0.25 might have been too low and shows a mid\n",
    "#to second place max amplitude. \n",
    "# One of the stations is far higher/further than others. Doesnt show same\n",
    "# same trend (lower amp as it moves further from source)"
   ]
  },
  {
   "cell_type": "code",
   "execution_count": 11,
   "id": "2d5e34af",
   "metadata": {},
   "outputs": [],
   "source": [
    "# next steps!\n",
    "# do all this for broadband and compare to this data (expect 0.10-0.25Hz to be highest max amps for this)\n",
    "# automate the max amps collection, create functions so its small code like andy's\n",
    "# automate naming and plotting too!!!\n",
    "# make a spreadsheet of sort that collects the data we need. \n",
    "# Each row is a trace, column headers: station, event, magnitude, mag type, max amplitude, distance,\n",
    "# normalize all the other information for our 0.25-0.5Hz"
   ]
  }
 ],
 "metadata": {
  "kernelspec": {
   "display_name": "Python 3 (ipykernel)",
   "language": "python",
   "name": "python3"
  },
  "language_info": {
   "codemirror_mode": {
    "name": "ipython",
    "version": 3
   },
   "file_extension": ".py",
   "mimetype": "text/x-python",
   "name": "python",
   "nbconvert_exporter": "python",
   "pygments_lexer": "ipython3",
   "version": "3.11.0"
  }
 },
 "nbformat": 4,
 "nbformat_minor": 5
}
